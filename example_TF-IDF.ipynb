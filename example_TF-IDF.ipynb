{
 "cells": [
  {
   "cell_type": "code",
   "execution_count": 1,
   "metadata": {},
   "outputs": [],
   "source": [
    "from pyserver.model.TFIDF_TextRank.tfidf import TFIDF\n",
    "from pyserver.webScrap import webScrap\n",
    "from IPython.core.display import display, HTML\n",
    "import warnings\n",
    "warnings.simplefilter(\"ignore\", UserWarning)"
   ]
  },
  {
   "cell_type": "code",
   "execution_count": 2,
   "metadata": {},
   "outputs": [
    {
     "data": {
      "text/html": [
       "ข่าววิดีโอหนังสือพิมพ์ไทยรัฐทีวีไลฟ์สไตล์กีฬาบันเทิงดวงหวยนิยายโปรโมชั่นMONEYMIRRORTHAIRATH +นักวิจัยคณะวิทยาศาสตร์ มมส. ค้นพบ \"หอยกาบน้ำจืดขนาดใหญ่ชนิดใหม่ของโลก\" จากแม่น้ำชี ที่บ้านท่าขอนยาง และบ้านท่าสองคอน จ.มหาสารคาม แต่กลับใกล้สูญพันธุ์ โดยเล็งขยายพันธุ์เพิ่มให้ชาวบ้านเลี้ยงเมื่อวันที่ 18 พ.ค. 2566 รศ.ดร.บังอร กองอิ้ม ภาควิชาชีววิทยา คณะวิทยาศาสตร์ มหาวิทยาลัยมหาสารคาม ทุนอุดหนุนการวิจัยจากมหาวิทยาลัยมหาสารคาม กล่าวว่า หอยกาบน้ำจืดขนาดใหญ่ชนิดใหม่ของโลกนี้มีความยาวของเปลือกถึง 21 เซนติเมตร เป็นหอยกาบน้ำจืดสกุลที่มีขนาดใหญ่ที่สุดในบรรดาหอยกาบน้ำจืดด้วยกัน สามารถเรียกว่า หอยกาบใหญ่แม่น้ำชี หรือ หอยกาบใหญ่ลุ่มน้ำโขง ซึ่งเป็นหอยกาบน้ำจืดชนิดที่มีขนาดใหญ่ที่สุดในลุ่มน้ำโขง หรือเรียกว่า หอยกาบใหญ่ศาสตราจารย์สมศักดิ์ ปัญหา ดังชื่อวิทยาศาสตร์คือ Kongim, Sutcharit & Jeratthitikul, 2023 ซึ่งตั้งเพื่อเป็นเกียรติแก่ ศาสตราจารย์ ดร. สมศักดิ์ ปัญหา ผู้จุดประกายให้ทำวิจัยสัตว์ไม่มีกระดูกสันหลังกลุ่มหอยรศ.ดร.บังอร กองอิ้ม กล่าวต่อไปว่า ปัจจุบันหอยกาบชนิดนี้อยู่ในภาวะเสี่ยงต่อการสูญพันธุ์ เนื่องจากจำนวนลดลงมากจนแทบไม่พบตัวเป็น ทั้งนี้ รศ.ดร.บังอร กองอิ้ม และคณะ ได้สำรวจหอยชนิดนี้มาเป็นเวลาเกือบ 10 ปี พบตัวเป็นเพียง 2 ตัว เราโชคดีที่เมื่อปีที่แล้วได้พบ 1 ตัวเป็นช่วงหน้าแล้ง มีความยาวของเปลือก 21 ซม. น้ำหนัก 2.5 กก. จากนั้นเราก็ได้นำมาศึกษาค้นคว้าจนสามารถชี้ชัดว่าเป็นหอยกาบน้ำจืดชนิดใหม่ของโลกแน่นอน แต่ตอนนี้กลับพบว่ามีสถานะเสี่ยงต่อการสูญพันธุ์มากนักวิจัยจากมหาวิทยาลัยมหาสารคาม กล่าวด้วยว่า ตลอด 10 ปีนี้เราเจอตัวเป็นแค่ 2 ตัวเอง เพราะชาวบ้านใช้ประโยชน์จากหอยกาบด้วยการนำตัวมาประกอบอาหาร เป็นแหล่งโปรตีนที่สำคัญ หรือนำมาเลี้ยงสัตว์ ส่วนเปลือกหอยจะนำมาทำเครื่องมือเครื่องใช้ เครื่องประดับ ภาชนะใส่อาหาร เป็นต้น หรือเผาเปลือกเพื่อผลิตแคลเซียมคาร์บอเนต หรือ ปูนขาว ในธรรมชาติหอยกาบน้ำจืดจะทำหน้าที่กรองตะกอนในแหล่งน้ำทำให้น้ำใส เปลือกเมื่อถูกย่อยสลายจะช่วยหมุนเวียนแร่ธาตุคืนสู่ระบบนิเวศแหล่งน้ำ เรามองว่าอยากจะเพาะพันธุ์และขยายพันธุ์เพื่อให้ชาวบ้านเลี้ยงต่อไป."
      ],
      "text/plain": [
       "<IPython.core.display.HTML object>"
      ]
     },
     "metadata": {},
     "output_type": "display_data"
    }
   ],
   "source": [
    "paragraph = webScrap(\"https://www.thairath.co.th/news/local/northeast/2695085\")\n",
    "display(HTML(paragraph))"
   ]
  },
  {
   "cell_type": "code",
   "execution_count": 3,
   "metadata": {},
   "outputs": [],
   "source": [
    "tfidf = TFIDF()"
   ]
  },
  {
   "cell_type": "code",
   "execution_count": null,
   "metadata": {},
   "outputs": [],
   "source": [
    "tfidf.tokenize(paragraph)\n",
    "status, output_text, highlighted_text = tfidf.summarize()"
   ]
  },
  {
   "cell_type": "code",
   "execution_count": null,
   "metadata": {},
   "outputs": [
    {
     "data": {
      "text/html": [
       "failed to hightlight input text"
      ],
      "text/plain": [
       "<IPython.core.display.HTML object>"
      ]
     },
     "metadata": {},
     "output_type": "display_data"
    }
   ],
   "source": [
    "display(HTML(output_text))"
   ]
  },
  {
   "cell_type": "code",
   "execution_count": null,
   "metadata": {},
   "outputs": [
    {
     "name": "stdout",
     "output_type": "stream",
     "text": [
      "status:           400\n"
     ]
    },
    {
     "ename": "NameError",
     "evalue": "name 'textrank' is not defined",
     "output_type": "error",
     "traceback": [
      "\u001b[0;31m---------------------------------------------------------------------------\u001b[0m",
      "\u001b[0;31mNameError\u001b[0m                                 Traceback (most recent call last)",
      "\u001b[0;32m/var/folders/p8/rdy6c9x53rn6vf5w4wjxgtb40000gn/T/ipykernel_16915/2589414468.py\u001b[0m in \u001b[0;36m<cell line: 2>\u001b[0;34m()\u001b[0m\n\u001b[1;32m      1\u001b[0m \u001b[0mprint\u001b[0m\u001b[0;34m(\u001b[0m\u001b[0;34m\"status:          \"\u001b[0m\u001b[0;34m,\u001b[0m \u001b[0mstatus\u001b[0m\u001b[0;34m)\u001b[0m\u001b[0;34m\u001b[0m\u001b[0;34m\u001b[0m\u001b[0m\n\u001b[0;32m----> 2\u001b[0;31m \u001b[0mprint\u001b[0m\u001b[0;34m(\u001b[0m\u001b[0;34m\"tokens:          \"\u001b[0m\u001b[0;34m,\u001b[0m \u001b[0mlen\u001b[0m\u001b[0;34m(\u001b[0m\u001b[0mtextrank\u001b[0m\u001b[0;34m.\u001b[0m\u001b[0mtokens\u001b[0m\u001b[0;34m)\u001b[0m\u001b[0;34m)\u001b[0m\u001b[0;34m\u001b[0m\u001b[0;34m\u001b[0m\u001b[0m\n\u001b[0m\u001b[1;32m      3\u001b[0m \u001b[0mprint\u001b[0m\u001b[0;34m(\u001b[0m\u001b[0;34m\"word_weight:     \"\u001b[0m\u001b[0;34m,\u001b[0m \u001b[0mlen\u001b[0m\u001b[0;34m(\u001b[0m\u001b[0mtextrank\u001b[0m\u001b[0;34m.\u001b[0m\u001b[0mnode_weight\u001b[0m\u001b[0;34m)\u001b[0m\u001b[0;34m)\u001b[0m\u001b[0;34m\u001b[0m\u001b[0;34m\u001b[0m\u001b[0m\n",
      "\u001b[0;31mNameError\u001b[0m: name 'textrank' is not defined"
     ]
    }
   ],
   "source": [
    "print(\"status:          \", status)\n",
    "print(\"tokens:          \", len(tfidf.tokens))\n",
    "print(\"word_weight:     \", len(tfidf.node_weight))"
   ]
  },
  {
   "cell_type": "code",
   "execution_count": null,
   "metadata": {},
   "outputs": [],
   "source": []
  }
 ],
 "metadata": {
  "kernelspec": {
   "display_name": "Python 3",
   "language": "python",
   "name": "python3"
  },
  "language_info": {
   "codemirror_mode": {
    "name": "ipython",
    "version": 3
   },
   "file_extension": ".py",
   "mimetype": "text/x-python",
   "name": "python",
   "nbconvert_exporter": "python",
   "pygments_lexer": "ipython3",
   "version": "3.10.10"
  },
  "orig_nbformat": 4
 },
 "nbformat": 4,
 "nbformat_minor": 2
}
