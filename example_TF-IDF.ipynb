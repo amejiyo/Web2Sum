{
 "cells": [
  {
   "cell_type": "code",
   "execution_count": 1,
   "metadata": {},
   "outputs": [],
   "source": [
    "from pyserver.model.TFIDF_TextRank.tfidf import TFIDF\n",
    "from pyserver.webScrap import webScrap\n",
    "from IPython.core.display import display, HTML\n",
    "import warnings\n",
    "warnings.simplefilter(\"ignore\", UserWarning)"
   ]
  },
  {
   "cell_type": "code",
   "execution_count": 2,
   "metadata": {},
   "outputs": [],
   "source": [
    "paragraph = '''แนวโน้มของการใช้หุ่นยนต์ทางด้านการผลิตและงานบริการมีจำนวนสูงขึ้นมากกว่า 30% ทุกปี แต่ประเทศไทยยังขาดบุคลากรด้านวิทยาการหุ่นยนต์และระบบอัตโนมัติในทุกระดับ \n",
    "โดยเฉพาะอาชีพวิศวกร อาจารย์และนักวิจัย ฟีโบ้จึงได้รับการก่อตั้งขึ้น ในปี 2538 โดย รศ. ดร.ชิต เหล่าวัฒนา และฟีโบ้มีคติพจน์ว่า “A Cradle of Future Leaders in Robotics” \n",
    "ที่มุ่งสร้างผู้นำด้านวิทยาการหุ่นยนต์ของไทย\n",
    "\n",
    "ฟีโบ้เป็นสถาบันระดับคณะแห่งแรกและแห่งเดียวในไทยที่เปิดสอนและให้ปริญญาครบทั้งระดับปริญญาตรี ปริญญาโท และปริญญาเอก ในสาขาวิทยาการหุ่นยนต์และระบบอัตโนมัติ ทุกหลักสูตรเน้นหลัก \n",
    "Outcome-based Education ที่บัณฑิตสามารถใช้สมรรถนะที่เรียนในการพัฒนาเทคโนโลยีหุ่นยนต์ขึ้นได้ ทำให้บัณฑิตฟีโบ้เป็นที่ต้องการของภาคเอกชนและภาครัฐอย่างมาก\n",
    "\n",
    "นอกจากนี้ฟีโบ้มีผลงานวิจัย/พัฒนาและให้บริการวิชาการด้านหุ่นยนต์เพื่อการผลิตและเพื่อพัฒนาคุณภาพชีวิตมากกว่า 300 ระบบ โดยมีความร่วมมือที่แข็งแกร่งกับภาครัฐและภาคธุรกิจอุตสาหกรรมชั้นนำ \n",
    "ทั้งกลุ่มปิโตรเลียม อาหาร ฮาร์ดดิสก์ การผลิตไฟฟ้า การขนส่ง ธุรกิจบริการ การศึกษา การแพทย์และการฟื้นฟูสมรรถภาพ\n",
    "\n",
    "ปัจจุบัน ฟีโบ้ โดยการนำของ รศ. ดร.สยาม เจริญเสียง ผู้อำนวยการสถาบันฯ มุ่งมั่นเพื่อยกระดับฟีโบ้เข้าสู่สถาบันชั้นนำระดับอาเซียนทางด้านวิทยาการหุ่นยนต์ \n",
    "รวมทั้งสร้างเครือข่ายพัฒนาหลักสูตรด้านหุ่นยนต์ ครูและนักเรียนของโรงเรียนทั่วประเทศมากกว่า 100 โรงเรียน'''"
   ]
  },
  {
   "cell_type": "code",
   "execution_count": 3,
   "metadata": {},
   "outputs": [],
   "source": [
    "# paragraph = webScrap(\"https://www.thairath.co.th/news/local/northeast/2695085\")\n",
    "# display(HTML(paragraph))"
   ]
  },
  {
   "cell_type": "code",
   "execution_count": 4,
   "metadata": {},
   "outputs": [],
   "source": [
    "tfidf = TFIDF()"
   ]
  },
  {
   "cell_type": "code",
   "execution_count": 6,
   "metadata": {},
   "outputs": [
    {
     "data": {
      "text/html": [
       "<span style=\"background-color:rgba(251,155,59,0.033511461825663086);\">แนวโน้ม</span><span style=\"background-color:rgba(251,155,59,0.05522817026672214);\">ของ</span><span style=\"background-color:rgba(251,155,59,0.033511461825663086);\">การ</span><span style=\"background-color:rgba(251,155,59,0.10772104636490583);\">ใช้</span><span style=\"background-color:rgba(251,155,59,0.06502798492515348);\">หุ่นยนต์</span><span style=\"background-color:rgba(251,155,59,0.04439090016754951);\">ทาง</span><span style=\"background-color:rgba(251,155,59,0.05522817026672214);\">ด้าน</span><span style=\"background-color:rgba(251,155,59,0.0867921380386406);\">การผลิต</span><span style=\"background-color:rgba(251,155,59,0.07916164294701787);\">และ</span><span style=\"background-color:rgba(251,155,59,0.033511461825663086);\">งาน</span><span style=\"background-color:rgba(251,155,59,0.07180810345397388);\">บริการ</span><span style=\"background-color:rgba(251,155,59,0.0826032053104327);\">มี</span><span style=\"background-color:rgba(251,155,59,0.033511461825663086);\">จำนวน</span><span style=\"background-color:rgba(251,155,59,0.033511461825663086);\">สูง</span><span style=\"background-color:rgba(251,155,59,0.10772104636490583);\">ขึ้น</span><span style=\"background-color:rgba(251,155,59,0.059374934752216224);\">มากกว่า</span><span style=\"background-color:rgba(251,155,59,0.033511461825663086);\">30</span><span style=\"background-color:rgba(251,155,59,0.033511461825663086);\">%</span><span style=\"background-color:rgba(251,155,59,0.033511461825663086);\">ทุกปี</span><span style=\"background-color:rgba(251,155,59,0.033511461825663086);\">แต่</span><span style=\"background-color:rgba(251,155,59,0.033511461825663086);\">ประเทศ</span><span style=\"background-color:rgba(251,155,59,0.008377865456415771);\">ไทย</span><span style=\"background-color:rgba(251,155,59,0.033511461825663086);\">ยัง</span><span style=\"background-color:rgba(251,155,59,0.033511461825663086);\">ขาด</span><span style=\"background-color:rgba(251,155,59,0.033511461825663086);\">บุคลากร</span><span style=\"background-color:rgba(251,155,59,0.05522817026672214);\">ด้าน</span><span style=\"background-color:rgba(251,155,59,0.03182410198292585);\">วิทยาการ</span><span style=\"background-color:rgba(251,155,59,0.06502798492515348);\">หุ่นยนต์</span><span style=\"background-color:rgba(251,155,59,0.07916164294701787);\">และ</span><span style=\"background-color:rgba(251,155,59,0.05510166553858073);\">ระบบ</span><span style=\"background-color:rgba(251,155,59,0.016755730912831543);\">อัตโนมัติ</span><span style=\"background-color:rgba(251,155,59,0.14305978181617823);\">ใน</span><span style=\"background-color:rgba(251,155,59,0.10772104636490583);\">ทุก</span><span style=\"background-color:rgba(251,155,59,0.03182410198292585);\">ระดับ</span><span style=\"background-color:rgba(251,155,59,0.033511461825663086);\">โดยเฉพาะ</span><span style=\"background-color:rgba(251,155,59,0.033511461825663086);\">อาชีพ</span><span style=\"background-color:rgba(251,155,59,0.033511461825663086);\">วิศวกร</span><span style=\"background-color:rgba(251,155,59,0.033511461825663086);\">อาจารย์</span><span style=\"background-color:rgba(251,155,59,0.07916164294701787);\">และ</span><span style=\"background-color:rgba(251,155,59,0.033511461825663086);\">นักวิจัย</span><span style=\"background-color:rgba(251,155,59,0.07320639714712698);\">ฟี</span><span style=\"background-color:rgba(251,155,59,0.07320639714712698);\">โบ้</span><span style=\"background-color:rgba(251,155,59,0.033511461825663086);\">จึง</span><span style=\"background-color:rgba(251,155,59,0.033511461825663086);\">ได้รับ</span><span style=\"background-color:rgba(251,155,59,0.033511461825663086);\">การ</span><span style=\"background-color:rgba(251,155,59,0.033511461825663086);\">ก่อ</span><span style=\"background-color:rgba(251,155,59,0.033511461825663086);\">ตั้งขึ้น</span><span style=\"background-color:rgba(251,155,59,0.14305978181617823);\">ใน</span><span style=\"background-color:rgba(251,155,59,0.8);\">ปี</span><span style=\"background-color:rgba(251,155,59,0.8);\">2538</span><span style=\"background-color:rgba(251,155,59,0.0);\">โดย</span><span style=\"background-color:rgba(251,155,59,0.02763516925471797);\">รศ.</span><span style=\"background-color:rgba(251,155,59,0.02763516925471797);\">ดร.</span><span style=\"background-color:rgba(251,155,59,0.0);\">ชิต</span><span style=\"background-color:rgba(251,155,59,0.0);\">เหล่า</span><span style=\"background-color:rgba(251,155,59,0.0);\">วัฒนา</span><span style=\"background-color:rgba(251,155,59,0.07916164294701787);\">และ</span><span style=\"background-color:rgba(251,155,59,0.07320639714712698);\">ฟี</span><span style=\"background-color:rgba(251,155,59,0.07320639714712698);\">โบ้</span><span style=\"background-color:rgba(251,155,59,0.0826032053104327);\">มี</span><span style=\"background-color:rgba(251,155,59,0.0);\">คติพจน์</span><span style=\"background-color:rgba(251,155,59,0.0);\">ว่า</span><span style=\"background-color:rgba(251,155,59,0.0);\">“</span><span style=\"background-color:rgba(251,155,59,0.0);\">A</span><span style=\"background-color:rgba(251,155,59,0.0);\">Cradle</span><span style=\"background-color:rgba(251,155,59,0.0);\">of</span><span style=\"background-color:rgba(251,155,59,0.0);\">Future</span><span style=\"background-color:rgba(251,155,59,0.0);\">Leaders</span><span style=\"background-color:rgba(251,155,59,0.0);\">in</span><span style=\"background-color:rgba(251,155,59,0.0);\">Robotics</span><span style=\"background-color:rgba(251,155,59,0.0);\">”</span><span style=\"background-color:rgba(251,155,59,0.12327635913019806);\">ที่</span><span style=\"background-color:rgba(251,155,59,0.0);\">มุ่ง</span><span style=\"background-color:rgba(251,155,59,0.02763516925471797);\">สร้าง</span><span style=\"background-color:rgba(251,155,59,0.0);\">ผู้นำ</span><span style=\"background-color:rgba(251,155,59,0.05522817026672214);\">ด้าน</span><span style=\"background-color:rgba(251,155,59,0.03182410198292585);\">วิทยาการ</span><span style=\"background-color:rgba(251,155,59,0.06502798492515348);\">หุ่นยนต์</span><span style=\"background-color:rgba(251,155,59,0.05522817026672214);\">ของ</span><span style=\"background-color:rgba(251,155,59,0.008377865456415771);\">ไทย</span><span style=\"background-color:rgba(251,155,59,0.07320639714712698);\">ฟี</span><span style=\"background-color:rgba(251,155,59,0.07320639714712698);\">โบ้</span><span style=\"background-color:rgba(251,155,59,0.0);\">เป็น</span><span style=\"background-color:rgba(251,155,59,0.041452753882076955);\">สถาบัน</span><span style=\"background-color:rgba(251,155,59,0.03182410198292585);\">ระดับ</span><span style=\"background-color:rgba(251,155,59,0.0);\">คณะ</span><span style=\"background-color:rgba(251,155,59,0.0);\">แห่ง</span><span style=\"background-color:rgba(251,155,59,0.0);\">แรก</span><span style=\"background-color:rgba(251,155,59,0.07916164294701787);\">และ</span><span style=\"background-color:rgba(251,155,59,0.0);\">แห่ง</span><span style=\"background-color:rgba(251,155,59,0.0);\">เดียว</span><span style=\"background-color:rgba(251,155,59,0.14305978181617823);\">ใน</span><span style=\"background-color:rgba(251,155,59,0.008377865456415771);\">ไทย</span><span style=\"background-color:rgba(251,155,59,0.12327635913019806);\">ที่</span><span style=\"background-color:rgba(251,155,59,0.0);\">เปิด</span><span style=\"background-color:rgba(251,155,59,0.0);\">สอน</span><span style=\"background-color:rgba(251,155,59,0.07916164294701787);\">และ</span><span style=\"background-color:rgba(251,155,59,0.0);\">ให้</span><span style=\"background-color:rgba(251,155,59,0.0);\">ปริญญา</span><span style=\"background-color:rgba(251,155,59,0.0);\">ครบ</span><span style=\"background-color:rgba(251,155,59,0.05505237254114234);\">ทั้ง</span><span style=\"background-color:rgba(251,155,59,0.03182410198292585);\">ระดับ</span><span style=\"background-color:rgba(251,155,59,0.0);\">ปริญญาตรี</span><span style=\"background-color:rgba(251,155,59,0.0);\">ปริญญาโท</span><span style=\"background-color:rgba(251,155,59,0.07916164294701787);\">และ</span><span style=\"background-color:rgba(251,155,59,0.0);\">ปริญญาเอก</span><span style=\"background-color:rgba(251,155,59,0.14305978181617823);\">ใน</span><span style=\"background-color:rgba(251,155,59,0.0);\">สาขา</span><span style=\"background-color:rgba(251,155,59,0.03182410198292585);\">วิทยาการ</span><span style=\"background-color:rgba(251,155,59,0.06502798492515348);\">หุ่นยนต์</span><span style=\"background-color:rgba(251,155,59,0.07916164294701787);\">และ</span><span style=\"background-color:rgba(251,155,59,0.05510166553858073);\">ระบบ</span><span style=\"background-color:rgba(251,155,59,0.016755730912831543);\">อัตโนมัติ</span><span style=\"background-color:rgba(251,155,59,0.10772104636490583);\">ทุก</span><span style=\"background-color:rgba(251,155,59,0.11860048470679226);\">หลักสูตร</span><span style=\"background-color:rgba(251,155,59,0.18193063090414857);\">เน้น</span><span style=\"background-color:rgba(251,155,59,0.18193063090414857);\">หลัก</span><span style=\"background-color:rgba(251,155,59,0.0);\">Outcome-based</span><span style=\"background-color:rgba(251,155,59,0.0);\">Education</span><span style=\"background-color:rgba(251,155,59,0.12327635913019806);\">ที่</span><span style=\"background-color:rgba(251,155,59,0.13768911553423924);\">บัณฑิต</span><span style=\"background-color:rgba(251,155,59,0.18193063090414857);\">สามารถ</span><span style=\"background-color:rgba(251,155,59,0.10772104636490583);\">ใช้</span><span style=\"background-color:rgba(251,155,59,0.18193063090414857);\">สมรรถนะ</span><span style=\"background-color:rgba(251,155,59,0.12327635913019806);\">ที่</span><span style=\"background-color:rgba(251,155,59,0.18193063090414857);\">เรียน</span><span style=\"background-color:rgba(251,155,59,0.14305978181617823);\">ใน</span><span style=\"background-color:rgba(251,155,59,0.18193063090414857);\">การพัฒนา</span><span style=\"background-color:rgba(251,155,59,0.18193063090414857);\">เทคโนโลยี</span><span style=\"background-color:rgba(251,155,59,0.06502798492515348);\">หุ่นยนต์</span><span style=\"background-color:rgba(251,155,59,0.10772104636490583);\">ขึ้น</span><span style=\"background-color:rgba(251,155,59,0.18193063090414857);\">ได้</span><span style=\"background-color:rgba(251,155,59,0.0);\">ทำให้</span><span style=\"background-color:rgba(251,155,59,0.13768911553423924);\">บัณฑิต</span><span style=\"background-color:rgba(251,155,59,0.07320639714712698);\">ฟี</span><span style=\"background-color:rgba(251,155,59,0.07320639714712698);\">โบ้</span><span style=\"background-color:rgba(251,155,59,0.09344760016432992);\">เป็นที่ต้องการ</span><span style=\"background-color:rgba(251,155,59,0.05522817026672214);\">ของ</span><span style=\"background-color:rgba(251,155,59,0.09344760016432992);\">ภาคเอกชน</span><span style=\"background-color:rgba(251,155,59,0.07916164294701787);\">และ</span><span style=\"background-color:rgba(251,155,59,0.10177617262330729);\">ภาครัฐ</span><span style=\"background-color:rgba(251,155,59,0.09344760016432992);\">อย่าง</span><span style=\"background-color:rgba(251,155,59,0.09344760016432992);\">มาก</span><span style=\"background-color:rgba(251,155,59,0.09344760016432992);\">นอกจากนี้</span><span style=\"background-color:rgba(251,155,59,0.07320639714712698);\">ฟี</span><span style=\"background-color:rgba(251,155,59,0.07320639714712698);\">โบ้</span><span style=\"background-color:rgba(251,155,59,0.0826032053104327);\">มี</span><span style=\"background-color:rgba(251,155,59,0.09344760016432992);\">ผลงานวิจัย</span><span style=\"background-color:rgba(251,155,59,0.09344760016432992);\">/</span><span style=\"background-color:rgba(251,155,59,0.07435896933688294);\">พัฒนา</span><span style=\"background-color:rgba(251,155,59,0.07916164294701787);\">และ</span><span style=\"background-color:rgba(251,155,59,0.09344760016432992);\">ให้บริการ</span><span style=\"background-color:rgba(251,155,59,0.09344760016432992);\">วิชาการ</span><span style=\"background-color:rgba(251,155,59,0.05522817026672214);\">ด้าน</span><span style=\"background-color:rgba(251,155,59,0.06502798492515348);\">หุ่นยนต์</span><span style=\"background-color:rgba(251,155,59,0.07435896933688294);\">เพื่อ</span><span style=\"background-color:rgba(251,155,59,0.0867921380386406);\">การผลิต</span><span style=\"background-color:rgba(251,155,59,0.07916164294701787);\">และ</span><span style=\"background-color:rgba(251,155,59,0.07435896933688294);\">เพื่อ</span><span style=\"background-color:rgba(251,155,59,0.07435896933688294);\">พัฒนา</span><span style=\"background-color:rgba(251,155,59,0.09344760016432992);\">คุณภาพชีวิต</span><span style=\"background-color:rgba(251,155,59,0.059374934752216224);\">มากกว่า</span><span style=\"background-color:rgba(251,155,59,0.09344760016432992);\">300</span><span style=\"background-color:rgba(251,155,59,0.05510166553858073);\">ระบบ</span><span style=\"background-color:rgba(251,155,59,0.0);\">โดย</span><span style=\"background-color:rgba(251,155,59,0.0826032053104327);\">มี</span><span style=\"background-color:rgba(251,155,59,0.11010474508228468);\">ความร่วมมือ</span><span style=\"background-color:rgba(251,155,59,0.12327635913019806);\">ที่</span><span style=\"background-color:rgba(251,155,59,0.11010474508228468);\">แข็งแกร่ง</span><span style=\"background-color:rgba(251,155,59,0.11010474508228468);\">กับ</span><span style=\"background-color:rgba(251,155,59,0.10177617262330729);\">ภาครัฐ</span><span style=\"background-color:rgba(251,155,59,0.07916164294701787);\">และ</span><span style=\"background-color:rgba(251,155,59,0.11010474508228468);\">ภาค</span><span style=\"background-color:rgba(251,155,59,0.11010474508228468);\">ธุรกิจ</span><span style=\"background-color:rgba(251,155,59,0.11010474508228468);\">อุตสาหกรรม</span><span style=\"background-color:rgba(251,155,59,0.08268754179586031);\">ชั้นนำ</span><span style=\"background-color:rgba(251,155,59,0.05505237254114234);\">ทั้ง</span><span style=\"background-color:rgba(251,155,59,0.11010474508228468);\">กลุ่ม</span><span style=\"background-color:rgba(251,155,59,0.11010474508228468);\">ปิโตรเลียม</span><span style=\"background-color:rgba(251,155,59,0.11010474508228468);\">อาหาร</span><span style=\"background-color:rgba(251,155,59,0.11010474508228468);\">ฮาร์ดดิสก์</span><span style=\"background-color:rgba(251,155,59,0.0867921380386406);\">การผลิต</span><span style=\"background-color:rgba(251,155,59,0.11010474508228468);\">ไฟฟ้า</span><span style=\"background-color:rgba(251,155,59,0.11010474508228468);\">การขนส่ง</span><span style=\"background-color:rgba(251,155,59,0.11010474508228468);\">ธุรกิจ</span><span style=\"background-color:rgba(251,155,59,0.07180810345397388);\">บริการ</span><span style=\"background-color:rgba(251,155,59,0.11010474508228468);\">การศึกษา</span><span style=\"background-color:rgba(251,155,59,0.11010474508228468);\">การแพทย์</span><span style=\"background-color:rgba(251,155,59,0.07916164294701787);\">และ</span><span style=\"background-color:rgba(251,155,59,0.11010474508228468);\">การฟื้นฟูสมรรถภาพ</span><span style=\"background-color:rgba(251,155,59,0.11010474508228468);\">ปัจจุบัน</span><span style=\"background-color:rgba(251,155,59,0.07320639714712698);\">ฟี</span><span style=\"background-color:rgba(251,155,59,0.07320639714712698);\">โบ้</span><span style=\"background-color:rgba(251,155,59,0.0);\">โดย</span><span style=\"background-color:rgba(251,155,59,0.05527033850943594);\">การนำ</span><span style=\"background-color:rgba(251,155,59,0.05522817026672214);\">ของ</span><span style=\"background-color:rgba(251,155,59,0.02763516925471797);\">รศ.</span><span style=\"background-color:rgba(251,155,59,0.02763516925471797);\">ดร.</span><span style=\"background-color:rgba(251,155,59,0.05527033850943594);\">สยาม</span><span style=\"background-color:rgba(251,155,59,0.05527033850943594);\">เจริญ</span><span style=\"background-color:rgba(251,155,59,0.05527033850943594);\">เสียง</span><span style=\"background-color:rgba(251,155,59,0.05527033850943594);\">ผู้อำนวยการ</span><span style=\"background-color:rgba(251,155,59,0.041452753882076955);\">สถาบัน</span><span style=\"background-color:rgba(251,155,59,0.05527033850943594);\">ฯ</span><span style=\"background-color:rgba(251,155,59,0.05527033850943594);\">มุ่งมั่น</span><span style=\"background-color:rgba(251,155,59,0.07435896933688294);\">เพื่อ</span><span style=\"background-color:rgba(251,155,59,0.05527033850943594);\">ยกระดับ</span><span style=\"background-color:rgba(251,155,59,0.07320639714712698);\">ฟี</span><span style=\"background-color:rgba(251,155,59,0.07320639714712698);\">โบ้</span><span style=\"background-color:rgba(251,155,59,0.05527033850943594);\">เข้าสู่</span><span style=\"background-color:rgba(251,155,59,0.041452753882076955);\">สถาบัน</span><span style=\"background-color:rgba(251,155,59,0.08268754179586031);\">ชั้นนำ</span><span style=\"background-color:rgba(251,155,59,0.03182410198292585);\">ระดับ</span><span style=\"background-color:rgba(251,155,59,0.05527033850943594);\">อาเซียน</span><span style=\"background-color:rgba(251,155,59,0.04439090016754951);\">ทาง</span><span style=\"background-color:rgba(251,155,59,0.05522817026672214);\">ด้าน</span><span style=\"background-color:rgba(251,155,59,0.03182410198292585);\">วิทยาการ</span><span style=\"background-color:rgba(251,155,59,0.06502798492515348);\">หุ่นยนต์</span><span style=\"background-color:rgba(251,155,59,0.05527033850943594);\">รวมทั้ง</span><span style=\"background-color:rgba(251,155,59,0.02763516925471797);\">สร้าง</span><span style=\"background-color:rgba(251,155,59,0.05527033850943594);\">เครือข่าย</span><span style=\"background-color:rgba(251,155,59,0.07435896933688294);\">พัฒนา</span><span style=\"background-color:rgba(251,155,59,0.11860048470679226);\">หลักสูตร</span><span style=\"background-color:rgba(251,155,59,0.05522817026672214);\">ด้าน</span><span style=\"background-color:rgba(251,155,59,0.06502798492515348);\">หุ่นยนต์</span><span style=\"background-color:rgba(251,155,59,0.05527033850943594);\">ครู</span><span style=\"background-color:rgba(251,155,59,0.07916164294701787);\">และ</span><span style=\"background-color:rgba(251,155,59,0.05527033850943594);\">นักเรียน</span><span style=\"background-color:rgba(251,155,59,0.05522817026672214);\">ของ</span><span style=\"background-color:rgba(251,155,59,0.05527033850943594);\">โรงเรียน</span><span style=\"background-color:rgba(251,155,59,0.05527033850943594);\">ทั่วประเทศ</span><span style=\"background-color:rgba(251,155,59,0.059374934752216224);\">มากกว่า</span><span style=\"background-color:rgba(251,155,59,0.05527033850943594);\">100</span><span style=\"background-color:rgba(251,155,59,0.05527033850943594);\">โรงเรียน</span>"
      ],
      "text/plain": [
       "<IPython.core.display.HTML object>"
      ]
     },
     "metadata": {},
     "output_type": "display_data"
    }
   ],
   "source": [
    "tfidf.tokenize(paragraph)\n",
    "status, output_text, highlighted_text, len = tfidf.summarize()"
   ]
  },
  {
   "cell_type": "code",
   "execution_count": null,
   "metadata": {},
   "outputs": [
    {
     "data": {
      "text/html": [
       "ข่าววิดีโอหนังสือพิมพ์ไทยรัฐทีวีไลฟ์สไตล์กีฬาบันเทิงดวงหวยนิยายโปรโมชั่นMONEYMIRRORTHAIRATH +นักวิจัยคณะวิทยาศาสตร์ มมส. ค้นพบ \"หอยกาบน้ำจืดขนาดใหญ่ชนิดใหม่ของโลก\" จากแม่น้ำชี ที่บ้านท่าขอนยาง และบ้านท่าสองคอน จ.มหาสารคาม แต่กลับใกล้สูญพันธุ์เป็นหอยกาบน้ำจืดชนิดที่มีขนาดใหญ่ที่สุดในลุ่มน้ำโขง หรือเรียกว่า หอยกาบใหญ่ศาสตราจารย์สมศักดิ์ ปัญหา ดังชื่อวิทยาศาสตร์คือ Kongim, Sutcharit & Jeratthitikul, 2023"
      ],
      "text/plain": [
       "<IPython.core.display.HTML object>"
      ]
     },
     "metadata": {},
     "output_type": "display_data"
    }
   ],
   "source": [
    "display(HTML(output_text))"
   ]
  },
  {
   "cell_type": "code",
   "execution_count": null,
   "metadata": {},
   "outputs": [
    {
     "name": "stdout",
     "output_type": "stream",
     "text": [
      "status:           200\n",
      "tokens:           364\n",
      "word_weight:      209\n"
     ]
    }
   ],
   "source": [
    "print(\"status:          \", status)\n",
    "print(\"tokens:          \", len(tfidf.tokens))\n",
    "print(\"word_weight:     \", len(tfidf.node_weight))"
   ]
  }
 ],
 "metadata": {
  "kernelspec": {
   "display_name": "Python 3",
   "language": "python",
   "name": "python3"
  },
  "language_info": {
   "codemirror_mode": {
    "name": "ipython",
    "version": 3
   },
   "file_extension": ".py",
   "mimetype": "text/x-python",
   "name": "python",
   "nbconvert_exporter": "python",
   "pygments_lexer": "ipython3",
   "version": "3.10.10"
  },
  "orig_nbformat": 4
 },
 "nbformat": 4,
 "nbformat_minor": 2
}
