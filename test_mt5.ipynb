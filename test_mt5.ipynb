{
 "cells": [
  {
   "cell_type": "code",
   "execution_count": 97,
   "metadata": {},
   "outputs": [],
   "source": [
    "from mT5thai.mt5_thai_script import Mt5Thai\n",
    "from mT5thai.webScrap import webScrap\n",
    "import pandas as pd\n",
    "import numpy as np\n",
    "import html\n",
    "from IPython.core.display import display, HTML\n",
    "import tensorflow as tf\n",
    "import matplotlib.pyplot as plt\n",
    "import seaborn as sns\n",
    "import torch\n",
    "import math\n",
    "\n",
    "import warnings\n",
    "warnings.simplefilter(\"ignore\", UserWarning)"
   ]
  },
  {
   "cell_type": "code",
   "execution_count": 69,
   "metadata": {},
   "outputs": [],
   "source": [
    "sentense = '''แนวโน้มของการใช้หุ่นยนต์ทางด้านการผลิตและงานบริการมีจำนวนสูงขึ้นมากกว่า 30% ทุกปี แต่ประเทศไทยยังขาดบุคลากรด้านวิทยาการหุ่นยนต์และระบบอัตโนมัติในทุกระดับ \n",
    "โดยเฉพาะอาชีพวิศวกร อาจารย์และนักวิจัย ฟีโบ้จึงได้รับการก่อตั้งขึ้น ในปี 2538 โดย รศ. ดร.ชิต เหล่าวัฒนา และฟีโบ้มีคติพจน์ว่า “A Cradle of Future Leaders in Robotics” \n",
    "ที่มุ่งสร้างผู้นำด้านวิทยาการหุ่นยนต์ของไทย\n",
    "ฟีโบ้เป็นสถาบันระดับคณะแห่งแรกและแห่งเดียวในไทยที่เปิดสอนและให้ปริญญาครบทั้งระดับปริญญาตรี ปริญญาโท และปริญญาเอก ในสาขาวิทยาการหุ่นยนต์และระบบอัตโนมัติ ทุกหลักสูตรเน้นหลัก \n",
    "Outcome-based Education ที่บัณฑิตสามารถใช้สมรรถนะที่เรียนในการพัฒนาเทคโนโลยีหุ่นยนต์ขึ้นได้ ทำให้บัณฑิตฟีโบ้เป็นที่ต้องการของภาคเอกชนและภาครัฐอย่างมาก\n",
    "นอกจากนี้ฟีโบ้มีผลงานวิจัย/พัฒนาและให้บริการวิชาการด้านหุ่นยนต์เพื่อการผลิตและเพื่อพัฒนาคุณภาพชีวิตมากกว่า 300 ระบบ โดยมีความร่วมมือที่แข็งแกร่งกับภาครัฐและภาคธุรกิจอุตสาหกรรมชั้นนำ \n",
    "ทั้งกลุ่มปิโตรเลียม อาหาร ฮาร์ดดิสก์ การผลิตไฟฟ้า การขนส่ง ธุรกิจบริการ การศึกษา การแพทย์และการฟื้นฟูสมรรถภาพ\n",
    "ปัจจุบัน ฟีโบ้ โดยการนำของ รศ. ดร.สยาม เจริญเสียง ผู้อำนวยการสถาบันฯ มุ่งมั่นเพื่อยกระดับฟีโบ้เข้าสู่สถาบันชั้นนำระดับอาเซียนทางด้านวิทยาการหุ่นยนต์ \n",
    "รวมทั้งสร้างเครือข่ายพัฒนาหลักสูตรด้านหุ่นยนต์ ครูและนักเรียนของโรงเรียนทั่วประเทศมากกว่า 100 โรงเรียน'''"
   ]
  },
  {
   "cell_type": "code",
   "execution_count": 3,
   "metadata": {},
   "outputs": [],
   "source": [
    "sentense2 = webScrap(\"https://www.thairath.co.th/news/local/northeast/2695085\")"
   ]
  },
  {
   "cell_type": "code",
   "execution_count": 9,
   "metadata": {},
   "outputs": [
    {
     "name": "stderr",
     "output_type": "stream",
     "text": [
      "You are using a model of type mt5 to instantiate a model of type t5. This is not supported for all configurations of models and can yield errors.\n"
     ]
    }
   ],
   "source": [
    "from transformers import AutoTokenizer, TFAutoModelForSeq2SeqLM, T5ForConditionalGeneration\n",
    "\n",
    "model_name=\"thanathorn/mt5-cpe-kmutt-thai-sentence-sum\"\n",
    "# model_name = \"Nopphakorn/mt5-news-thaisum\"\n",
    "tokenizer = AutoTokenizer.from_pretrained(model_name)\n",
    "model = T5ForConditionalGeneration.from_pretrained(model_name, \n",
    "                        output_attentions=True,\n",
    "                        output_scores=True,\n",
    "                        # from_pt=True,\n",
    "                        output_hidden_states=True,\n",
    "                    )"
   ]
  },
  {
   "cell_type": "code",
   "execution_count": 127,
   "metadata": {},
   "outputs": [],
   "source": [
    "input_ids = tokenizer.encode(sentense, return_tensors=\"pt\", padding=\"longest\")\n",
    "min_length = 50\n",
    "output = model.generate(\n",
    "                        input_ids, \n",
    "                        min_length=min_length,     # Parameters that control the length of the output\n",
    "                        max_length=min_length*2, \n",
    "                        do_sample=True,                 # Parameters that control the generation strategy used\n",
    "                        num_beams=3,    \n",
    "                        output_attentions=True,         # Parameters that define the output variables of `generate`\n",
    "                        output_scores=True, \n",
    "                        return_dict_in_generate=True,\n",
    "                        output_hidden_states=True,\n",
    "                        )\n",
    "output_text = tokenizer.decode(output.sequences[0], skip_special_tokens=True)\n",
    "tokens = tokenizer.convert_ids_to_tokens(input_ids[0])\n"
   ]
  },
  {
   "cell_type": "code",
   "execution_count": 128,
   "metadata": {},
   "outputs": [],
   "source": [
    "def html_escape(text):\n",
    "    return html.escape(text)\n",
    "\n",
    "def highlightedText(tokens, output, pad='', max_alpha=1, save_html=False) -> list:\n",
    "    '''\n",
    "    https://adataanalyst.com/machine-learning/highlight-text-using-weights/\n",
    "    '''\n",
    "    highlighted_text = []\n",
    "    output_att = tf.stack(output.encoder_attentions)\n",
    "    output_att.shape\n",
    "\n",
    "    reshaped_scores = tf.reduce_mean(output_att[-1,:,0], axis=0)\n",
    "    df = pd.DataFrame(reshaped_scores).sum(axis=0)\n",
    "    df = 1/df\n",
    "    for i, word in enumerate(tokens):\n",
    "        \n",
    "        if '▁' in word: word = word.replace('▁', ' ') # change space '▁' to ' '\n",
    "\n",
    "        # df_sumcol = pd.DataFrame( attention[encoder1][0][encoder2] ).sum(axis=0) # reduce dim(N, N) to dim(N, 1) by sum column\n",
    "        df /= df.max() # normalize\n",
    "\n",
    "        weight = df[i]\n",
    "        # print(weight)\n",
    "        if weight < 0.5: weight = 0\n",
    "        # else: weight = 0\n",
    "        \n",
    "        highlighted_text.append('<span style=\"background-color:rgba(251,155,59,' + str((weight) * max_alpha) + ');\">' + html_escape(word) + '</span>')\n",
    "        # highlighted_text.append('' + html_escape(word) + '')\n",
    "        \n",
    "    highlighted_text = pad.join(highlighted_text)\n",
    "\n",
    "    display(HTML(highlighted_text))\n",
    "\n",
    "    if save_html:\n",
    "        html = HTML(highlighted_text).data\n",
    "        # file name ex. attention_0_1.html\n",
    "        with open(f'attention.html', 'w') as f:\n",
    "            f.write(html)\n",
    "\n",
    "    return highlighted_text"
   ]
  },
  {
   "cell_type": "code",
   "execution_count": 130,
   "metadata": {},
   "outputs": [
    {
     "data": {
      "text/html": [
       "<span style=\"background-color:rgba(251,155,59,0);\"> </span><span style=\"background-color:rgba(251,155,59,0);\">แนวโน้ม</span><span style=\"background-color:rgba(251,155,59,0);\">ของ</span><span style=\"background-color:rgba(251,155,59,0);\">การใช้</span><span style=\"background-color:rgba(251,155,59,0.6364366412162781);\">หุ่น</span><span style=\"background-color:rgba(251,155,59,0.7325547337532043);\">ย</span><span style=\"background-color:rgba(251,155,59,0.7128962278366089);\">นต์</span><span style=\"background-color:rgba(251,155,59,0);\">ทางด้าน</span><span style=\"background-color:rgba(251,155,59,0.6018843054771423);\">การผลิต</span><span style=\"background-color:rgba(251,155,59,0);\">และ</span><span style=\"background-color:rgba(251,155,59,0);\">งาน</span><span style=\"background-color:rgba(251,155,59,0);\">บริการ</span><span style=\"background-color:rgba(251,155,59,0);\">มี</span><span style=\"background-color:rgba(251,155,59,0.6240532398223877);\">จํานวน</span><span style=\"background-color:rgba(251,155,59,0.6697582006454468);\">สูงขึ้น</span><span style=\"background-color:rgba(251,155,59,0.5723574757575989);\">มากกว่า</span><span style=\"background-color:rgba(251,155,59,0.6133579015731812);\"> 30%</span><span style=\"background-color:rgba(251,155,59,0.5873574614524841);\"> ทุก</span><span style=\"background-color:rgba(251,155,59,0.6472303867340088);\">ปี</span><span style=\"background-color:rgba(251,155,59,0);\"> แต่</span><span style=\"background-color:rgba(251,155,59,0);\">ประเทศไทย</span><span style=\"background-color:rgba(251,155,59,0.5359631180763245);\">ยัง</span><span style=\"background-color:rgba(251,155,59,0.663511335849762);\">ขาด</span><span style=\"background-color:rgba(251,155,59,0.5566267967224121);\">บุคลากร</span><span style=\"background-color:rgba(251,155,59,0.5635727047920227);\">ด้าน</span><span style=\"background-color:rgba(251,155,59,0.91263347864151);\">วิทยา</span><span style=\"background-color:rgba(251,155,59,0.735440194606781);\">การ</span><span style=\"background-color:rgba(251,155,59,0.8916873931884766);\">หุ่น</span><span style=\"background-color:rgba(251,155,59,0.8228880167007446);\">ย</span><span style=\"background-color:rgba(251,155,59,0.632401704788208);\">นต์</span><span style=\"background-color:rgba(251,155,59,0);\">และ</span><span style=\"background-color:rgba(251,155,59,0.5930293202400208);\">ระบบ</span><span style=\"background-color:rgba(251,155,59,0.5185672640800476);\">อัตโนมัติ</span><span style=\"background-color:rgba(251,155,59,0.5316913723945618);\">ในทุก</span><span style=\"background-color:rgba(251,155,59,0.6125050783157349);\">ระดับ</span><span style=\"background-color:rgba(251,155,59,0);\"> โดยเฉพาะ</span><span style=\"background-color:rgba(251,155,59,0.5314330458641052);\">อาชีพ</span><span style=\"background-color:rgba(251,155,59,0.5567615628242493);\">วิ</span><span style=\"background-color:rgba(251,155,59,0.7357028722763062);\">ศ</span><span style=\"background-color:rgba(251,155,59,0);\">ว</span><span style=\"background-color:rgba(251,155,59,0);\">กร</span><span style=\"background-color:rgba(251,155,59,0);\"> </span><span style=\"background-color:rgba(251,155,59,0.599778950214386);\">อาจารย์</span><span style=\"background-color:rgba(251,155,59,0);\">และ</span><span style=\"background-color:rgba(251,155,59,0.7123427391052246);\">นัก</span><span style=\"background-color:rgba(251,155,59,0.5617713332176208);\">วิจัย</span><span style=\"background-color:rgba(251,155,59,0);\"> </span><span style=\"background-color:rgba(251,155,59,0.6121662855148315);\">ฟี</span><span style=\"background-color:rgba(251,155,59,0.7599481344223022);\">โบ</span><span style=\"background-color:rgba(251,155,59,0.6590242981910706);\">้</span><span style=\"background-color:rgba(251,155,59,0.5911215543746948);\">จึง</span><span style=\"background-color:rgba(251,155,59,0.7031149864196777);\">ได้รับการ</span><span style=\"background-color:rgba(251,155,59,0);\">ก่อตั้ง</span><span style=\"background-color:rgba(251,155,59,0.5584701895713806);\">ขึ้น</span><span style=\"background-color:rgba(251,155,59,0);\"> </span><span style=\"background-color:rgba(251,155,59,0);\">ในปี</span><span style=\"background-color:rgba(251,155,59,0);\"> </span><span style=\"background-color:rgba(251,155,59,0.5431019067764282);\">2538</span><span style=\"background-color:rgba(251,155,59,0);\"> โดย</span><span style=\"background-color:rgba(251,155,59,0.5363576412200928);\"> ร</span><span style=\"background-color:rgba(251,155,59,0.7680034637451172);\">ศ</span><span style=\"background-color:rgba(251,155,59,0.5098670125007629);\">.</span><span style=\"background-color:rgba(251,155,59,0);\"> </span><span style=\"background-color:rgba(251,155,59,0.6580016613006592);\">ดร</span><span style=\"background-color:rgba(251,155,59,0.5165294408798218);\">.</span><span style=\"background-color:rgba(251,155,59,0.5755026936531067);\">ชิ</span><span style=\"background-color:rgba(251,155,59,0.6871312856674194);\">ต</span><span style=\"background-color:rgba(251,155,59,0);\"> </span><span style=\"background-color:rgba(251,155,59,0.5608552694320679);\">เหล่า</span><span style=\"background-color:rgba(251,155,59,0.6699718236923218);\">วั</span><span style=\"background-color:rgba(251,155,59,0.6548029184341431);\">ฒ</span><span style=\"background-color:rgba(251,155,59,0);\">นา</span><span style=\"background-color:rgba(251,155,59,0);\"> และ</span><span style=\"background-color:rgba(251,155,59,0.6622509360313416);\">ฟี</span><span style=\"background-color:rgba(251,155,59,0.7284709215164185);\">โบ</span><span style=\"background-color:rgba(251,155,59,0.6067434549331665);\">้</span><span style=\"background-color:rgba(251,155,59,0);\">มี</span><span style=\"background-color:rgba(251,155,59,0);\">ค</span><span style=\"background-color:rgba(251,155,59,0.6779813170433044);\">ติ</span><span style=\"background-color:rgba(251,155,59,0);\">พ</span><span style=\"background-color:rgba(251,155,59,0.6125195622444153);\">จน์</span><span style=\"background-color:rgba(251,155,59,0.5228185057640076);\">ว่า</span><span style=\"background-color:rgba(251,155,59,0.5725529789924622);\"> “</span><span style=\"background-color:rgba(251,155,59,0.5215924382209778);\">A</span><span style=\"background-color:rgba(251,155,59,0.739757776260376);\"> C</span><span style=\"background-color:rgba(251,155,59,0.7329972982406616);\">radle</span><span style=\"background-color:rgba(251,155,59,0.6665697693824768);\"> of</span><span style=\"background-color:rgba(251,155,59,0.998810350894928);\"> Future</span><span style=\"background-color:rgba(251,155,59,0);\"> </span><span style=\"background-color:rgba(251,155,59,0.7723551392555237);\">Leaders</span><span style=\"background-color:rgba(251,155,59,0);\"> in</span><span style=\"background-color:rgba(251,155,59,0.5814321041107178);\"> Robot</span><span style=\"background-color:rgba(251,155,59,0);\">ics</span><span style=\"background-color:rgba(251,155,59,0);\">”</span><span style=\"background-color:rgba(251,155,59,0);\"> ที่</span><span style=\"background-color:rgba(251,155,59,0.6469279527664185);\">มุ่ง</span><span style=\"background-color:rgba(251,155,59,0.6065484881401062);\">สร้าง</span><span style=\"background-color:rgba(251,155,59,0);\">ผู้นํา</span><span style=\"background-color:rgba(251,155,59,0);\">ด้าน</span><span style=\"background-color:rgba(251,155,59,0.8405096530914307);\">วิทยา</span><span style=\"background-color:rgba(251,155,59,0.6965906620025635);\">การ</span><span style=\"background-color:rgba(251,155,59,0.851499617099762);\">หุ่น</span><span style=\"background-color:rgba(251,155,59,0.7857024669647217);\">ย</span><span style=\"background-color:rgba(251,155,59,0.7008895874023438);\">นต์</span><span style=\"background-color:rgba(251,155,59,0);\">ของไทย</span><span style=\"background-color:rgba(251,155,59,0);\"> </span><span style=\"background-color:rgba(251,155,59,0.5675671100616455);\">ฟี</span><span style=\"background-color:rgba(251,155,59,0.7639179229736328);\">โบ</span><span style=\"background-color:rgba(251,155,59,0.6804030537605286);\">้</span><span style=\"background-color:rgba(251,155,59,0);\">เป็น</span><span style=\"background-color:rgba(251,155,59,0);\">สถาบัน</span><span style=\"background-color:rgba(251,155,59,0.5212505459785461);\">ระดับ</span><span style=\"background-color:rgba(251,155,59,0);\">คณะ</span><span style=\"background-color:rgba(251,155,59,0);\">แห่ง</span><span style=\"background-color:rgba(251,155,59,0.6424559950828552);\">แรก</span><span style=\"background-color:rgba(251,155,59,0);\">และ</span><span style=\"background-color:rgba(251,155,59,0.6859827041625977);\">แห่ง</span><span style=\"background-color:rgba(251,155,59,0.6380018591880798);\">เดียว</span><span style=\"background-color:rgba(251,155,59,0);\">ในไทย</span><span style=\"background-color:rgba(251,155,59,0);\">ที่</span><span style=\"background-color:rgba(251,155,59,0);\">เปิด</span><span style=\"background-color:rgba(251,155,59,0);\">สอน</span><span style=\"background-color:rgba(251,155,59,0);\">และให้</span><span style=\"background-color:rgba(251,155,59,0);\">ปริญญา</span><span style=\"background-color:rgba(251,155,59,0.5199587941169739);\">ครบ</span><span style=\"background-color:rgba(251,155,59,0.5067487359046936);\">ทั้ง</span><span style=\"background-color:rgba(251,155,59,0.5601420402526855);\">ระดับ</span><span style=\"background-color:rgba(251,155,59,0.5062128305435181);\">ปริญญา</span><span style=\"background-color:rgba(251,155,59,0);\">ตรี</span><span style=\"background-color:rgba(251,155,59,0);\"> </span><span style=\"background-color:rgba(251,155,59,0.5566101670265198);\">ปริญญา</span><span style=\"background-color:rgba(251,155,59,0.5903075337409973);\">โท</span><span style=\"background-color:rgba(251,155,59,0);\"> และ</span><span style=\"background-color:rgba(251,155,59,0.6030457615852356);\">ปริญญา</span><span style=\"background-color:rgba(251,155,59,0.6265382170677185);\">เอก</span><span style=\"background-color:rgba(251,155,59,0);\"> ใน</span><span style=\"background-color:rgba(251,155,59,0);\">สาขา</span><span style=\"background-color:rgba(251,155,59,0.7534709572792053);\">วิทยา</span><span style=\"background-color:rgba(251,155,59,0.6854344010353088);\">การ</span><span style=\"background-color:rgba(251,155,59,0.8420675992965698);\">หุ่น</span><span style=\"background-color:rgba(251,155,59,0.7697612047195435);\">ย</span><span style=\"background-color:rgba(251,155,59,0.6348859667778015);\">นต์</span><span style=\"background-color:rgba(251,155,59,0);\">และ</span><span style=\"background-color:rgba(251,155,59,0.5175153613090515);\">ระบบ</span><span style=\"background-color:rgba(251,155,59,0);\">อัตโนมัติ</span><span style=\"background-color:rgba(251,155,59,0);\"> ทุก</span><span style=\"background-color:rgba(251,155,59,0);\">หลักสูตร</span><span style=\"background-color:rgba(251,155,59,0);\">เน้น</span><span style=\"background-color:rgba(251,155,59,0);\">หลัก</span><span style=\"background-color:rgba(251,155,59,0);\"> Out</span><span style=\"background-color:rgba(251,155,59,0.8592835068702698);\">com</span><span style=\"background-color:rgba(251,155,59,0.6329318284988403);\">e</span><span style=\"background-color:rgba(251,155,59,0.5366917848587036);\">-</span><span style=\"background-color:rgba(251,155,59,0.680712878704071);\">based</span><span style=\"background-color:rgba(251,155,59,0);\"> Education</span><span style=\"background-color:rgba(251,155,59,0);\"> ที่</span><span style=\"background-color:rgba(251,155,59,0.5386184453964233);\">บัณฑิต</span><span style=\"background-color:rgba(251,155,59,0.5600269436836243);\">สามารถใช้</span><span style=\"background-color:rgba(251,155,59,0.7433571219444275);\">สม</span><span style=\"background-color:rgba(251,155,59,0.8433470726013184);\">ร</span><span style=\"background-color:rgba(251,155,59,1.0);\">รถ</span><span style=\"background-color:rgba(251,155,59,0.6629863381385803);\">นะ</span><span style=\"background-color:rgba(251,155,59,0.7093839049339294);\">ที่</span><span style=\"background-color:rgba(251,155,59,0.6001319885253906);\">เรียน</span><span style=\"background-color:rgba(251,155,59,0.669680118560791);\">ใน</span><span style=\"background-color:rgba(251,155,59,0.6866456270217896);\">การพัฒนา</span><span style=\"background-color:rgba(251,155,59,0);\">เทคโนโลยี</span><span style=\"background-color:rgba(251,155,59,0.7074446678161621);\">หุ่น</span><span style=\"background-color:rgba(251,155,59,0.8405119776725769);\">ย</span><span style=\"background-color:rgba(251,155,59,0.7361040115356445);\">นต์</span><span style=\"background-color:rgba(251,155,59,0);\">ขึ้น</span><span style=\"background-color:rgba(251,155,59,0);\">ได้</span><span style=\"background-color:rgba(251,155,59,0);\"> ทําให้</span><span style=\"background-color:rgba(251,155,59,0.558413028717041);\">บัณฑิต</span><span style=\"background-color:rgba(251,155,59,0.6249310970306396);\">ฟี</span><span style=\"background-color:rgba(251,155,59,0.7961635589599609);\">โบ</span><span style=\"background-color:rgba(251,155,59,0.7449710369110107);\">้</span><span style=\"background-color:rgba(251,155,59,0.5375128388404846);\">เป็น</span><span style=\"background-color:rgba(251,155,59,0.6847847104072571);\">ที่ต้องการ</span><span style=\"background-color:rgba(251,155,59,0);\">ของ</span><span style=\"background-color:rgba(251,155,59,0.535176694393158);\">ภาค</span><span style=\"background-color:rgba(251,155,59,0);\">เอกชน</span><span style=\"background-color:rgba(251,155,59,0);\">และ</span><span style=\"background-color:rgba(251,155,59,0.6902012228965759);\">ภาครัฐ</span><span style=\"background-color:rgba(251,155,59,0);\">อย่างมาก</span><span style=\"background-color:rgba(251,155,59,0);\"> นอกจากนี้</span><span style=\"background-color:rgba(251,155,59,0);\">ฟี</span><span style=\"background-color:rgba(251,155,59,0.7085616588592529);\">โบ</span><span style=\"background-color:rgba(251,155,59,0.6781173944473267);\">้</span><span style=\"background-color:rgba(251,155,59,0);\">มีผล</span><span style=\"background-color:rgba(251,155,59,0);\">งานวิจัย</span><span style=\"background-color:rgba(251,155,59,0);\">/</span><span style=\"background-color:rgba(251,155,59,0.7970606088638306);\">พัฒนา</span><span style=\"background-color:rgba(251,155,59,0);\">และ</span><span style=\"background-color:rgba(251,155,59,0);\">ให้บริการ</span><span style=\"background-color:rgba(251,155,59,0);\">วิชาการ</span><span style=\"background-color:rgba(251,155,59,0);\">ด้าน</span><span style=\"background-color:rgba(251,155,59,0.6828887462615967);\">หุ่น</span><span style=\"background-color:rgba(251,155,59,0.8198108077049255);\">ย</span><span style=\"background-color:rgba(251,155,59,0.6924174427986145);\">นต์</span><span style=\"background-color:rgba(251,155,59,0.5418670177459717);\">เพื่อ</span><span style=\"background-color:rgba(251,155,59,0.7535186409950256);\">การผลิต</span><span style=\"background-color:rgba(251,155,59,0);\">และ</span><span style=\"background-color:rgba(251,155,59,0.6713461875915527);\">เพื่อ</span><span style=\"background-color:rgba(251,155,59,0.8261457681655884);\">พัฒนา</span><span style=\"background-color:rgba(251,155,59,0.6504326462745667);\">คุณภาพ</span><span style=\"background-color:rgba(251,155,59,0.5488844513893127);\">ชีวิต</span><span style=\"background-color:rgba(251,155,59,0);\">มากกว่า</span><span style=\"background-color:rgba(251,155,59,0);\"> 300</span><span style=\"background-color:rgba(251,155,59,0.5459351539611816);\"> ระบบ</span><span style=\"background-color:rgba(251,155,59,0);\"> โดยมี</span><span style=\"background-color:rgba(251,155,59,0);\">ความร่วมมือ</span><span style=\"background-color:rgba(251,155,59,0);\">ที่</span><span style=\"background-color:rgba(251,155,59,0);\">แข็งแกร่ง</span><span style=\"background-color:rgba(251,155,59,0);\">กับ</span><span style=\"background-color:rgba(251,155,59,0.5858346223831177);\">ภาครัฐ</span><span style=\"background-color:rgba(251,155,59,0);\">และ</span><span style=\"background-color:rgba(251,155,59,0.5089398622512817);\">ภาค</span><span style=\"background-color:rgba(251,155,59,0.6270219087600708);\">ธุรกิจ</span><span style=\"background-color:rgba(251,155,59,0.5543746948242188);\">อุตสาหกรรม</span><span style=\"background-color:rgba(251,155,59,0);\">ชั้นนํา</span><span style=\"background-color:rgba(251,155,59,0);\"> ทั้ง</span><span style=\"background-color:rgba(251,155,59,0);\">กลุ่ม</span><span style=\"background-color:rgba(251,155,59,0.647508442401886);\">ปิ</span><span style=\"background-color:rgba(251,155,59,0.611930251121521);\">โต</span><span style=\"background-color:rgba(251,155,59,0);\">ร</span><span style=\"background-color:rgba(251,155,59,0.5691375732421875);\">เลีย</span><span style=\"background-color:rgba(251,155,59,0);\">ม</span><span style=\"background-color:rgba(251,155,59,0.5841131210327148);\"> อาหาร</span><span style=\"background-color:rgba(251,155,59,0);\"> </span><span style=\"background-color:rgba(251,155,59,0.7426086664199829);\">ฮ</span><span style=\"background-color:rgba(251,155,59,0.7957675457000732);\">าร์ด</span><span style=\"background-color:rgba(251,155,59,0.6214734315872192);\">ดิ</span><span style=\"background-color:rgba(251,155,59,0.552852213382721);\">สก์</span><span style=\"background-color:rgba(251,155,59,0);\"> </span><span style=\"background-color:rgba(251,155,59,0.6489638686180115);\">การผลิต</span><span style=\"background-color:rgba(251,155,59,0);\">ไฟฟ้า</span><span style=\"background-color:rgba(251,155,59,0.5186907649040222);\"> การ</span><span style=\"background-color:rgba(251,155,59,0.5401536822319031);\">ขนส่ง</span><span style=\"background-color:rgba(251,155,59,0);\"> </span><span style=\"background-color:rgba(251,155,59,0.6160742044448853);\">ธุรกิจ</span><span style=\"background-color:rgba(251,155,59,0.6066745519638062);\">บริการ</span><span style=\"background-color:rgba(251,155,59,0);\"> </span><span style=\"background-color:rgba(251,155,59,0.6922317147254944);\">การศึกษา</span><span style=\"background-color:rgba(251,155,59,0.5672981142997742);\"> การ</span><span style=\"background-color:rgba(251,155,59,0.6118951439857483);\">แพทย์</span><span style=\"background-color:rgba(251,155,59,0);\">และการ</span><span style=\"background-color:rgba(251,155,59,0.6394662261009216);\">ฟื้นฟู</span><span style=\"background-color:rgba(251,155,59,0.7327318787574768);\">สม</span><span style=\"background-color:rgba(251,155,59,0.7927663326263428);\">ร</span><span style=\"background-color:rgba(251,155,59,0.872848629951477);\">รถ</span><span style=\"background-color:rgba(251,155,59,0);\">ภาพ</span><span style=\"background-color:rgba(251,155,59,0);\"> </span><span style=\"background-color:rgba(251,155,59,0);\">ปัจจุบัน</span><span style=\"background-color:rgba(251,155,59,0);\"> </span><span style=\"background-color:rgba(251,155,59,0.550335168838501);\">ฟี</span><span style=\"background-color:rgba(251,155,59,0.7745899558067322);\">โบ</span><span style=\"background-color:rgba(251,155,59,0.676029622554779);\">้</span><span style=\"background-color:rgba(251,155,59,0);\"> โดย</span><span style=\"background-color:rgba(251,155,59,0.5489051342010498);\">การนํา</span><span style=\"background-color:rgba(251,155,59,0);\">ของ</span><span style=\"background-color:rgba(251,155,59,0.5620115995407104);\"> ร</span><span style=\"background-color:rgba(251,155,59,0.7481586933135986);\">ศ</span><span style=\"background-color:rgba(251,155,59,0.6308653354644775);\">.</span><span style=\"background-color:rgba(251,155,59,0);\"> </span><span style=\"background-color:rgba(251,155,59,0.6481510996818542);\">ดร</span><span style=\"background-color:rgba(251,155,59,0.5374512076377869);\">.</span><span style=\"background-color:rgba(251,155,59,0);\">สยาม</span><span style=\"background-color:rgba(251,155,59,0);\"> </span><span style=\"background-color:rgba(251,155,59,0.5777246952056885);\">เจริญ</span><span style=\"background-color:rgba(251,155,59,0);\">เสียง</span><span style=\"background-color:rgba(251,155,59,0);\"> </span><span style=\"background-color:rgba(251,155,59,0);\">ผู้อํานวยการ</span><span style=\"background-color:rgba(251,155,59,0);\">สถาบัน</span><span style=\"background-color:rgba(251,155,59,0);\">ฯ</span><span style=\"background-color:rgba(251,155,59,0);\"> </span><span style=\"background-color:rgba(251,155,59,0.5559744834899902);\">มุ่ง</span><span style=\"background-color:rgba(251,155,59,0.6367537379264832);\">มั่น</span><span style=\"background-color:rgba(251,155,59,0.5807022452354431);\">เพื่อ</span><span style=\"background-color:rgba(251,155,59,0.5548152923583984);\">ยก</span><span style=\"background-color:rgba(251,155,59,0.6391464471817017);\">ระดับ</span><span style=\"background-color:rgba(251,155,59,0.5820508599281311);\">ฟี</span><span style=\"background-color:rgba(251,155,59,0.8077892065048218);\">โบ</span><span style=\"background-color:rgba(251,155,59,0.746440589427948);\">้</span><span style=\"background-color:rgba(251,155,59,0);\">เข้าสู่</span><span style=\"background-color:rgba(251,155,59,0.5179296731948853);\">สถาบัน</span><span style=\"background-color:rgba(251,155,59,0.5343582630157471);\">ชั้นนํา</span><span style=\"background-color:rgba(251,155,59,0);\">ระดับ</span><span style=\"background-color:rgba(251,155,59,0);\">อาเซียน</span><span style=\"background-color:rgba(251,155,59,0);\">ทางด้าน</span><span style=\"background-color:rgba(251,155,59,0.7615915536880493);\">วิทยา</span><span style=\"background-color:rgba(251,155,59,0.7293877005577087);\">การ</span><span style=\"background-color:rgba(251,155,59,0.8617749214172363);\">หุ่น</span><span style=\"background-color:rgba(251,155,59,0.8286358714103699);\">ย</span><span style=\"background-color:rgba(251,155,59,0.7022541165351868);\">นต์</span><span style=\"background-color:rgba(251,155,59,0);\"> รวมทั้ง</span><span style=\"background-color:rgba(251,155,59,0.5259475708007812);\">สร้าง</span><span style=\"background-color:rgba(251,155,59,0);\">เครือข่าย</span><span style=\"background-color:rgba(251,155,59,0.6474533081054688);\">พัฒนา</span><span style=\"background-color:rgba(251,155,59,0);\">หลักสูตร</span><span style=\"background-color:rgba(251,155,59,0);\">ด้าน</span><span style=\"background-color:rgba(251,155,59,0.7703684568405151);\">หุ่น</span><span style=\"background-color:rgba(251,155,59,0.9315903782844543);\">ย</span><span style=\"background-color:rgba(251,155,59,0.7313589453697205);\">นต์</span><span style=\"background-color:rgba(251,155,59,0);\"> </span><span style=\"background-color:rgba(251,155,59,0.6163266897201538);\">ครู</span><span style=\"background-color:rgba(251,155,59,0);\">และ</span><span style=\"background-color:rgba(251,155,59,0.6358350515365601);\">นักเรียน</span><span style=\"background-color:rgba(251,155,59,0);\">ของ</span><span style=\"background-color:rgba(251,155,59,0);\">โรงเรียน</span><span style=\"background-color:rgba(251,155,59,0);\">ทั่วประเทศ</span><span style=\"background-color:rgba(251,155,59,0);\">มากกว่า</span><span style=\"background-color:rgba(251,155,59,0.5916165709495544);\"> 100</span><span style=\"background-color:rgba(251,155,59,0);\"> </span><span style=\"background-color:rgba(251,155,59,0.6498172283172607);\">โรงเรียน</span><span style=\"background-color:rgba(251,155,59,0);\">&lt;/s&gt;</span>"
      ],
      "text/plain": [
       "<IPython.core.display.HTML object>"
      ]
     },
     "metadata": {},
     "output_type": "display_data"
    }
   ],
   "source": [
    "z = highlightedText(tokens, output)"
   ]
  },
  {
   "cell_type": "code",
   "execution_count": null,
   "metadata": {},
   "outputs": [
    {
     "data": {
      "text/html": [
       "ฟีโบ้เป็นสถาบันระดับคณะแห่งแรกและแห่งเดียวในไทยที่เปิดสอนและให้ปริญญาครบทั้งระดับปริญญาตรี โท โท เอก ในสาขาวิทยาการหุ่นยนต์และระบบอัตโนมัติ เน้นหลัก Outcome-based Education"
      ],
      "text/plain": [
       "<IPython.core.display.HTML object>"
      ]
     },
     "metadata": {},
     "output_type": "display_data"
    }
   ],
   "source": [
    "display(HTML(output_text))"
   ]
  },
  {
   "cell_type": "code",
   "execution_count": null,
   "metadata": {},
   "outputs": [],
   "source": []
  }
 ],
 "metadata": {
  "kernelspec": {
   "display_name": "Python 3",
   "language": "python",
   "name": "python3"
  },
  "language_info": {
   "codemirror_mode": {
    "name": "ipython",
    "version": 3
   },
   "file_extension": ".py",
   "mimetype": "text/x-python",
   "name": "python",
   "nbconvert_exporter": "python",
   "pygments_lexer": "ipython3",
   "version": "3.10.10"
  },
  "orig_nbformat": 4
 },
 "nbformat": 4,
 "nbformat_minor": 2
}
