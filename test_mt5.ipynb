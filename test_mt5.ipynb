{
 "cells": [
  {
   "cell_type": "code",
   "execution_count": 10,
   "metadata": {},
   "outputs": [],
   "source": [
    "from mT5thai.mt5_thai_script import Mt5Thai, highlightedText\n",
    "from mT5thai.webScrap import webScrap\n",
    "from IPython.core.display import display, HTML\n",
    "\n",
    "\n",
    "import warnings\n",
    "warnings.simplefilter(\"ignore\", UserWarning)"
   ]
  },
  {
   "cell_type": "code",
   "execution_count": 2,
   "metadata": {},
   "outputs": [],
   "source": [
    "sentense = '''แนวโน้มของการใช้หุ่นยนต์ทางด้านการผลิตและงานบริการมีจำนวนสูงขึ้นมากกว่า 30% ทุกปี แต่ประเทศไทยยังขาดบุคลากรด้านวิทยาการหุ่นยนต์และระบบอัตโนมัติในทุกระดับ \n",
    "โดยเฉพาะอาชีพวิศวกร อาจารย์และนักวิจัย ฟีโบ้จึงได้รับการก่อตั้งขึ้น ในปี 2538 โดย รศ. ดร.ชิต เหล่าวัฒนา และฟีโบ้มีคติพจน์ว่า “A Cradle of Future Leaders in Robotics” \n",
    "ที่มุ่งสร้างผู้นำด้านวิทยาการหุ่นยนต์ของไทย\n",
    "ฟีโบ้เป็นสถาบันระดับคณะแห่งแรกและแห่งเดียวในไทยที่เปิดสอนและให้ปริญญาครบทั้งระดับปริญญาตรี ปริญญาโท และปริญญาเอก ในสาขาวิทยาการหุ่นยนต์และระบบอัตโนมัติ ทุกหลักสูตรเน้นหลัก \n",
    "Outcome-based Education ที่บัณฑิตสามารถใช้สมรรถนะที่เรียนในการพัฒนาเทคโนโลยีหุ่นยนต์ขึ้นได้ ทำให้บัณฑิตฟีโบ้เป็นที่ต้องการของภาคเอกชนและภาครัฐอย่างมาก\n",
    "นอกจากนี้ฟีโบ้มีผลงานวิจัย/พัฒนาและให้บริการวิชาการด้านหุ่นยนต์เพื่อการผลิตและเพื่อพัฒนาคุณภาพชีวิตมากกว่า 300 ระบบ โดยมีความร่วมมือที่แข็งแกร่งกับภาครัฐและภาคธุรกิจอุตสาหกรรมชั้นนำ \n",
    "ทั้งกลุ่มปิโตรเลียม อาหาร ฮาร์ดดิสก์ การผลิตไฟฟ้า การขนส่ง ธุรกิจบริการ การศึกษา การแพทย์และการฟื้นฟูสมรรถภาพ\n",
    "ปัจจุบัน ฟีโบ้ โดยการนำของ รศ. ดร.สยาม เจริญเสียง ผู้อำนวยการสถาบันฯ มุ่งมั่นเพื่อยกระดับฟีโบ้เข้าสู่สถาบันชั้นนำระดับอาเซียนทางด้านวิทยาการหุ่นยนต์ \n",
    "รวมทั้งสร้างเครือข่ายพัฒนาหลักสูตรด้านหุ่นยนต์ ครูและนักเรียนของโรงเรียนทั่วประเทศมากกว่า 100 โรงเรียน'''"
   ]
  },
  {
   "cell_type": "code",
   "execution_count": 3,
   "metadata": {},
   "outputs": [],
   "source": [
    "sentense2 = webScrap(\"https://www.thairath.co.th/news/local/northeast/2695085\")"
   ]
  },
  {
   "cell_type": "code",
   "execution_count": 4,
   "metadata": {},
   "outputs": [
    {
     "name": "stdout",
     "output_type": "stream",
     "text": [
      "thanathorn/mt5-cpe-kmutt-thai-sentence-sum\n"
     ]
    },
    {
     "name": "stderr",
     "output_type": "stream",
     "text": [
      "You are using a model of type mt5 to instantiate a model of type t5. This is not supported for all configurations of models and can yield errors.\n"
     ]
    }
   ],
   "source": [
    "model = Mt5Thai()"
   ]
  },
  {
   "cell_type": "code",
   "execution_count": 5,
   "metadata": {},
   "outputs": [
    {
     "data": {
      "text/html": [
       "<span style=\"background-color:rgba(251,155,59,0);\"> </span><span style=\"background-color:rgba(251,155,59,0);\">แนวโน้ม</span><span style=\"background-color:rgba(251,155,59,0);\">ของ</span><span style=\"background-color:rgba(251,155,59,0);\">การใช้</span><span style=\"background-color:rgba(251,155,59,0.63643664);\">หุ่น</span><span style=\"background-color:rgba(251,155,59,0.73255473);\">ย</span><span style=\"background-color:rgba(251,155,59,0.7128962);\">นต์</span><span style=\"background-color:rgba(251,155,59,0);\">ทางด้าน</span><span style=\"background-color:rgba(251,155,59,0.6018843);\">การผลิต</span><span style=\"background-color:rgba(251,155,59,0);\">และ</span><span style=\"background-color:rgba(251,155,59,0);\">งาน</span><span style=\"background-color:rgba(251,155,59,0);\">บริการ</span><span style=\"background-color:rgba(251,155,59,0);\">มี</span><span style=\"background-color:rgba(251,155,59,0.62405324);\">จํานวน</span><span style=\"background-color:rgba(251,155,59,0.6697582);\">สูงขึ้น</span><span style=\"background-color:rgba(251,155,59,0.5723575);\">มากกว่า</span><span style=\"background-color:rgba(251,155,59,0.6133579);\"> 30%</span><span style=\"background-color:rgba(251,155,59,0.58735746);\"> ทุก</span><span style=\"background-color:rgba(251,155,59,0.6472304);\">ปี</span><span style=\"background-color:rgba(251,155,59,0);\"> แต่</span><span style=\"background-color:rgba(251,155,59,0);\">ประเทศไทย</span><span style=\"background-color:rgba(251,155,59,0.5359631);\">ยัง</span><span style=\"background-color:rgba(251,155,59,0.66351134);\">ขาด</span><span style=\"background-color:rgba(251,155,59,0.5566268);\">บุคลากร</span><span style=\"background-color:rgba(251,155,59,0.5635727);\">ด้าน</span><span style=\"background-color:rgba(251,155,59,0.9126335);\">วิทยา</span><span style=\"background-color:rgba(251,155,59,0.7354402);\">การ</span><span style=\"background-color:rgba(251,155,59,0.8916874);\">หุ่น</span><span style=\"background-color:rgba(251,155,59,0.822888);\">ย</span><span style=\"background-color:rgba(251,155,59,0.6324017);\">นต์</span><span style=\"background-color:rgba(251,155,59,0);\">และ</span><span style=\"background-color:rgba(251,155,59,0.5930293);\">ระบบ</span><span style=\"background-color:rgba(251,155,59,0.51856726);\">อัตโนมัติ</span><span style=\"background-color:rgba(251,155,59,0.5316914);\">ในทุก</span><span style=\"background-color:rgba(251,155,59,0.6125051);\">ระดับ</span><span style=\"background-color:rgba(251,155,59,0);\"> โดยเฉพาะ</span><span style=\"background-color:rgba(251,155,59,0.53143305);\">อาชีพ</span><span style=\"background-color:rgba(251,155,59,0.55676156);\">วิ</span><span style=\"background-color:rgba(251,155,59,0.7357029);\">ศ</span><span style=\"background-color:rgba(251,155,59,0);\">ว</span><span style=\"background-color:rgba(251,155,59,0);\">กร</span><span style=\"background-color:rgba(251,155,59,0);\"> </span><span style=\"background-color:rgba(251,155,59,0.59977895);\">อาจารย์</span><span style=\"background-color:rgba(251,155,59,0);\">และ</span><span style=\"background-color:rgba(251,155,59,0.71234274);\">นัก</span><span style=\"background-color:rgba(251,155,59,0.56177133);\">วิจัย</span><span style=\"background-color:rgba(251,155,59,0);\"> </span><span style=\"background-color:rgba(251,155,59,0.6121663);\">ฟี</span><span style=\"background-color:rgba(251,155,59,0.75994813);\">โบ</span><span style=\"background-color:rgba(251,155,59,0.6590243);\">้</span><span style=\"background-color:rgba(251,155,59,0.59112155);\">จึง</span><span style=\"background-color:rgba(251,155,59,0.703115);\">ได้รับการ</span><span style=\"background-color:rgba(251,155,59,0);\">ก่อตั้ง</span><span style=\"background-color:rgba(251,155,59,0.5584702);\">ขึ้น</span><span style=\"background-color:rgba(251,155,59,0);\"> </span><span style=\"background-color:rgba(251,155,59,0);\">ในปี</span><span style=\"background-color:rgba(251,155,59,0);\"> </span><span style=\"background-color:rgba(251,155,59,0.5431019);\">2538</span><span style=\"background-color:rgba(251,155,59,0);\"> โดย</span><span style=\"background-color:rgba(251,155,59,0.53635764);\"> ร</span><span style=\"background-color:rgba(251,155,59,0.76800346);\">ศ</span><span style=\"background-color:rgba(251,155,59,0.509867);\">.</span><span style=\"background-color:rgba(251,155,59,0);\"> </span><span style=\"background-color:rgba(251,155,59,0.65800166);\">ดร</span><span style=\"background-color:rgba(251,155,59,0.51652944);\">.</span><span style=\"background-color:rgba(251,155,59,0.5755027);\">ชิ</span><span style=\"background-color:rgba(251,155,59,0.6871313);\">ต</span><span style=\"background-color:rgba(251,155,59,0);\"> </span><span style=\"background-color:rgba(251,155,59,0.56085527);\">เหล่า</span><span style=\"background-color:rgba(251,155,59,0.6699718);\">วั</span><span style=\"background-color:rgba(251,155,59,0.6548029);\">ฒ</span><span style=\"background-color:rgba(251,155,59,0);\">นา</span><span style=\"background-color:rgba(251,155,59,0);\"> และ</span><span style=\"background-color:rgba(251,155,59,0.66225094);\">ฟี</span><span style=\"background-color:rgba(251,155,59,0.7284709);\">โบ</span><span style=\"background-color:rgba(251,155,59,0.60674345);\">้</span><span style=\"background-color:rgba(251,155,59,0);\">มี</span><span style=\"background-color:rgba(251,155,59,0);\">ค</span><span style=\"background-color:rgba(251,155,59,0.6779813);\">ติ</span><span style=\"background-color:rgba(251,155,59,0);\">พ</span><span style=\"background-color:rgba(251,155,59,0.61251956);\">จน์</span><span style=\"background-color:rgba(251,155,59,0.5228185);\">ว่า</span><span style=\"background-color:rgba(251,155,59,0.572553);\"> “</span><span style=\"background-color:rgba(251,155,59,0.52159244);\">A</span><span style=\"background-color:rgba(251,155,59,0.7397578);\"> C</span><span style=\"background-color:rgba(251,155,59,0.7329973);\">radle</span><span style=\"background-color:rgba(251,155,59,0.66656977);\"> of</span><span style=\"background-color:rgba(251,155,59,0.99881035);\"> Future</span><span style=\"background-color:rgba(251,155,59,0);\"> </span><span style=\"background-color:rgba(251,155,59,0.77235514);\">Leaders</span><span style=\"background-color:rgba(251,155,59,0);\"> in</span><span style=\"background-color:rgba(251,155,59,0.5814321);\"> Robot</span><span style=\"background-color:rgba(251,155,59,0);\">ics</span><span style=\"background-color:rgba(251,155,59,0);\">”</span><span style=\"background-color:rgba(251,155,59,0);\"> ที่</span><span style=\"background-color:rgba(251,155,59,0.64692795);\">มุ่ง</span><span style=\"background-color:rgba(251,155,59,0.6065485);\">สร้าง</span><span style=\"background-color:rgba(251,155,59,0);\">ผู้นํา</span><span style=\"background-color:rgba(251,155,59,0);\">ด้าน</span><span style=\"background-color:rgba(251,155,59,0.84050965);\">วิทยา</span><span style=\"background-color:rgba(251,155,59,0.69659066);\">การ</span><span style=\"background-color:rgba(251,155,59,0.8514996);\">หุ่น</span><span style=\"background-color:rgba(251,155,59,0.78570247);\">ย</span><span style=\"background-color:rgba(251,155,59,0.7008896);\">นต์</span><span style=\"background-color:rgba(251,155,59,0);\">ของไทย</span><span style=\"background-color:rgba(251,155,59,0);\"> </span><span style=\"background-color:rgba(251,155,59,0.5675671);\">ฟี</span><span style=\"background-color:rgba(251,155,59,0.7639179);\">โบ</span><span style=\"background-color:rgba(251,155,59,0.68040305);\">้</span><span style=\"background-color:rgba(251,155,59,0);\">เป็น</span><span style=\"background-color:rgba(251,155,59,0);\">สถาบัน</span><span style=\"background-color:rgba(251,155,59,0.52125055);\">ระดับ</span><span style=\"background-color:rgba(251,155,59,0);\">คณะ</span><span style=\"background-color:rgba(251,155,59,0);\">แห่ง</span><span style=\"background-color:rgba(251,155,59,0.642456);\">แรก</span><span style=\"background-color:rgba(251,155,59,0);\">และ</span><span style=\"background-color:rgba(251,155,59,0.6859827);\">แห่ง</span><span style=\"background-color:rgba(251,155,59,0.63800186);\">เดียว</span><span style=\"background-color:rgba(251,155,59,0);\">ในไทย</span><span style=\"background-color:rgba(251,155,59,0);\">ที่</span><span style=\"background-color:rgba(251,155,59,0);\">เปิด</span><span style=\"background-color:rgba(251,155,59,0);\">สอน</span><span style=\"background-color:rgba(251,155,59,0);\">และให้</span><span style=\"background-color:rgba(251,155,59,0);\">ปริญญา</span><span style=\"background-color:rgba(251,155,59,0.5199588);\">ครบ</span><span style=\"background-color:rgba(251,155,59,0.50674874);\">ทั้ง</span><span style=\"background-color:rgba(251,155,59,0.56014204);\">ระดับ</span><span style=\"background-color:rgba(251,155,59,0.50621283);\">ปริญญา</span><span style=\"background-color:rgba(251,155,59,0);\">ตรี</span><span style=\"background-color:rgba(251,155,59,0);\"> </span><span style=\"background-color:rgba(251,155,59,0.55661017);\">ปริญญา</span><span style=\"background-color:rgba(251,155,59,0.59030753);\">โท</span><span style=\"background-color:rgba(251,155,59,0);\"> และ</span><span style=\"background-color:rgba(251,155,59,0.60304576);\">ปริญญา</span><span style=\"background-color:rgba(251,155,59,0.6265382);\">เอก</span><span style=\"background-color:rgba(251,155,59,0);\"> ใน</span><span style=\"background-color:rgba(251,155,59,0);\">สาขา</span><span style=\"background-color:rgba(251,155,59,0.75347096);\">วิทยา</span><span style=\"background-color:rgba(251,155,59,0.6854344);\">การ</span><span style=\"background-color:rgba(251,155,59,0.8420676);\">หุ่น</span><span style=\"background-color:rgba(251,155,59,0.7697612);\">ย</span><span style=\"background-color:rgba(251,155,59,0.63488597);\">นต์</span><span style=\"background-color:rgba(251,155,59,0);\">และ</span><span style=\"background-color:rgba(251,155,59,0.51751536);\">ระบบ</span><span style=\"background-color:rgba(251,155,59,0);\">อัตโนมัติ</span><span style=\"background-color:rgba(251,155,59,0);\"> ทุก</span><span style=\"background-color:rgba(251,155,59,0);\">หลักสูตร</span><span style=\"background-color:rgba(251,155,59,0);\">เน้น</span><span style=\"background-color:rgba(251,155,59,0);\">หลัก</span><span style=\"background-color:rgba(251,155,59,0);\"> Out</span><span style=\"background-color:rgba(251,155,59,0.8592835);\">com</span><span style=\"background-color:rgba(251,155,59,0.6329318);\">e</span><span style=\"background-color:rgba(251,155,59,0.5366918);\">-</span><span style=\"background-color:rgba(251,155,59,0.6807129);\">based</span><span style=\"background-color:rgba(251,155,59,0);\"> Education</span><span style=\"background-color:rgba(251,155,59,0);\"> ที่</span><span style=\"background-color:rgba(251,155,59,0.53861845);\">บัณฑิต</span><span style=\"background-color:rgba(251,155,59,0.56002694);\">สามารถใช้</span><span style=\"background-color:rgba(251,155,59,0.7433571);\">สม</span><span style=\"background-color:rgba(251,155,59,0.8433471);\">ร</span><span style=\"background-color:rgba(251,155,59,1.0);\">รถ</span><span style=\"background-color:rgba(251,155,59,0.66298634);\">นะ</span><span style=\"background-color:rgba(251,155,59,0.7093839);\">ที่</span><span style=\"background-color:rgba(251,155,59,0.600132);\">เรียน</span><span style=\"background-color:rgba(251,155,59,0.6696801);\">ใน</span><span style=\"background-color:rgba(251,155,59,0.6866456);\">การพัฒนา</span><span style=\"background-color:rgba(251,155,59,0);\">เทคโนโลยี</span><span style=\"background-color:rgba(251,155,59,0.70744467);\">หุ่น</span><span style=\"background-color:rgba(251,155,59,0.840512);\">ย</span><span style=\"background-color:rgba(251,155,59,0.736104);\">นต์</span><span style=\"background-color:rgba(251,155,59,0);\">ขึ้น</span><span style=\"background-color:rgba(251,155,59,0);\">ได้</span><span style=\"background-color:rgba(251,155,59,0);\"> ทําให้</span><span style=\"background-color:rgba(251,155,59,0.558413);\">บัณฑิต</span><span style=\"background-color:rgba(251,155,59,0.6249311);\">ฟี</span><span style=\"background-color:rgba(251,155,59,0.79616356);\">โบ</span><span style=\"background-color:rgba(251,155,59,0.74497104);\">้</span><span style=\"background-color:rgba(251,155,59,0.53751284);\">เป็น</span><span style=\"background-color:rgba(251,155,59,0.6847847);\">ที่ต้องการ</span><span style=\"background-color:rgba(251,155,59,0);\">ของ</span><span style=\"background-color:rgba(251,155,59,0.5351767);\">ภาค</span><span style=\"background-color:rgba(251,155,59,0);\">เอกชน</span><span style=\"background-color:rgba(251,155,59,0);\">และ</span><span style=\"background-color:rgba(251,155,59,0.6902012);\">ภาครัฐ</span><span style=\"background-color:rgba(251,155,59,0);\">อย่างมาก</span><span style=\"background-color:rgba(251,155,59,0);\"> นอกจากนี้</span><span style=\"background-color:rgba(251,155,59,0);\">ฟี</span><span style=\"background-color:rgba(251,155,59,0.70856166);\">โบ</span><span style=\"background-color:rgba(251,155,59,0.6781174);\">้</span><span style=\"background-color:rgba(251,155,59,0);\">มีผล</span><span style=\"background-color:rgba(251,155,59,0);\">งานวิจัย</span><span style=\"background-color:rgba(251,155,59,0);\">/</span><span style=\"background-color:rgba(251,155,59,0.7970606);\">พัฒนา</span><span style=\"background-color:rgba(251,155,59,0);\">และ</span><span style=\"background-color:rgba(251,155,59,0);\">ให้บริการ</span><span style=\"background-color:rgba(251,155,59,0);\">วิชาการ</span><span style=\"background-color:rgba(251,155,59,0);\">ด้าน</span><span style=\"background-color:rgba(251,155,59,0.68288875);\">หุ่น</span><span style=\"background-color:rgba(251,155,59,0.8198108);\">ย</span><span style=\"background-color:rgba(251,155,59,0.69241744);\">นต์</span><span style=\"background-color:rgba(251,155,59,0.541867);\">เพื่อ</span><span style=\"background-color:rgba(251,155,59,0.75351864);\">การผลิต</span><span style=\"background-color:rgba(251,155,59,0);\">และ</span><span style=\"background-color:rgba(251,155,59,0.6713462);\">เพื่อ</span><span style=\"background-color:rgba(251,155,59,0.82614577);\">พัฒนา</span><span style=\"background-color:rgba(251,155,59,0.65043265);\">คุณภาพ</span><span style=\"background-color:rgba(251,155,59,0.54888445);\">ชีวิต</span><span style=\"background-color:rgba(251,155,59,0);\">มากกว่า</span><span style=\"background-color:rgba(251,155,59,0);\"> 300</span><span style=\"background-color:rgba(251,155,59,0.54593515);\"> ระบบ</span><span style=\"background-color:rgba(251,155,59,0);\"> โดยมี</span><span style=\"background-color:rgba(251,155,59,0);\">ความร่วมมือ</span><span style=\"background-color:rgba(251,155,59,0);\">ที่</span><span style=\"background-color:rgba(251,155,59,0);\">แข็งแกร่ง</span><span style=\"background-color:rgba(251,155,59,0);\">กับ</span><span style=\"background-color:rgba(251,155,59,0.5858346);\">ภาครัฐ</span><span style=\"background-color:rgba(251,155,59,0);\">และ</span><span style=\"background-color:rgba(251,155,59,0.50893986);\">ภาค</span><span style=\"background-color:rgba(251,155,59,0.6270219);\">ธุรกิจ</span><span style=\"background-color:rgba(251,155,59,0.5543747);\">อุตสาหกรรม</span><span style=\"background-color:rgba(251,155,59,0);\">ชั้นนํา</span><span style=\"background-color:rgba(251,155,59,0);\"> ทั้ง</span><span style=\"background-color:rgba(251,155,59,0);\">กลุ่ม</span><span style=\"background-color:rgba(251,155,59,0.64750844);\">ปิ</span><span style=\"background-color:rgba(251,155,59,0.61193025);\">โต</span><span style=\"background-color:rgba(251,155,59,0);\">ร</span><span style=\"background-color:rgba(251,155,59,0.5691376);\">เลีย</span><span style=\"background-color:rgba(251,155,59,0);\">ม</span><span style=\"background-color:rgba(251,155,59,0.5841131);\"> อาหาร</span><span style=\"background-color:rgba(251,155,59,0);\"> </span><span style=\"background-color:rgba(251,155,59,0.74260867);\">ฮ</span><span style=\"background-color:rgba(251,155,59,0.79576755);\">าร์ด</span><span style=\"background-color:rgba(251,155,59,0.62147343);\">ดิ</span><span style=\"background-color:rgba(251,155,59,0.5528522);\">สก์</span><span style=\"background-color:rgba(251,155,59,0);\"> </span><span style=\"background-color:rgba(251,155,59,0.64896387);\">การผลิต</span><span style=\"background-color:rgba(251,155,59,0);\">ไฟฟ้า</span><span style=\"background-color:rgba(251,155,59,0.51869076);\"> การ</span><span style=\"background-color:rgba(251,155,59,0.5401537);\">ขนส่ง</span><span style=\"background-color:rgba(251,155,59,0);\"> </span><span style=\"background-color:rgba(251,155,59,0.6160742);\">ธุรกิจ</span><span style=\"background-color:rgba(251,155,59,0.60667455);\">บริการ</span><span style=\"background-color:rgba(251,155,59,0);\"> </span><span style=\"background-color:rgba(251,155,59,0.6922317);\">การศึกษา</span><span style=\"background-color:rgba(251,155,59,0.5672981);\"> การ</span><span style=\"background-color:rgba(251,155,59,0.61189514);\">แพทย์</span><span style=\"background-color:rgba(251,155,59,0);\">และการ</span><span style=\"background-color:rgba(251,155,59,0.6394662);\">ฟื้นฟู</span><span style=\"background-color:rgba(251,155,59,0.7327319);\">สม</span><span style=\"background-color:rgba(251,155,59,0.79276633);\">ร</span><span style=\"background-color:rgba(251,155,59,0.87284863);\">รถ</span><span style=\"background-color:rgba(251,155,59,0);\">ภาพ</span><span style=\"background-color:rgba(251,155,59,0);\"> </span><span style=\"background-color:rgba(251,155,59,0);\">ปัจจุบัน</span><span style=\"background-color:rgba(251,155,59,0);\"> </span><span style=\"background-color:rgba(251,155,59,0.55033517);\">ฟี</span><span style=\"background-color:rgba(251,155,59,0.77458996);\">โบ</span><span style=\"background-color:rgba(251,155,59,0.6760296);\">้</span><span style=\"background-color:rgba(251,155,59,0);\"> โดย</span><span style=\"background-color:rgba(251,155,59,0.54890513);\">การนํา</span><span style=\"background-color:rgba(251,155,59,0);\">ของ</span><span style=\"background-color:rgba(251,155,59,0.5620116);\"> ร</span><span style=\"background-color:rgba(251,155,59,0.7481587);\">ศ</span><span style=\"background-color:rgba(251,155,59,0.63086534);\">.</span><span style=\"background-color:rgba(251,155,59,0);\"> </span><span style=\"background-color:rgba(251,155,59,0.6481511);\">ดร</span><span style=\"background-color:rgba(251,155,59,0.5374512);\">.</span><span style=\"background-color:rgba(251,155,59,0);\">สยาม</span><span style=\"background-color:rgba(251,155,59,0);\"> </span><span style=\"background-color:rgba(251,155,59,0.5777247);\">เจริญ</span><span style=\"background-color:rgba(251,155,59,0);\">เสียง</span><span style=\"background-color:rgba(251,155,59,0);\"> </span><span style=\"background-color:rgba(251,155,59,0);\">ผู้อํานวยการ</span><span style=\"background-color:rgba(251,155,59,0);\">สถาบัน</span><span style=\"background-color:rgba(251,155,59,0);\">ฯ</span><span style=\"background-color:rgba(251,155,59,0);\"> </span><span style=\"background-color:rgba(251,155,59,0.5559745);\">มุ่ง</span><span style=\"background-color:rgba(251,155,59,0.63675374);\">มั่น</span><span style=\"background-color:rgba(251,155,59,0.58070225);\">เพื่อ</span><span style=\"background-color:rgba(251,155,59,0.5548153);\">ยก</span><span style=\"background-color:rgba(251,155,59,0.63914645);\">ระดับ</span><span style=\"background-color:rgba(251,155,59,0.58205086);\">ฟี</span><span style=\"background-color:rgba(251,155,59,0.8077892);\">โบ</span><span style=\"background-color:rgba(251,155,59,0.7464406);\">้</span><span style=\"background-color:rgba(251,155,59,0);\">เข้าสู่</span><span style=\"background-color:rgba(251,155,59,0.5179297);\">สถาบัน</span><span style=\"background-color:rgba(251,155,59,0.53435826);\">ชั้นนํา</span><span style=\"background-color:rgba(251,155,59,0);\">ระดับ</span><span style=\"background-color:rgba(251,155,59,0);\">อาเซียน</span><span style=\"background-color:rgba(251,155,59,0);\">ทางด้าน</span><span style=\"background-color:rgba(251,155,59,0.76159155);\">วิทยา</span><span style=\"background-color:rgba(251,155,59,0.7293877);\">การ</span><span style=\"background-color:rgba(251,155,59,0.8617749);\">หุ่น</span><span style=\"background-color:rgba(251,155,59,0.8286359);\">ย</span><span style=\"background-color:rgba(251,155,59,0.7022541);\">นต์</span><span style=\"background-color:rgba(251,155,59,0);\"> รวมทั้ง</span><span style=\"background-color:rgba(251,155,59,0.5259476);\">สร้าง</span><span style=\"background-color:rgba(251,155,59,0);\">เครือข่าย</span><span style=\"background-color:rgba(251,155,59,0.6474533);\">พัฒนา</span><span style=\"background-color:rgba(251,155,59,0);\">หลักสูตร</span><span style=\"background-color:rgba(251,155,59,0);\">ด้าน</span><span style=\"background-color:rgba(251,155,59,0.77036846);\">หุ่น</span><span style=\"background-color:rgba(251,155,59,0.9315904);\">ย</span><span style=\"background-color:rgba(251,155,59,0.73135895);\">นต์</span><span style=\"background-color:rgba(251,155,59,0);\"> </span><span style=\"background-color:rgba(251,155,59,0.6163267);\">ครู</span><span style=\"background-color:rgba(251,155,59,0);\">และ</span><span style=\"background-color:rgba(251,155,59,0.63583505);\">นักเรียน</span><span style=\"background-color:rgba(251,155,59,0);\">ของ</span><span style=\"background-color:rgba(251,155,59,0);\">โรงเรียน</span><span style=\"background-color:rgba(251,155,59,0);\">ทั่วประเทศ</span><span style=\"background-color:rgba(251,155,59,0);\">มากกว่า</span><span style=\"background-color:rgba(251,155,59,0.5916166);\"> 100</span><span style=\"background-color:rgba(251,155,59,0);\"> </span><span style=\"background-color:rgba(251,155,59,0.6498172);\">โรงเรียน</span><span style=\"background-color:rgba(251,155,59,0);\">&lt;/s&gt;</span>"
      ],
      "text/plain": [
       "<IPython.core.display.HTML object>"
      ]
     },
     "metadata": {},
     "output_type": "display_data"
    }
   ],
   "source": [
    "model.tokenize(sentense)\n",
    "status, output_text, highlighted_text = model.summarize()"
   ]
  },
  {
   "cell_type": "code",
   "execution_count": 6,
   "metadata": {},
   "outputs": [
    {
     "data": {
      "text/html": [
       "ฟีโบ้เป็นสถาบันระดับคณะแห่งแรกและแห่งเดียวในไทยที่เปิดสอนและให้ปริญญาครบทั้งระดับปริญญาตรี โท โท และเอก ในสาขาวิทยาการหุ่นยนต์และระบบอัตโนมัติ ในปี 2536 ฟีโบ้มีคติพจน์ว่า “ A Cradle of Future Leaders in Robotics” ที่มุ่งสร้างผู้นําด้านวิทยาการหุ่นยนต์และระบบอัตโนมัติ"
      ],
      "text/plain": [
       "<IPython.core.display.HTML object>"
      ]
     },
     "metadata": {},
     "output_type": "display_data"
    }
   ],
   "source": [
    "display(HTML(output_text))"
   ]
  },
  {
   "attachments": {},
   "cell_type": "markdown",
   "metadata": {},
   "source": [
    "### NEWS"
   ]
  },
  {
   "cell_type": "code",
   "execution_count": 7,
   "metadata": {},
   "outputs": [
    {
     "name": "stderr",
     "output_type": "stream",
     "text": [
      "You are using a model of type mt5 to instantiate a model of type t5. This is not supported for all configurations of models and can yield errors.\n"
     ]
    }
   ],
   "source": [
    "from transformers import AutoTokenizer, T5ForConditionalGeneration\n",
    "\n",
    "model_name=\"thanathorn/mt5-cpe-kmutt-thai-sentence-sum\"\n",
    "# model_name = \"Nopphakorn/mt5-news-thaisum\"\n",
    "tokenizer = AutoTokenizer.from_pretrained(model_name)\n",
    "model = T5ForConditionalGeneration.from_pretrained(model_name, \n",
    "                        output_attentions=True,\n",
    "                        output_scores=True,\n",
    "                        # from_pt=True,\n",
    "                        output_hidden_states=True,\n",
    "                    )"
   ]
  },
  {
   "cell_type": "code",
   "execution_count": 16,
   "metadata": {},
   "outputs": [],
   "source": [
    "input_ids2 = tokenizer.encode(sentense, return_tensors=\"pt\", padding=\"longest\")\n",
    "min_length = 50\n",
    "output2 = model.generate(\n",
    "                        input_ids2, \n",
    "                        min_length=min_length,     # Parameters that control the length of the output\n",
    "                        max_length=min_length*2, \n",
    "                        do_sample=True,                 # Parameters that control the generation strategy used\n",
    "                        num_beams=3,    \n",
    "                        output_attentions=True,         # Parameters that define the output variables of `generate`\n",
    "                        output_scores=True, \n",
    "                        return_dict_in_generate=True,\n",
    "                        output_hidden_states=True,\n",
    "                        )\n",
    "output_text2 = tokenizer.decode(output2.sequences[0], skip_special_tokens=True)\n",
    "tokens2 = tokenizer.convert_ids_to_tokens(input_ids2[0])"
   ]
  },
  {
   "cell_type": "code",
   "execution_count": 26,
   "metadata": {},
   "outputs": [],
   "source": [
    "import pandas as pd\n",
    "import numpy as np\n",
    "import html\n",
    "import tensorflow as tf\n",
    "def html_escape(text):\n",
    "    return html.escape(text)\n",
    "\n",
    "# Highlight & export function\n",
    "def highlightedText(tokens, output, num_head=0,pad='', cut_off=0.5, save_html=False) -> list:\n",
    "    '''\n",
    "    https://adataanalyst.com/machine-learning/highlight-text-using-weights/\n",
    "    '''\n",
    "    highlighted_text = []\n",
    "    output_att = tf.stack(output.encoder_attentions)\n",
    "\n",
    "    reshaped_scores = tf.reduce_mean(output_att[-1,:,num_head], axis=0)\n",
    "    df = pd.DataFrame(reshaped_scores).sum(axis=0)\n",
    "    df = 1/df\n",
    "    for i, word in enumerate(tokens):\n",
    "        \n",
    "        if '▁' in word: word = word.replace('▁', ' ') # change space '▁' to ' '\n",
    "\n",
    "        # df_sumcol = pd.DataFrame( attention[encoder1][0][encoder2] ).sum(axis=0) # reduce dim(N, N) to dim(N, 1) by sum column\n",
    "        df /= df.max() # normalize\n",
    "\n",
    "        weight = df[i]\n",
    "        if weight < cut_off: weight = 0\n",
    "        \n",
    "        highlighted_text.append('<span style=\"background-color:rgba(251,155,59,' + str(weight) + ');\">' + html_escape(word) + '</span>')\n",
    "        # highlighted_text.append('' + html_escape(word) + '')\n",
    "        \n",
    "    highlighted_text = pad.join(highlighted_text)\n",
    "\n",
    "    display(HTML(highlighted_text))\n",
    "\n",
    "    if save_html:\n",
    "        html = HTML(highlighted_text).data\n",
    "        # file name ex. attention_0_1.html\n",
    "        with open(f'attention.html', 'w') as f:\n",
    "            f.write(html)\n",
    "\n",
    "    return highlighted_text"
   ]
  },
  {
   "cell_type": "code",
   "execution_count": 39,
   "metadata": {},
   "outputs": [
    {
     "data": {
      "text/html": [
       "<span style=\"background-color:rgba(251,155,59,0);\"> </span><span style=\"background-color:rgba(251,155,59,0);\">แนวโน้ม</span><span style=\"background-color:rgba(251,155,59,0);\">ของ</span><span style=\"background-color:rgba(251,155,59,0);\">การใช้</span><span style=\"background-color:rgba(251,155,59,0);\">หุ่น</span><span style=\"background-color:rgba(251,155,59,0.80563986);\">ย</span><span style=\"background-color:rgba(251,155,59,0.6925815);\">นต์</span><span style=\"background-color:rgba(251,155,59,0);\">ทางด้าน</span><span style=\"background-color:rgba(251,155,59,0);\">การผลิต</span><span style=\"background-color:rgba(251,155,59,0);\">และ</span><span style=\"background-color:rgba(251,155,59,0);\">งาน</span><span style=\"background-color:rgba(251,155,59,0);\">บริการ</span><span style=\"background-color:rgba(251,155,59,0);\">มี</span><span style=\"background-color:rgba(251,155,59,0);\">จํานวน</span><span style=\"background-color:rgba(251,155,59,0);\">สูงขึ้น</span><span style=\"background-color:rgba(251,155,59,0);\">มากกว่า</span><span style=\"background-color:rgba(251,155,59,0);\"> 30%</span><span style=\"background-color:rgba(251,155,59,0);\"> ทุก</span><span style=\"background-color:rgba(251,155,59,0.5100641);\">ปี</span><span style=\"background-color:rgba(251,155,59,0);\"> แต่</span><span style=\"background-color:rgba(251,155,59,0);\">ประเทศไทย</span><span style=\"background-color:rgba(251,155,59,0.67171204);\">ยัง</span><span style=\"background-color:rgba(251,155,59,0);\">ขาด</span><span style=\"background-color:rgba(251,155,59,0);\">บุคลากร</span><span style=\"background-color:rgba(251,155,59,0);\">ด้าน</span><span style=\"background-color:rgba(251,155,59,0);\">วิทยา</span><span style=\"background-color:rgba(251,155,59,0.70486915);\">การ</span><span style=\"background-color:rgba(251,155,59,0.5457901);\">หุ่น</span><span style=\"background-color:rgba(251,155,59,0);\">ย</span><span style=\"background-color:rgba(251,155,59,0);\">นต์</span><span style=\"background-color:rgba(251,155,59,0);\">และ</span><span style=\"background-color:rgba(251,155,59,0);\">ระบบ</span><span style=\"background-color:rgba(251,155,59,0);\">อัตโนมัติ</span><span style=\"background-color:rgba(251,155,59,0);\">ในทุก</span><span style=\"background-color:rgba(251,155,59,0);\">ระดับ</span><span style=\"background-color:rgba(251,155,59,0);\"> โดยเฉพาะ</span><span style=\"background-color:rgba(251,155,59,0);\">อาชีพ</span><span style=\"background-color:rgba(251,155,59,0);\">วิ</span><span style=\"background-color:rgba(251,155,59,0.5321682);\">ศ</span><span style=\"background-color:rgba(251,155,59,0.5264481);\">ว</span><span style=\"background-color:rgba(251,155,59,0.61380327);\">กร</span><span style=\"background-color:rgba(251,155,59,0);\"> </span><span style=\"background-color:rgba(251,155,59,0);\">อาจารย์</span><span style=\"background-color:rgba(251,155,59,0);\">และ</span><span style=\"background-color:rgba(251,155,59,0);\">นัก</span><span style=\"background-color:rgba(251,155,59,0);\">วิจัย</span><span style=\"background-color:rgba(251,155,59,0);\"> </span><span style=\"background-color:rgba(251,155,59,0);\">ฟี</span><span style=\"background-color:rgba(251,155,59,0.51076704);\">โบ</span><span style=\"background-color:rgba(251,155,59,0.6204526);\">้</span><span style=\"background-color:rgba(251,155,59,0);\">จึง</span><span style=\"background-color:rgba(251,155,59,0);\">ได้รับการ</span><span style=\"background-color:rgba(251,155,59,0);\">ก่อตั้ง</span><span style=\"background-color:rgba(251,155,59,0);\">ขึ้น</span><span style=\"background-color:rgba(251,155,59,0);\"> </span><span style=\"background-color:rgba(251,155,59,0);\">ในปี</span><span style=\"background-color:rgba(251,155,59,0);\"> </span><span style=\"background-color:rgba(251,155,59,0);\">2538</span><span style=\"background-color:rgba(251,155,59,0);\"> โดย</span><span style=\"background-color:rgba(251,155,59,0);\"> ร</span><span style=\"background-color:rgba(251,155,59,0);\">ศ</span><span style=\"background-color:rgba(251,155,59,0);\">.</span><span style=\"background-color:rgba(251,155,59,0);\"> </span><span style=\"background-color:rgba(251,155,59,0);\">ดร</span><span style=\"background-color:rgba(251,155,59,0.5329822);\">.</span><span style=\"background-color:rgba(251,155,59,0);\">ชิ</span><span style=\"background-color:rgba(251,155,59,0.5663046);\">ต</span><span style=\"background-color:rgba(251,155,59,0);\"> </span><span style=\"background-color:rgba(251,155,59,0);\">เหล่า</span><span style=\"background-color:rgba(251,155,59,0.5622981);\">วั</span><span style=\"background-color:rgba(251,155,59,0);\">ฒ</span><span style=\"background-color:rgba(251,155,59,0.5443984);\">นา</span><span style=\"background-color:rgba(251,155,59,0);\"> และ</span><span style=\"background-color:rgba(251,155,59,0);\">ฟี</span><span style=\"background-color:rgba(251,155,59,0);\">โบ</span><span style=\"background-color:rgba(251,155,59,0);\">้</span><span style=\"background-color:rgba(251,155,59,0);\">มี</span><span style=\"background-color:rgba(251,155,59,0);\">ค</span><span style=\"background-color:rgba(251,155,59,0);\">ติ</span><span style=\"background-color:rgba(251,155,59,0);\">พ</span><span style=\"background-color:rgba(251,155,59,0);\">จน์</span><span style=\"background-color:rgba(251,155,59,0.65835387);\">ว่า</span><span style=\"background-color:rgba(251,155,59,0);\"> “</span><span style=\"background-color:rgba(251,155,59,0);\">A</span><span style=\"background-color:rgba(251,155,59,0);\"> C</span><span style=\"background-color:rgba(251,155,59,0.6484712);\">radle</span><span style=\"background-color:rgba(251,155,59,0.57577443);\"> of</span><span style=\"background-color:rgba(251,155,59,0);\"> Future</span><span style=\"background-color:rgba(251,155,59,0);\"> </span><span style=\"background-color:rgba(251,155,59,0);\">Leaders</span><span style=\"background-color:rgba(251,155,59,0);\"> in</span><span style=\"background-color:rgba(251,155,59,0);\"> Robot</span><span style=\"background-color:rgba(251,155,59,0);\">ics</span><span style=\"background-color:rgba(251,155,59,0);\">”</span><span style=\"background-color:rgba(251,155,59,0);\"> ที่</span><span style=\"background-color:rgba(251,155,59,0);\">มุ่ง</span><span style=\"background-color:rgba(251,155,59,0);\">สร้าง</span><span style=\"background-color:rgba(251,155,59,0);\">ผู้นํา</span><span style=\"background-color:rgba(251,155,59,0);\">ด้าน</span><span style=\"background-color:rgba(251,155,59,0.5022231);\">วิทยา</span><span style=\"background-color:rgba(251,155,59,0.67055756);\">การ</span><span style=\"background-color:rgba(251,155,59,0.5669789);\">หุ่น</span><span style=\"background-color:rgba(251,155,59,0);\">ย</span><span style=\"background-color:rgba(251,155,59,0.5854693);\">นต์</span><span style=\"background-color:rgba(251,155,59,0);\">ของไทย</span><span style=\"background-color:rgba(251,155,59,0);\"> </span><span style=\"background-color:rgba(251,155,59,0);\">ฟี</span><span style=\"background-color:rgba(251,155,59,0);\">โบ</span><span style=\"background-color:rgba(251,155,59,0);\">้</span><span style=\"background-color:rgba(251,155,59,0);\">เป็น</span><span style=\"background-color:rgba(251,155,59,0);\">สถาบัน</span><span style=\"background-color:rgba(251,155,59,0);\">ระดับ</span><span style=\"background-color:rgba(251,155,59,0);\">คณะ</span><span style=\"background-color:rgba(251,155,59,0);\">แห่ง</span><span style=\"background-color:rgba(251,155,59,0.698465);\">แรก</span><span style=\"background-color:rgba(251,155,59,0);\">และ</span><span style=\"background-color:rgba(251,155,59,0.5673012);\">แห่ง</span><span style=\"background-color:rgba(251,155,59,0.6094372);\">เดียว</span><span style=\"background-color:rgba(251,155,59,0);\">ในไทย</span><span style=\"background-color:rgba(251,155,59,0.55554384);\">ที่</span><span style=\"background-color:rgba(251,155,59,0);\">เปิด</span><span style=\"background-color:rgba(251,155,59,0);\">สอน</span><span style=\"background-color:rgba(251,155,59,0);\">และให้</span><span style=\"background-color:rgba(251,155,59,0);\">ปริญญา</span><span style=\"background-color:rgba(251,155,59,0);\">ครบ</span><span style=\"background-color:rgba(251,155,59,0);\">ทั้ง</span><span style=\"background-color:rgba(251,155,59,0.54831535);\">ระดับ</span><span style=\"background-color:rgba(251,155,59,0);\">ปริญญา</span><span style=\"background-color:rgba(251,155,59,0.6080454);\">ตรี</span><span style=\"background-color:rgba(251,155,59,0);\"> </span><span style=\"background-color:rgba(251,155,59,0);\">ปริญญา</span><span style=\"background-color:rgba(251,155,59,0.63290113);\">โท</span><span style=\"background-color:rgba(251,155,59,0);\"> และ</span><span style=\"background-color:rgba(251,155,59,0);\">ปริญญา</span><span style=\"background-color:rgba(251,155,59,0.7565704);\">เอก</span><span style=\"background-color:rgba(251,155,59,0);\"> ใน</span><span style=\"background-color:rgba(251,155,59,0);\">สาขา</span><span style=\"background-color:rgba(251,155,59,0.5035422);\">วิทยา</span><span style=\"background-color:rgba(251,155,59,0.7284417);\">การ</span><span style=\"background-color:rgba(251,155,59,0.5596633);\">หุ่น</span><span style=\"background-color:rgba(251,155,59,0);\">ย</span><span style=\"background-color:rgba(251,155,59,0);\">นต์</span><span style=\"background-color:rgba(251,155,59,0.5385577);\">และ</span><span style=\"background-color:rgba(251,155,59,0);\">ระบบ</span><span style=\"background-color:rgba(251,155,59,0);\">อัตโนมัติ</span><span style=\"background-color:rgba(251,155,59,0);\"> ทุก</span><span style=\"background-color:rgba(251,155,59,0);\">หลักสูตร</span><span style=\"background-color:rgba(251,155,59,0);\">เน้น</span><span style=\"background-color:rgba(251,155,59,0);\">หลัก</span><span style=\"background-color:rgba(251,155,59,0);\"> Out</span><span style=\"background-color:rgba(251,155,59,0);\">com</span><span style=\"background-color:rgba(251,155,59,0.5757826);\">e</span><span style=\"background-color:rgba(251,155,59,0.5311921);\">-</span><span style=\"background-color:rgba(251,155,59,0);\">based</span><span style=\"background-color:rgba(251,155,59,0);\"> Education</span><span style=\"background-color:rgba(251,155,59,0);\"> ที่</span><span style=\"background-color:rgba(251,155,59,0);\">บัณฑิต</span><span style=\"background-color:rgba(251,155,59,0);\">สามารถใช้</span><span style=\"background-color:rgba(251,155,59,0);\">สม</span><span style=\"background-color:rgba(251,155,59,1.0);\">ร</span><span style=\"background-color:rgba(251,155,59,0.94197613);\">รถ</span><span style=\"background-color:rgba(251,155,59,0.5393207);\">นะ</span><span style=\"background-color:rgba(251,155,59,0);\">ที่</span><span style=\"background-color:rgba(251,155,59,0.7888696);\">เรียน</span><span style=\"background-color:rgba(251,155,59,0);\">ใน</span><span style=\"background-color:rgba(251,155,59,0);\">การพัฒนา</span><span style=\"background-color:rgba(251,155,59,0);\">เทคโนโลยี</span><span style=\"background-color:rgba(251,155,59,0);\">หุ่น</span><span style=\"background-color:rgba(251,155,59,0.5377935);\">ย</span><span style=\"background-color:rgba(251,155,59,0.71734804);\">นต์</span><span style=\"background-color:rgba(251,155,59,0);\">ขึ้น</span><span style=\"background-color:rgba(251,155,59,0);\">ได้</span><span style=\"background-color:rgba(251,155,59,0);\"> ทําให้</span><span style=\"background-color:rgba(251,155,59,0);\">บัณฑิต</span><span style=\"background-color:rgba(251,155,59,0);\">ฟี</span><span style=\"background-color:rgba(251,155,59,0);\">โบ</span><span style=\"background-color:rgba(251,155,59,0.77511007);\">้</span><span style=\"background-color:rgba(251,155,59,0);\">เป็น</span><span style=\"background-color:rgba(251,155,59,0);\">ที่ต้องการ</span><span style=\"background-color:rgba(251,155,59,0);\">ของ</span><span style=\"background-color:rgba(251,155,59,0.54479575);\">ภาค</span><span style=\"background-color:rgba(251,155,59,0);\">เอกชน</span><span style=\"background-color:rgba(251,155,59,0);\">และ</span><span style=\"background-color:rgba(251,155,59,0);\">ภาครัฐ</span><span style=\"background-color:rgba(251,155,59,0);\">อย่างมาก</span><span style=\"background-color:rgba(251,155,59,0);\"> นอกจากนี้</span><span style=\"background-color:rgba(251,155,59,0);\">ฟี</span><span style=\"background-color:rgba(251,155,59,0);\">โบ</span><span style=\"background-color:rgba(251,155,59,0.6096208);\">้</span><span style=\"background-color:rgba(251,155,59,0);\">มีผล</span><span style=\"background-color:rgba(251,155,59,0);\">งานวิจัย</span><span style=\"background-color:rgba(251,155,59,0);\">/</span><span style=\"background-color:rgba(251,155,59,0.54369324);\">พัฒนา</span><span style=\"background-color:rgba(251,155,59,0);\">และ</span><span style=\"background-color:rgba(251,155,59,0);\">ให้บริการ</span><span style=\"background-color:rgba(251,155,59,0);\">วิชาการ</span><span style=\"background-color:rgba(251,155,59,0);\">ด้าน</span><span style=\"background-color:rgba(251,155,59,0);\">หุ่น</span><span style=\"background-color:rgba(251,155,59,0.55251044);\">ย</span><span style=\"background-color:rgba(251,155,59,0.6799041);\">นต์</span><span style=\"background-color:rgba(251,155,59,0);\">เพื่อ</span><span style=\"background-color:rgba(251,155,59,0);\">การผลิต</span><span style=\"background-color:rgba(251,155,59,0);\">และ</span><span style=\"background-color:rgba(251,155,59,0);\">เพื่อ</span><span style=\"background-color:rgba(251,155,59,0);\">พัฒนา</span><span style=\"background-color:rgba(251,155,59,0);\">คุณภาพ</span><span style=\"background-color:rgba(251,155,59,0);\">ชีวิต</span><span style=\"background-color:rgba(251,155,59,0);\">มากกว่า</span><span style=\"background-color:rgba(251,155,59,0);\"> 300</span><span style=\"background-color:rgba(251,155,59,0);\"> ระบบ</span><span style=\"background-color:rgba(251,155,59,0);\"> โดยมี</span><span style=\"background-color:rgba(251,155,59,0);\">ความร่วมมือ</span><span style=\"background-color:rgba(251,155,59,0);\">ที่</span><span style=\"background-color:rgba(251,155,59,0);\">แข็งแกร่ง</span><span style=\"background-color:rgba(251,155,59,0.5892038);\">กับ</span><span style=\"background-color:rgba(251,155,59,0);\">ภาครัฐ</span><span style=\"background-color:rgba(251,155,59,0.5369893);\">และ</span><span style=\"background-color:rgba(251,155,59,0);\">ภาค</span><span style=\"background-color:rgba(251,155,59,0);\">ธุรกิจ</span><span style=\"background-color:rgba(251,155,59,0);\">อุตสาหกรรม</span><span style=\"background-color:rgba(251,155,59,0);\">ชั้นนํา</span><span style=\"background-color:rgba(251,155,59,0);\"> ทั้ง</span><span style=\"background-color:rgba(251,155,59,0);\">กลุ่ม</span><span style=\"background-color:rgba(251,155,59,0);\">ปิ</span><span style=\"background-color:rgba(251,155,59,0.61091304);\">โต</span><span style=\"background-color:rgba(251,155,59,0.6970684);\">ร</span><span style=\"background-color:rgba(251,155,59,0.6251422);\">เลีย</span><span style=\"background-color:rgba(251,155,59,0);\">ม</span><span style=\"background-color:rgba(251,155,59,0.5983862);\"> อาหาร</span><span style=\"background-color:rgba(251,155,59,0);\"> </span><span style=\"background-color:rgba(251,155,59,0);\">ฮ</span><span style=\"background-color:rgba(251,155,59,0.7233364);\">าร์ด</span><span style=\"background-color:rgba(251,155,59,0.7851197);\">ดิ</span><span style=\"background-color:rgba(251,155,59,0.6065757);\">สก์</span><span style=\"background-color:rgba(251,155,59,0);\"> </span><span style=\"background-color:rgba(251,155,59,0);\">การผลิต</span><span style=\"background-color:rgba(251,155,59,0.5266787);\">ไฟฟ้า</span><span style=\"background-color:rgba(251,155,59,0.5047665);\"> การ</span><span style=\"background-color:rgba(251,155,59,0.52734977);\">ขนส่ง</span><span style=\"background-color:rgba(251,155,59,0);\"> </span><span style=\"background-color:rgba(251,155,59,0);\">ธุรกิจ</span><span style=\"background-color:rgba(251,155,59,0.5766815);\">บริการ</span><span style=\"background-color:rgba(251,155,59,0);\"> </span><span style=\"background-color:rgba(251,155,59,0.6129051);\">การศึกษา</span><span style=\"background-color:rgba(251,155,59,0);\"> การ</span><span style=\"background-color:rgba(251,155,59,0.72311604);\">แพทย์</span><span style=\"background-color:rgba(251,155,59,0);\">และการ</span><span style=\"background-color:rgba(251,155,59,0);\">ฟื้นฟู</span><span style=\"background-color:rgba(251,155,59,0.8475433);\">สม</span><span style=\"background-color:rgba(251,155,59,0.9163387);\">ร</span><span style=\"background-color:rgba(251,155,59,0.7567176);\">รถ</span><span style=\"background-color:rgba(251,155,59,0);\">ภาพ</span><span style=\"background-color:rgba(251,155,59,0);\"> </span><span style=\"background-color:rgba(251,155,59,0);\">ปัจจุบัน</span><span style=\"background-color:rgba(251,155,59,0);\"> </span><span style=\"background-color:rgba(251,155,59,0);\">ฟี</span><span style=\"background-color:rgba(251,155,59,0);\">โบ</span><span style=\"background-color:rgba(251,155,59,0.631437);\">้</span><span style=\"background-color:rgba(251,155,59,0);\"> โดย</span><span style=\"background-color:rgba(251,155,59,0);\">การนํา</span><span style=\"background-color:rgba(251,155,59,0);\">ของ</span><span style=\"background-color:rgba(251,155,59,0);\"> ร</span><span style=\"background-color:rgba(251,155,59,0);\">ศ</span><span style=\"background-color:rgba(251,155,59,0);\">.</span><span style=\"background-color:rgba(251,155,59,0);\"> </span><span style=\"background-color:rgba(251,155,59,0);\">ดร</span><span style=\"background-color:rgba(251,155,59,0.66487247);\">.</span><span style=\"background-color:rgba(251,155,59,0);\">สยาม</span><span style=\"background-color:rgba(251,155,59,0);\"> </span><span style=\"background-color:rgba(251,155,59,0);\">เจริญ</span><span style=\"background-color:rgba(251,155,59,0);\">เสียง</span><span style=\"background-color:rgba(251,155,59,0);\"> </span><span style=\"background-color:rgba(251,155,59,0);\">ผู้อํานวยการ</span><span style=\"background-color:rgba(251,155,59,0);\">สถาบัน</span><span style=\"background-color:rgba(251,155,59,0);\">ฯ</span><span style=\"background-color:rgba(251,155,59,0);\"> </span><span style=\"background-color:rgba(251,155,59,0);\">มุ่ง</span><span style=\"background-color:rgba(251,155,59,0);\">มั่น</span><span style=\"background-color:rgba(251,155,59,0);\">เพื่อ</span><span style=\"background-color:rgba(251,155,59,0.5431075);\">ยก</span><span style=\"background-color:rgba(251,155,59,0);\">ระดับ</span><span style=\"background-color:rgba(251,155,59,0);\">ฟี</span><span style=\"background-color:rgba(251,155,59,0);\">โบ</span><span style=\"background-color:rgba(251,155,59,0.607765);\">้</span><span style=\"background-color:rgba(251,155,59,0);\">เข้าสู่</span><span style=\"background-color:rgba(251,155,59,0);\">สถาบัน</span><span style=\"background-color:rgba(251,155,59,0);\">ชั้นนํา</span><span style=\"background-color:rgba(251,155,59,0);\">ระดับ</span><span style=\"background-color:rgba(251,155,59,0);\">อาเซียน</span><span style=\"background-color:rgba(251,155,59,0);\">ทางด้าน</span><span style=\"background-color:rgba(251,155,59,0.50941133);\">วิทยา</span><span style=\"background-color:rgba(251,155,59,0.7701606);\">การ</span><span style=\"background-color:rgba(251,155,59,0.59600073);\">หุ่น</span><span style=\"background-color:rgba(251,155,59,0);\">ย</span><span style=\"background-color:rgba(251,155,59,0.6310331);\">นต์</span><span style=\"background-color:rgba(251,155,59,0);\"> รวมทั้ง</span><span style=\"background-color:rgba(251,155,59,0);\">สร้าง</span><span style=\"background-color:rgba(251,155,59,0);\">เครือข่าย</span><span style=\"background-color:rgba(251,155,59,0);\">พัฒนา</span><span style=\"background-color:rgba(251,155,59,0);\">หลักสูตร</span><span style=\"background-color:rgba(251,155,59,0);\">ด้าน</span><span style=\"background-color:rgba(251,155,59,0);\">หุ่น</span><span style=\"background-color:rgba(251,155,59,0.52504295);\">ย</span><span style=\"background-color:rgba(251,155,59,0.7843642);\">นต์</span><span style=\"background-color:rgba(251,155,59,0);\"> </span><span style=\"background-color:rgba(251,155,59,0);\">ครู</span><span style=\"background-color:rgba(251,155,59,0.76637155);\">และ</span><span style=\"background-color:rgba(251,155,59,0.6571229);\">นักเรียน</span><span style=\"background-color:rgba(251,155,59,0.77185106);\">ของ</span><span style=\"background-color:rgba(251,155,59,0.53876126);\">โรงเรียน</span><span style=\"background-color:rgba(251,155,59,0);\">ทั่วประเทศ</span><span style=\"background-color:rgba(251,155,59,0);\">มากกว่า</span><span style=\"background-color:rgba(251,155,59,0.6109328);\"> 100</span><span style=\"background-color:rgba(251,155,59,0);\"> </span><span style=\"background-color:rgba(251,155,59,0);\">โรงเรียน</span><span style=\"background-color:rgba(251,155,59,0);\">&lt;/s&gt;</span>"
      ],
      "text/plain": [
       "<IPython.core.display.HTML object>"
      ]
     },
     "metadata": {},
     "output_type": "display_data"
    }
   ],
   "source": [
    "z = highlightedText(tokens2, output2, 11)"
   ]
  },
  {
   "cell_type": "code",
   "execution_count": 19,
   "metadata": {},
   "outputs": [
    {
     "data": {
      "text/html": [
       "ฟีโบ้เป็นสถาบันระดับคณะแห่งแรกและแห่งเดียวในไทยที่เปิดสอนและให้ปริญญาครบทั้งระดับปริญญาตรี โท โท และเอก ในสาขาวิทยาการหุ่นยนต์และระบบอัตโนมัติ ในปี 2536 ฟีโบ้มีคติพจน์ว่า “ A Cradle of Future Leaders in Robotics” ที่มุ่งสร้างผู้นําด้านวิทยาการหุ่นยนต์และระบบอัตโนมัติ"
      ],
      "text/plain": [
       "<IPython.core.display.HTML object>"
      ]
     },
     "metadata": {},
     "output_type": "display_data"
    }
   ],
   "source": [
    "display(HTML(output_text))"
   ]
  },
  {
   "cell_type": "code",
   "execution_count": null,
   "metadata": {},
   "outputs": [],
   "source": []
  }
 ],
 "metadata": {
  "kernelspec": {
   "display_name": "Python 3",
   "language": "python",
   "name": "python3"
  },
  "language_info": {
   "codemirror_mode": {
    "name": "ipython",
    "version": 3
   },
   "file_extension": ".py",
   "mimetype": "text/x-python",
   "name": "python",
   "nbconvert_exporter": "python",
   "pygments_lexer": "ipython3",
   "version": "3.10.10"
  },
  "orig_nbformat": 4
 },
 "nbformat": 4,
 "nbformat_minor": 2
}
