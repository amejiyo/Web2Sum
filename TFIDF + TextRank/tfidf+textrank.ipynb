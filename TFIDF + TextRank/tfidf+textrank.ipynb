{
  "nbformat": 4,
  "nbformat_minor": 0,
  "metadata": {
    "colab": {
      "provenance": [],
      "toc_visible": true,
      "authorship_tag": "ABX9TyPJL11//mImso9abGhgHi1h",
      "include_colab_link": true
    },
    "kernelspec": {
      "name": "python3",
      "display_name": "Python 3"
    },
    "language_info": {
      "name": "python"
    }
  },
  "cells": [
    {
      "cell_type": "markdown",
      "metadata": {
        "id": "view-in-github",
        "colab_type": "text"
      },
      "source": [
        "<a href=\"https://colab.research.google.com/github/amejiyo/WebSum/blob/main/TFIDF%20%2B%20TextRank/tfidf%2Btextrank.ipynb\" target=\"_parent\"><img src=\"https://colab.research.google.com/assets/colab-badge.svg\" alt=\"Open In Colab\"/></a>"
      ]
    },
    {
      "cell_type": "markdown",
      "source": [
        "# **Inference**"
      ],
      "metadata": {
        "id": "u5ESaNUZ4H71"
      }
    },
    {
      "cell_type": "code",
      "source": [
        "!pip install thai-segmenter spacy_thai"
      ],
      "metadata": {
        "id": "VsKSQFlBADoy"
      },
      "execution_count": null,
      "outputs": []
    },
    {
      "cell_type": "code",
      "source": [
        "from sklearn.feature_extraction.text import TfidfVectorizer\n",
        "import numpy as np\n",
        "import pandas as pd\n",
        "import html\n",
        "from IPython.core.display import display, HTML\n",
        "from collections import OrderedDict\n",
        "\n",
        "# Prevent special characters like & and < to cause the browser to display something other than what you intended.\n",
        "def html_escape(text):\n",
        "    return html.escape(text)\n",
        "\n",
        "# Thai sentence segmentation\n",
        "from thai_segmenter import sentence_segment\n",
        "\n",
        "# Thai word tokenization\n",
        "import spacy_thai"
      ],
      "metadata": {
        "id": "DyaoigjAAEzK"
      },
      "execution_count": 74,
      "outputs": []
    },
    {
      "cell_type": "code",
      "source": [
        "paragraph = '''แนวโน้มของการใช้หุ่นยนต์ทางด้านการผลิตและงานบริการมีจำนวนสูงขึ้นมากกว่า 30% ทุกปี แต่ประเทศไทยยังขาดบุคลากรด้านวิทยาการหุ่นยนต์และระบบอัตโนมัติในทุกระดับ \n",
        "โดยเฉพาะอาชีพวิศวกร อาจารย์และนักวิจัย ฟีโบ้จึงได้รับการก่อตั้งขึ้น ในปี 2538 โดย รศ. ดร.ชิต เหล่าวัฒนา และฟีโบ้มีคติพจน์ว่า “A Cradle of Future Leaders in Robotics” \n",
        "ที่มุ่งสร้างผู้นำด้านวิทยาการหุ่นยนต์ของไทย\n",
        "ฟีโบ้เป็นสถาบันระดับคณะแห่งแรกและแห่งเดียวในไทยที่เปิดสอนและให้ปริญญาครบทั้งระดับปริญญาตรี ปริญญาโท และปริญญาเอก ในสาขาวิทยาการหุ่นยนต์และระบบอัตโนมัติ ทุกหลักสูตรเน้นหลัก \n",
        "Outcome-based Education ที่บัณฑิตสามารถใช้สมรรถนะที่เรียนในการพัฒนาเทคโนโลยีหุ่นยนต์ขึ้นได้ ทำให้บัณฑิตฟีโบ้เป็นที่ต้องการของภาคเอกชนและภาครัฐอย่างมาก\n",
        "นอกจากนี้ฟีโบ้มีผลงานวิจัย/พัฒนาและให้บริการวิชาการด้านหุ่นยนต์เพื่อการผลิตและเพื่อพัฒนาคุณภาพชีวิตมากกว่า 300 ระบบ โดยมีความร่วมมือที่แข็งแกร่งกับภาครัฐและภาคธุรกิจอุตสาหกรรมชั้นนำ \n",
        "ทั้งกลุ่มปิโตรเลียม อาหาร ฮาร์ดดิสก์ การผลิตไฟฟ้า การขนส่ง ธุรกิจบริการ การศึกษา การแพทย์และการฟื้นฟูสมรรถภาพ\n",
        "ปัจจุบัน ฟีโบ้ โดยการนำของ รศ. ดร.สยาม เจริญเสียง ผู้อำนวยการสถาบันฯ มุ่งมั่นเพื่อยกระดับฟีโบ้เข้าสู่สถาบันชั้นนำระดับอาเซียนทางด้านวิทยาการหุ่นยนต์ \n",
        "รวมทั้งสร้างเครือข่ายพัฒนาหลักสูตรด้านหุ่นยนต์ ครูและนักเรียนของโรงเรียนทั่วประเทศมากกว่า 100 โรงเรียน'''\n",
        "\n",
        "tokenizer = spacy_thai.load()\n",
        "\n",
        "sentences = sentence_segment(paragraph)\n",
        "\n",
        "# convert type`thai_segmenter.sentence.sentence` to `str`\n",
        "sentences = [str(tokenizer(str(sentence))) for sentence in sentences]\n"
      ],
      "metadata": {
        "id": "bsDirSTQAHe7"
      },
      "execution_count": 141,
      "outputs": []
    },
    {
      "cell_type": "markdown",
      "source": [
        "#### Functions\n",
        "\n",
        "*Sea*: **TF-IDF & TextRank weight is already 1-dimension** เลยขอเขียน condition เพิ่มใน ``highlightedText`` นะค้าบ"
      ],
      "metadata": {
        "id": "hd9CphCjAr4A"
      }
    },
    {
      "cell_type": "code",
      "source": [
        "def getRankTFIDF(sentences, tokenizer, ngram_range=(1,1)):\n",
        "\n",
        "    vectorizer = TfidfVectorizer( \n",
        "        tokenizer=tokenizer,\n",
        "        ngram_range=ngram_range\n",
        "    )\n",
        "    mat = vectorizer.fit_transform(sentences)\n",
        "    tokens = tokenizer( ' '.join(sentences) )\n",
        "    # tokens = vectorizer.get_feature_names_out()\n",
        "\n",
        "    # print(mat.shape)\n",
        "    # print(\"tokens:\", len(tokens), tokens)\n",
        "\n",
        "    sentence_weight = mat.sum(axis=1).A1\n",
        "    word_weight     = mat.sum(axis=0).A1\n",
        "\n",
        "    sentence_weight_norm = (sentence_weight-np.min(sentence_weight))/(np.max(sentence_weight)-np.min(sentence_weight))\n",
        "    word_weight_norm     = (word_weight-np.min(word_weight))/(np.max(word_weight)-np.min(word_weight))\n",
        "\n",
        "    word_weight_dict = dict()\n",
        "    for word, word_id in vectorizer.vocabulary_.items(): # replace word_id -> weight\n",
        "        if str(word) not in word_weight_dict.keys(): \n",
        "            word_weight_dict[str(word)] = word_weight_norm[word_id]\n",
        "        else: # is already have?\n",
        "            word_weight_dict[str(word)] = sum([word_weight_dict[str(word)], word_weight_norm[word_id]]) / 2\n",
        "\n",
        "    sentence_rank = np.argsort(sentence_weight, axis=0)[::-1]\n",
        "    # word_rank     = np.argsort(word_weight, axis=0)[::-1]\n",
        "\n",
        "    return sentence_rank, sentence_weight_norm, tokens, word_weight_dict"
      ],
      "metadata": {
        "id": "uMLoZf3dArRW"
      },
      "execution_count": 157,
      "outputs": []
    },
    {
      "cell_type": "code",
      "source": [
        "from collections import OrderedDict\n",
        "import numpy as np\n",
        "import spacy\n",
        "from spacy.lang.en.stop_words import STOP_WORDS\n",
        "\n",
        "# nlp = spacy.load('en_core_web_sm')\n",
        "\n",
        "class TextRank4Keyword():\n",
        "    \"\"\"Extract keywords from text\n",
        "    \n",
        "    https://gist.github.com/BrambleXu/3d47bbdbd1ee4e6fc695b0ddb88cbf99#file-textrank4keyword-py\"\"\"\n",
        "    \n",
        "    def __init__(self, tokenizer):\n",
        "        self.d = 0.85 # damping coefficient, usually is .85\n",
        "        self.min_diff = 1e-5 # convergence threshold\n",
        "        self.steps = 10 # iteration steps\n",
        "        self.node_weight = None # save keywords and its weight\n",
        "        self.tokenizer = tokenizer\n",
        "        self.tokens = []\n",
        "    \n",
        "    def set_stopwords(self, stopwords):  \n",
        "        \"\"\"Set stop words\"\"\"\n",
        "        # for word in STOP_WORDS.union(set(stopwords)):\n",
        "        #     lexeme = nlp.vocab[word]\n",
        "        #     lexeme.is_stop = True\n",
        "        pass\n",
        "    \n",
        "    def sentence_segment(self, doc, candidate_pos, lower):\n",
        "        \"\"\"Store those words only in cadidate_pos\"\"\"\n",
        "        sentences = []\n",
        "        for sent in doc.sents:\n",
        "            selected_words = []\n",
        "            for token in sent:\n",
        "                # Store words only with cadidate POS tag\n",
        "                if token.pos_ in candidate_pos and token.is_stop is False:\n",
        "                    if lower is True:\n",
        "                        selected_words.append(token.text.lower())\n",
        "                    else:\n",
        "                        selected_words.append(token.text)\n",
        "            sentences.append(selected_words)\n",
        "        return sentences\n",
        "        \n",
        "    def get_vocab(self, sentences):\n",
        "        \"\"\"Get all tokens\"\"\"\n",
        "        vocab = OrderedDict()\n",
        "        i = 0\n",
        "        for sentence in sentences:\n",
        "            for word in sentence:\n",
        "                if word not in vocab:\n",
        "                    vocab[word] = i\n",
        "                    i += 1\n",
        "        return vocab\n",
        "    \n",
        "    def get_token_pairs(self, window_size, sentences):\n",
        "        \"\"\"Build token_pairs from windows in sentences\"\"\"\n",
        "        token_pairs = list()\n",
        "        for sentence in sentences:\n",
        "            for i, word in enumerate(sentence):\n",
        "                for j in range(i+1, i+window_size):\n",
        "                    if j >= len(sentence):\n",
        "                        break\n",
        "                    pair = (word, sentence[j])\n",
        "                    if pair not in token_pairs:\n",
        "                        token_pairs.append(pair)\n",
        "        return token_pairs\n",
        "        \n",
        "    def symmetrize(self, a):\n",
        "        return a + a.T - np.diag(a.diagonal())\n",
        "    \n",
        "    def get_matrix(self, vocab, token_pairs):\n",
        "        \"\"\"Get normalized matrix\"\"\"\n",
        "        # Build matrix\n",
        "        vocab_size = len(vocab)\n",
        "        g = np.zeros((vocab_size, vocab_size), dtype='float')\n",
        "        for word1, word2 in token_pairs:\n",
        "            i, j = vocab[word1], vocab[word2]\n",
        "            g[i][j] = 1\n",
        "            \n",
        "        # Get Symmeric matrix\n",
        "        g = self.symmetrize(g)\n",
        "        \n",
        "        # Normalize matrix by column\n",
        "        norm = np.sum(g, axis=0)\n",
        "        g_norm = np.divide(g, norm, where=norm!=0) # this is ignore the 0 element in norm\n",
        "        \n",
        "        return g_norm\n",
        "\n",
        "    \n",
        "    def get_keywords(self, number=10):\n",
        "        \"\"\"Print top number keywords\"\"\"\n",
        "        node_weight = OrderedDict(sorted(self.node_weight.items(), key=lambda t: t[1], reverse=True))\n",
        "        for i, (key, value) in enumerate(node_weight.items()):\n",
        "            print(key + ' - ' + str(value))\n",
        "            if i > number:\n",
        "                break\n",
        "        \n",
        "        \n",
        "    def analyze(self, text, \n",
        "                candidate_pos=['NOUN', 'PROPN'], \n",
        "                window_size=4, lower=False, stopwords=list()):\n",
        "        \"\"\"Main function to analyze text\"\"\"\n",
        "        \n",
        "        # Set stop words\n",
        "        self.set_stopwords(stopwords)\n",
        "        \n",
        "        # Pare text by spaCy\n",
        "        doc = self.tokenizer(text)\n",
        "        self.tokens = doc\n",
        "        \n",
        "        # Filter sentences\n",
        "        sentences = self.sentence_segment(doc, candidate_pos, lower) # list of list of words\n",
        "        \n",
        "        # Build vocabulary\n",
        "        vocab = self.get_vocab(sentences)\n",
        "        \n",
        "        # Get token_pairs from windows\n",
        "        token_pairs = self.get_token_pairs(window_size, sentences)\n",
        "        \n",
        "        # Get normalized matrix\n",
        "        g = self.get_matrix(vocab, token_pairs)\n",
        "        \n",
        "        # Initionlization for weight(pagerank value)\n",
        "        pr = np.array([1] * len(vocab))\n",
        "        \n",
        "        # Iteration\n",
        "        previous_pr = 0\n",
        "        for epoch in range(self.steps):\n",
        "            pr = (1-self.d) + self.d * np.dot(g, pr)\n",
        "            if abs(previous_pr - sum(pr))  < self.min_diff:\n",
        "                break\n",
        "            else:\n",
        "                previous_pr = sum(pr)\n",
        "\n",
        "        # Get weight for each node\n",
        "        node_weight = dict()\n",
        "        for word, index in vocab.items():\n",
        "            node_weight[word] = pr[index]\n",
        "        \n",
        "        self.node_weight = node_weight"
      ],
      "metadata": {
        "id": "yAM87DnBLZ1q"
      },
      "execution_count": 93,
      "outputs": []
    },
    {
      "cell_type": "code",
      "source": [
        "# Highlight & export function\n",
        "def highlightedText(tokens, attention, encoder1: int=11, encoder2: int=8, pad='', max_alpha=0.8, save_html=False) -> list:\n",
        "    '''\n",
        "    https://adataanalyst.com/machine-learning/highlight-text-using-weights/\n",
        "    '''\n",
        "    highlighted_text = []\n",
        "    for i, word in enumerate(tokens):\n",
        "        # Update ====================\n",
        "        word = str(word)\n",
        "        # ===========================\n",
        "\n",
        "        if '▁' in word: word = word.replace('▁', ' ') # change space '▁' to ' '\n",
        "\n",
        "        # TF-IDF & TextRank weight is dictionary =================================================================================\n",
        "        if isinstance(attention, dict):\n",
        "            \n",
        "            if word in attention.keys():\n",
        "                weight = attention[word] / max(attention.values()) # normalize\n",
        "            else:\n",
        "                weight = 0.0\n",
        "\n",
        "        # ========================================================================================================================\n",
        "\n",
        "        else: # else for Attention in tranformer which has Multi-dimension\n",
        "            df_sumcol = pd.DataFrame( attention[encoder1][0][encoder2] ).sum(axis=0) # reduce dim(N, N) to dim(N, 1) by sum column\n",
        "            df_sumcol /= df_sumcol.abs().max() # normalize\n",
        "\n",
        "            weight = df_sumcol[i]\n",
        "        # ========================================================================================================================\n",
        "        \n",
        "        highlighted_text.append('<span style=\"background-color:rgba(251,155,59,' + str(weight * max_alpha) + ');\">' + html_escape(word) + '</span>')\n",
        "        # highlighted_text.append('' + html_escape(word) + '')\n",
        "        \n",
        "    highlighted_text = pad.join(highlighted_text)\n",
        "\n",
        "    display(HTML(highlighted_text))\n",
        "\n",
        "    if save_html:\n",
        "        html = HTML(highlighted_text).data\n",
        "        # file name ex. attention_0_1.html\n",
        "        with open(f'attention_{encoder1}_{encoder2}.html', 'w') as f:\n",
        "            f.write(html)\n",
        "\n",
        "    return highlighted_text"
      ],
      "metadata": {
        "id": "KfvmZ58CHyzN"
      },
      "execution_count": 167,
      "outputs": []
    },
    {
      "cell_type": "markdown",
      "source": [
        "#### **Usage**"
      ],
      "metadata": {
        "id": "L_lLLXiWF9xr"
      }
    },
    {
      "cell_type": "code",
      "source": [
        "# TF-IDF\n",
        "sentence_rank, sentence_weight, tokens, word_weight = getRankTFIDF(sentences, tokenizer)\n",
        "\n",
        "print(\"sentence_rank:   \", sentence_rank)\n",
        "print(\"sentence_weight: \", sentence_weight)\n",
        "print(\"tokens:          \", len(tokens))\n",
        "print(\"word_weight:     \", word_weight)\n",
        "\n",
        "print()\n",
        "_ = highlightedText( list(tokens), word_weight)"
      ],
      "metadata": {
        "colab": {
          "base_uri": "https://localhost:8080/",
          "height": 251
        },
        "id": "37elR71LRFVG",
        "outputId": "c6eb58a7-5082-47c7-8ca5-222e62c87856"
      },
      "execution_count": 166,
      "outputs": [
        {
          "output_type": "stream",
          "name": "stdout",
          "text": [
            "sentence_rank:    [2 0 6 4 5 3 1]\n",
            "sentence_weight:  [0.83419727 0.         1.         0.42768911 0.62450999 0.57953056\n",
            " 0.74772657]\n",
            "tokens:           230\n",
            "word_weight:      {'แนวโน้ม': 0.04188932728207886, 'ของ': 0.06903521283340266, 'การ': 0.04188932728207886, 'ใช้': 0.13465130795613228, 'หุ่นยนต์': 0.08128498115644184, 'ทาง': 0.055488625209436884, 'ด้าน': 0.06903521283340266, 'การผลิต': 0.10849017254830073, 'และ': 0.09895205368377233, 'งาน': 0.04188932728207886, 'บริการ': 0.08976012931746735, 'มี': 0.10325400663804088, 'จำนวน': 0.04188932728207886, 'สูง': 0.04188932728207886, 'ขึ้น': 0.13465130795613228, 'มากกว่า': 0.07421866844027028, '30': 0.04188932728207886, '%': 0.04188932728207886, 'ทุกปี': 0.04188932728207886, 'แต่': 0.04188932728207886, 'ประเทศ': 0.04188932728207886, 'ไทย': 0.010472331820519714, 'ยัง': 0.04188932728207886, 'ขาด': 0.04188932728207886, 'บุคลากร': 0.04188932728207886, 'วิทยาการ': 0.039780127478657314, 'ระบบ': 0.0688770819232259, 'อัตโนมัติ': 0.02094466364103943, 'ใน': 0.17882472727022278, 'ทุก': 0.13465130795613228, 'ระดับ': 0.039780127478657314, 'โดยเฉพาะ': 0.04188932728207886, 'อาชีพ': 0.04188932728207886, 'วิศวกร': 0.04188932728207886, 'อาจารย์': 0.04188932728207886, 'นักวิจัย': 0.04188932728207886, 'ฟี': 0.09150799643390872, 'โบ้': 0.09150799643390872, 'จึง': 0.04188932728207886, 'ได้รับ': 0.04188932728207886, 'ก่อ': 0.04188932728207886, 'ตั้งขึ้น': 0.04188932728207886, 'ปี': 1.0, '2538': 1.0, 'รศ.': 0.03454396156839746, 'ดร.': 0.03454396156839746, 'ชิต': 0.0, 'เหล่า': 0.0, 'วัฒนา': 0.0, 'คติพจน์': 0.0, 'ว่า': 0.0, '“': 0.0, 'a': 0.0, 'cradle': 0.0, 'of': 0.0, 'future': 0.0, 'leaders': 0.0, 'in': 0.0, 'robotics': 0.0, '”': 0.0, 'ที่': 0.15409544891274757, 'มุ่ง': 0.0, 'สร้าง': 0.03454396156839746, 'ผู้นำ': 0.0, 'เป็น': 0.0, 'สถาบัน': 0.05181594235259619, 'คณะ': 0.0, 'แห่ง': 0.0, 'แรก': 0.0, 'เดียว': 0.0, 'เปิด': 0.0, 'สอน': 0.0, 'ให้': 0.0, 'ปริญญา': 0.0, 'ครบ': 0.0, 'ทั้ง': 0.06881546567642792, 'ปริญญาตรี': 0.0, 'ปริญญาโท': 0.0, 'ปริญญาเอก': 0.0, 'สาขา': 0.0, 'หลักสูตร': 0.14825060588349032, 'เน้น': 0.2274132886301857, 'หลัก': 0.2274132886301857, 'outcome-based': 0.2274132886301857, 'education': 0.2274132886301857, 'บัณฑิต': 0.17211139441779905, 'สามารถ': 0.2274132886301857, 'สมรรถนะ': 0.2274132886301857, 'เรียน': 0.2274132886301857, 'การพัฒนา': 0.2274132886301857, 'เทคโนโลยี': 0.2274132886301857, 'ได้': 0.2274132886301857, 'เป็นที่ต้องการ': 0.11680950020541239, 'ภาคเอกชน': 0.11680950020541239, 'ภาครัฐ': 0.12722021577913412, 'อย่าง': 0.11680950020541239, 'มาก': 0.11680950020541239, 'นอกจากนี้': 0.11680950020541239, 'ผลงานวิจัย': 0.11680950020541239, '/': 0.11680950020541239, 'พัฒนา': 0.09294871167110366, 'ให้บริการ': 0.11680950020541239, 'วิชาการ': 0.11680950020541239, 'เพื่อ': 0.09294871167110366, 'คุณภาพชีวิต': 0.11680950020541239, '300': 0.11680950020541239, 'ความร่วมมือ': 0.13763093135285584, 'แข็งแกร่ง': 0.13763093135285584, 'กับ': 0.13763093135285584, 'ภาค': 0.13763093135285584, 'ธุรกิจ': 0.13763093135285584, 'อุตสาหกรรม': 0.13763093135285584, 'ชั้นนำ': 0.10335942724482539, 'กลุ่ม': 0.13763093135285584, 'ปิโตรเลียม': 0.13763093135285584, 'อาหาร': 0.13763093135285584, 'ฮาร์ดดิสก์': 0.13763093135285584, 'ไฟฟ้า': 0.13763093135285584, 'การขนส่ง': 0.13763093135285584, 'การศึกษา': 0.13763093135285584, 'การแพทย์': 0.13763093135285584, 'การฟื้นฟูสมรรถภาพ': 0.13763093135285584, 'ปัจจุบัน': 0.13763093135285584, 'การนำ': 0.06908792313679492, 'สยาม': 0.06908792313679492, 'เจริญ': 0.06908792313679492, 'เสียง': 0.06908792313679492, 'ผู้อำนวยการ': 0.06908792313679492, 'ฯ': 0.06908792313679492, 'มุ่งมั่น': 0.06908792313679492, 'ยกระดับ': 0.06908792313679492, 'เข้าสู่': 0.06908792313679492, 'อาเซียน': 0.06908792313679492, 'รวมทั้ง': 0.06908792313679492, 'เครือข่าย': 0.06908792313679492, 'ครู': 0.06908792313679492, 'นักเรียน': 0.06908792313679492, 'โรงเรียน': 0.06908792313679492, 'ทั่วประเทศ': 0.06908792313679492, '100': 0.06908792313679492}\n",
            "\n"
          ]
        },
        {
          "output_type": "display_data",
          "data": {
            "text/plain": [
              "<IPython.core.display.HTML object>"
            ],
            "text/html": [
              "<span style=\"background-color:rgba(251,155,59,0.10053438547698926);\">แนวโน้ม</span><span style=\"background-color:rgba(251,155,59,0.1656845108001664);\">ของ</span><span style=\"background-color:rgba(251,155,59,0.10053438547698926);\">การ</span><span style=\"background-color:rgba(251,155,59,0.3231631390947175);\">ใช้</span><span style=\"background-color:rgba(251,155,59,0.19508395477546042);\">หุ่นยนต์</span><span style=\"background-color:rgba(251,155,59,0.13317270050264854);\">ทาง</span><span style=\"background-color:rgba(251,155,59,0.1656845108001664);\">ด้าน</span><span style=\"background-color:rgba(251,155,59,0.2603764141159218);\">การผลิต</span><span style=\"background-color:rgba(251,155,59,0.23748492884105357);\">และ</span><span style=\"background-color:rgba(251,155,59,0.10053438547698926);\">งาน</span><span style=\"background-color:rgba(251,155,59,0.21542431036192167);\">บริการ</span><span style=\"background-color:rgba(251,155,59,0.24780961593129813);\">มี</span><span style=\"background-color:rgba(251,155,59,0.10053438547698926);\">จำนวน</span><span style=\"background-color:rgba(251,155,59,0.10053438547698926);\">สูง</span><span style=\"background-color:rgba(251,155,59,0.3231631390947175);\">ขึ้น</span><span style=\"background-color:rgba(251,155,59,0.17812480425664867);\">มากกว่า</span><span style=\"background-color:rgba(251,155,59,0.10053438547698926);\">30</span><span style=\"background-color:rgba(251,155,59,0.10053438547698926);\">%</span><span style=\"background-color:rgba(251,155,59,0.10053438547698926);\">ทุกปี</span><span style=\"background-color:rgba(251,155,59,0.10053438547698926);\">แต่</span><span style=\"background-color:rgba(251,155,59,0.10053438547698926);\">ประเทศ</span><span style=\"background-color:rgba(251,155,59,0.025133596369247314);\">ไทย</span><span style=\"background-color:rgba(251,155,59,0.10053438547698926);\">ยัง</span><span style=\"background-color:rgba(251,155,59,0.10053438547698926);\">ขาด</span><span style=\"background-color:rgba(251,155,59,0.10053438547698926);\">บุคลากร</span><span style=\"background-color:rgba(251,155,59,0.1656845108001664);\">ด้าน</span><span style=\"background-color:rgba(251,155,59,0.09547230594877756);\">วิทยาการ</span><span style=\"background-color:rgba(251,155,59,0.19508395477546042);\">หุ่นยนต์</span><span style=\"background-color:rgba(251,155,59,0.23748492884105357);\">และ</span><span style=\"background-color:rgba(251,155,59,0.1653049966157422);\">ระบบ</span><span style=\"background-color:rgba(251,155,59,0.05026719273849463);\">อัตโนมัติ</span><span style=\"background-color:rgba(251,155,59,0.42917934544853464);\">ใน</span><span style=\"background-color:rgba(251,155,59,0.3231631390947175);\">ทุก</span><span style=\"background-color:rgba(251,155,59,0.09547230594877756);\">ระดับ</span><span style=\"background-color:rgba(251,155,59,0.10053438547698926);\">โดยเฉพาะ</span><span style=\"background-color:rgba(251,155,59,0.10053438547698926);\">อาชีพ</span><span style=\"background-color:rgba(251,155,59,0.10053438547698926);\">วิศวกร</span><span style=\"background-color:rgba(251,155,59,0.10053438547698926);\">อาจารย์</span><span style=\"background-color:rgba(251,155,59,0.23748492884105357);\">และ</span><span style=\"background-color:rgba(251,155,59,0.10053438547698926);\">นักวิจัย</span><span style=\"background-color:rgba(251,155,59,0.21961919144138095);\">ฟี</span><span style=\"background-color:rgba(251,155,59,0.21961919144138095);\">โบ้</span><span style=\"background-color:rgba(251,155,59,0.10053438547698926);\">จึง</span><span style=\"background-color:rgba(251,155,59,0.10053438547698926);\">ได้รับ</span><span style=\"background-color:rgba(251,155,59,0.10053438547698926);\">การ</span><span style=\"background-color:rgba(251,155,59,0.10053438547698926);\">ก่อ</span><span style=\"background-color:rgba(251,155,59,0.10053438547698926);\">ตั้งขึ้น</span><span style=\"background-color:rgba(251,155,59,0.42917934544853464);\">ใน</span><span style=\"background-color:rgba(251,155,59,2.4000000000000004);\">ปี</span><span style=\"background-color:rgba(251,155,59,2.4000000000000004);\">2538</span><span style=\"background-color:rgba(251,155,59,0.08290550776415391);\">รศ.</span><span style=\"background-color:rgba(251,155,59,0.08290550776415391);\">ดร.</span><span style=\"background-color:rgba(251,155,59,0.0);\">ชิต</span><span style=\"background-color:rgba(251,155,59,0.0);\">เหล่า</span><span style=\"background-color:rgba(251,155,59,0.0);\">วัฒนา</span><span style=\"background-color:rgba(251,155,59,0.23748492884105357);\">และ</span><span style=\"background-color:rgba(251,155,59,0.21961919144138095);\">ฟี</span><span style=\"background-color:rgba(251,155,59,0.21961919144138095);\">โบ้</span><span style=\"background-color:rgba(251,155,59,0.24780961593129813);\">มี</span><span style=\"background-color:rgba(251,155,59,0.0);\">คติพจน์</span><span style=\"background-color:rgba(251,155,59,0.0);\">ว่า</span><span style=\"background-color:rgba(251,155,59,0.0);\">“</span><span style=\"background-color:rgba(251,155,59,0.0);\">A</span><span style=\"background-color:rgba(251,155,59,0.0);\">Cradle</span><span style=\"background-color:rgba(251,155,59,0.0);\">of</span><span style=\"background-color:rgba(251,155,59,0.0);\">Future</span><span style=\"background-color:rgba(251,155,59,0.0);\">Leaders</span><span style=\"background-color:rgba(251,155,59,0.0);\">in</span><span style=\"background-color:rgba(251,155,59,0.0);\">Robotics</span><span style=\"background-color:rgba(251,155,59,0.0);\">”</span><span style=\"background-color:rgba(251,155,59,0.3698290773905942);\">ที่</span><span style=\"background-color:rgba(251,155,59,0.0);\">มุ่ง</span><span style=\"background-color:rgba(251,155,59,0.08290550776415391);\">สร้าง</span><span style=\"background-color:rgba(251,155,59,0.0);\">ผู้นำ</span><span style=\"background-color:rgba(251,155,59,0.1656845108001664);\">ด้าน</span><span style=\"background-color:rgba(251,155,59,0.09547230594877756);\">วิทยาการ</span><span style=\"background-color:rgba(251,155,59,0.19508395477546042);\">หุ่นยนต์</span><span style=\"background-color:rgba(251,155,59,0.1656845108001664);\">ของ</span><span style=\"background-color:rgba(251,155,59,0.025133596369247314);\">ไทย</span><span style=\"background-color:rgba(251,155,59,0.21961919144138095);\">ฟี</span><span style=\"background-color:rgba(251,155,59,0.21961919144138095);\">โบ้</span><span style=\"background-color:rgba(251,155,59,0.0);\">เป็น</span><span style=\"background-color:rgba(251,155,59,0.12435826164623087);\">สถาบัน</span><span style=\"background-color:rgba(251,155,59,0.09547230594877756);\">ระดับ</span><span style=\"background-color:rgba(251,155,59,0.0);\">คณะ</span><span style=\"background-color:rgba(251,155,59,0.0);\">แห่ง</span><span style=\"background-color:rgba(251,155,59,0.0);\">แรก</span><span style=\"background-color:rgba(251,155,59,0.23748492884105357);\">และ</span><span style=\"background-color:rgba(251,155,59,0.0);\">แห่ง</span><span style=\"background-color:rgba(251,155,59,0.0);\">เดียว</span><span style=\"background-color:rgba(251,155,59,0.42917934544853464);\">ใน</span><span style=\"background-color:rgba(251,155,59,0.025133596369247314);\">ไทย</span><span style=\"background-color:rgba(251,155,59,0.3698290773905942);\">ที่</span><span style=\"background-color:rgba(251,155,59,0.0);\">เปิด</span><span style=\"background-color:rgba(251,155,59,0.0);\">สอน</span><span style=\"background-color:rgba(251,155,59,0.23748492884105357);\">และ</span><span style=\"background-color:rgba(251,155,59,0.0);\">ให้</span><span style=\"background-color:rgba(251,155,59,0.0);\">ปริญญา</span><span style=\"background-color:rgba(251,155,59,0.0);\">ครบ</span><span style=\"background-color:rgba(251,155,59,0.165157117623427);\">ทั้ง</span><span style=\"background-color:rgba(251,155,59,0.09547230594877756);\">ระดับ</span><span style=\"background-color:rgba(251,155,59,0.0);\">ปริญญาตรี</span><span style=\"background-color:rgba(251,155,59,0.0);\">ปริญญาโท</span><span style=\"background-color:rgba(251,155,59,0.23748492884105357);\">และ</span><span style=\"background-color:rgba(251,155,59,0.0);\">ปริญญาเอก</span><span style=\"background-color:rgba(251,155,59,0.42917934544853464);\">ใน</span><span style=\"background-color:rgba(251,155,59,0.0);\">สาขา</span><span style=\"background-color:rgba(251,155,59,0.09547230594877756);\">วิทยาการ</span><span style=\"background-color:rgba(251,155,59,0.19508395477546042);\">หุ่นยนต์</span><span style=\"background-color:rgba(251,155,59,0.23748492884105357);\">และ</span><span style=\"background-color:rgba(251,155,59,0.1653049966157422);\">ระบบ</span><span style=\"background-color:rgba(251,155,59,0.05026719273849463);\">อัตโนมัติ</span><span style=\"background-color:rgba(251,155,59,0.3231631390947175);\">ทุก</span><span style=\"background-color:rgba(251,155,59,0.3558014541203768);\">หลักสูตร</span><span style=\"background-color:rgba(251,155,59,0.5457918927124457);\">เน้น</span><span style=\"background-color:rgba(251,155,59,0.5457918927124457);\">หลัก</span><span style=\"background-color:rgba(251,155,59,0.0);\">Outcome-based</span><span style=\"background-color:rgba(251,155,59,0.0);\">Education</span><span style=\"background-color:rgba(251,155,59,0.3698290773905942);\">ที่</span><span style=\"background-color:rgba(251,155,59,0.41306734660271777);\">บัณฑิต</span><span style=\"background-color:rgba(251,155,59,0.5457918927124457);\">สามารถ</span><span style=\"background-color:rgba(251,155,59,0.3231631390947175);\">ใช้</span><span style=\"background-color:rgba(251,155,59,0.5457918927124457);\">สมรรถนะ</span><span style=\"background-color:rgba(251,155,59,0.3698290773905942);\">ที่</span><span style=\"background-color:rgba(251,155,59,0.5457918927124457);\">เรียน</span><span style=\"background-color:rgba(251,155,59,0.42917934544853464);\">ใน</span><span style=\"background-color:rgba(251,155,59,0.5457918927124457);\">การพัฒนา</span><span style=\"background-color:rgba(251,155,59,0.5457918927124457);\">เทคโนโลยี</span><span style=\"background-color:rgba(251,155,59,0.19508395477546042);\">หุ่นยนต์</span><span style=\"background-color:rgba(251,155,59,0.3231631390947175);\">ขึ้น</span><span style=\"background-color:rgba(251,155,59,0.5457918927124457);\">ได้</span><span style=\"background-color:rgba(251,155,59,0.41306734660271777);\">บัณฑิต</span><span style=\"background-color:rgba(251,155,59,0.21961919144138095);\">ฟี</span><span style=\"background-color:rgba(251,155,59,0.21961919144138095);\">โบ้</span><span style=\"background-color:rgba(251,155,59,0.28034280049298976);\">เป็นที่ต้องการ</span><span style=\"background-color:rgba(251,155,59,0.1656845108001664);\">ของ</span><span style=\"background-color:rgba(251,155,59,0.28034280049298976);\">ภาคเอกชน</span><span style=\"background-color:rgba(251,155,59,0.23748492884105357);\">และ</span><span style=\"background-color:rgba(251,155,59,0.3053285178699219);\">ภาครัฐ</span><span style=\"background-color:rgba(251,155,59,0.28034280049298976);\">อย่าง</span><span style=\"background-color:rgba(251,155,59,0.28034280049298976);\">มาก</span><span style=\"background-color:rgba(251,155,59,0.28034280049298976);\">นอกจากนี้</span><span style=\"background-color:rgba(251,155,59,0.21961919144138095);\">ฟี</span><span style=\"background-color:rgba(251,155,59,0.21961919144138095);\">โบ้</span><span style=\"background-color:rgba(251,155,59,0.24780961593129813);\">มี</span><span style=\"background-color:rgba(251,155,59,0.28034280049298976);\">ผลงานวิจัย</span><span style=\"background-color:rgba(251,155,59,0.28034280049298976);\">/</span><span style=\"background-color:rgba(251,155,59,0.22307690801064883);\">พัฒนา</span><span style=\"background-color:rgba(251,155,59,0.23748492884105357);\">และ</span><span style=\"background-color:rgba(251,155,59,0.28034280049298976);\">ให้บริการ</span><span style=\"background-color:rgba(251,155,59,0.28034280049298976);\">วิชาการ</span><span style=\"background-color:rgba(251,155,59,0.1656845108001664);\">ด้าน</span><span style=\"background-color:rgba(251,155,59,0.19508395477546042);\">หุ่นยนต์</span><span style=\"background-color:rgba(251,155,59,0.22307690801064883);\">เพื่อ</span><span style=\"background-color:rgba(251,155,59,0.2603764141159218);\">การผลิต</span><span style=\"background-color:rgba(251,155,59,0.23748492884105357);\">และ</span><span style=\"background-color:rgba(251,155,59,0.22307690801064883);\">เพื่อ</span><span style=\"background-color:rgba(251,155,59,0.22307690801064883);\">พัฒนา</span><span style=\"background-color:rgba(251,155,59,0.28034280049298976);\">คุณภาพชีวิต</span><span style=\"background-color:rgba(251,155,59,0.17812480425664867);\">มากกว่า</span><span style=\"background-color:rgba(251,155,59,0.28034280049298976);\">300</span><span style=\"background-color:rgba(251,155,59,0.1653049966157422);\">ระบบ</span><span style=\"background-color:rgba(251,155,59,0.24780961593129813);\">มี</span><span style=\"background-color:rgba(251,155,59,0.330314235246854);\">ความร่วมมือ</span><span style=\"background-color:rgba(251,155,59,0.3698290773905942);\">ที่</span><span style=\"background-color:rgba(251,155,59,0.330314235246854);\">แข็งแกร่ง</span><span style=\"background-color:rgba(251,155,59,0.330314235246854);\">กับ</span><span style=\"background-color:rgba(251,155,59,0.3053285178699219);\">ภาครัฐ</span><span style=\"background-color:rgba(251,155,59,0.23748492884105357);\">และ</span><span style=\"background-color:rgba(251,155,59,0.330314235246854);\">ภาค</span><span style=\"background-color:rgba(251,155,59,0.330314235246854);\">ธุรกิจ</span><span style=\"background-color:rgba(251,155,59,0.330314235246854);\">อุตสาหกรรม</span><span style=\"background-color:rgba(251,155,59,0.24806262538758095);\">ชั้นนำ</span><span style=\"background-color:rgba(251,155,59,0.165157117623427);\">ทั้ง</span><span style=\"background-color:rgba(251,155,59,0.330314235246854);\">กลุ่ม</span><span style=\"background-color:rgba(251,155,59,0.330314235246854);\">ปิโตรเลียม</span><span style=\"background-color:rgba(251,155,59,0.330314235246854);\">อาหาร</span><span style=\"background-color:rgba(251,155,59,0.330314235246854);\">ฮาร์ดดิสก์</span><span style=\"background-color:rgba(251,155,59,0.2603764141159218);\">การผลิต</span><span style=\"background-color:rgba(251,155,59,0.330314235246854);\">ไฟฟ้า</span><span style=\"background-color:rgba(251,155,59,0.330314235246854);\">การขนส่ง</span><span style=\"background-color:rgba(251,155,59,0.330314235246854);\">ธุรกิจ</span><span style=\"background-color:rgba(251,155,59,0.21542431036192167);\">บริการ</span><span style=\"background-color:rgba(251,155,59,0.330314235246854);\">การศึกษา</span><span style=\"background-color:rgba(251,155,59,0.330314235246854);\">การแพทย์</span><span style=\"background-color:rgba(251,155,59,0.23748492884105357);\">และ</span><span style=\"background-color:rgba(251,155,59,0.330314235246854);\">การฟื้นฟูสมรรถภาพ</span><span style=\"background-color:rgba(251,155,59,0.330314235246854);\">ปัจจุบัน</span><span style=\"background-color:rgba(251,155,59,0.21961919144138095);\">ฟี</span><span style=\"background-color:rgba(251,155,59,0.21961919144138095);\">โบ้</span><span style=\"background-color:rgba(251,155,59,0.16581101552830782);\">การนำ</span><span style=\"background-color:rgba(251,155,59,0.1656845108001664);\">ของ</span><span style=\"background-color:rgba(251,155,59,0.08290550776415391);\">รศ.</span><span style=\"background-color:rgba(251,155,59,0.08290550776415391);\">ดร.</span><span style=\"background-color:rgba(251,155,59,0.16581101552830782);\">สยาม</span><span style=\"background-color:rgba(251,155,59,0.16581101552830782);\">เจริญ</span><span style=\"background-color:rgba(251,155,59,0.16581101552830782);\">เสียง</span><span style=\"background-color:rgba(251,155,59,0.16581101552830782);\">ผู้อำนวยการ</span><span style=\"background-color:rgba(251,155,59,0.12435826164623087);\">สถาบัน</span><span style=\"background-color:rgba(251,155,59,0.16581101552830782);\">ฯ</span><span style=\"background-color:rgba(251,155,59,0.16581101552830782);\">มุ่งมั่น</span><span style=\"background-color:rgba(251,155,59,0.22307690801064883);\">เพื่อ</span><span style=\"background-color:rgba(251,155,59,0.16581101552830782);\">ยกระดับ</span><span style=\"background-color:rgba(251,155,59,0.21961919144138095);\">ฟี</span><span style=\"background-color:rgba(251,155,59,0.21961919144138095);\">โบ้</span><span style=\"background-color:rgba(251,155,59,0.16581101552830782);\">เข้าสู่</span><span style=\"background-color:rgba(251,155,59,0.12435826164623087);\">สถาบัน</span><span style=\"background-color:rgba(251,155,59,0.24806262538758095);\">ชั้นนำ</span><span style=\"background-color:rgba(251,155,59,0.09547230594877756);\">ระดับ</span><span style=\"background-color:rgba(251,155,59,0.16581101552830782);\">อาเซียน</span><span style=\"background-color:rgba(251,155,59,0.13317270050264854);\">ทาง</span><span style=\"background-color:rgba(251,155,59,0.1656845108001664);\">ด้าน</span><span style=\"background-color:rgba(251,155,59,0.09547230594877756);\">วิทยาการ</span><span style=\"background-color:rgba(251,155,59,0.19508395477546042);\">หุ่นยนต์</span><span style=\"background-color:rgba(251,155,59,0.16581101552830782);\">รวมทั้ง</span><span style=\"background-color:rgba(251,155,59,0.08290550776415391);\">สร้าง</span><span style=\"background-color:rgba(251,155,59,0.16581101552830782);\">เครือข่าย</span><span style=\"background-color:rgba(251,155,59,0.22307690801064883);\">พัฒนา</span><span style=\"background-color:rgba(251,155,59,0.3558014541203768);\">หลักสูตร</span><span style=\"background-color:rgba(251,155,59,0.1656845108001664);\">ด้าน</span><span style=\"background-color:rgba(251,155,59,0.19508395477546042);\">หุ่นยนต์</span><span style=\"background-color:rgba(251,155,59,0.16581101552830782);\">ครู</span><span style=\"background-color:rgba(251,155,59,0.23748492884105357);\">และ</span><span style=\"background-color:rgba(251,155,59,0.16581101552830782);\">นักเรียน</span><span style=\"background-color:rgba(251,155,59,0.1656845108001664);\">ของ</span><span style=\"background-color:rgba(251,155,59,0.16581101552830782);\">โรงเรียน</span><span style=\"background-color:rgba(251,155,59,0.16581101552830782);\">ทั่วประเทศ</span><span style=\"background-color:rgba(251,155,59,0.17812480425664867);\">มากกว่า</span><span style=\"background-color:rgba(251,155,59,0.16581101552830782);\">100</span><span style=\"background-color:rgba(251,155,59,0.16581101552830782);\">โรงเรียน</span>"
            ]
          },
          "metadata": {}
        }
      ]
    },
    {
      "cell_type": "markdown",
      "source": [
        "*Sea*: **TF-IDF** จะไม่ค่อยเวิร์คกับประโยค(สั้น ๆ) และ paragraph สั้น ๆ(จำนวนประโยคน้อย) **เหมาะกับ paragraph ยาว ๆ มากกว่า**"
      ],
      "metadata": {
        "id": "Sawq6JxAGy5u"
      }
    },
    {
      "cell_type": "code",
      "source": [
        "# TextRank\n",
        "tr4w = TextRank4Keyword( tokenizer=tokenizer )\n",
        "tr4w.analyze(paragraph, window_size=4, lower=False)\n",
        "\n",
        "tokens      = tr4w.tokens\n",
        "word_weight = tr4w.node_weight\n",
        "\n",
        "print(\"tokens:          \", len(tokens))\n",
        "print(\"word_weight:     \", len(word_weight))\n",
        "\n",
        "print()\n",
        "_ = highlightedText( list(tokens), word_weight)"
      ],
      "metadata": {
        "colab": {
          "base_uri": "https://localhost:8080/",
          "height": 176
        },
        "id": "74GErrZqK-Cz",
        "outputId": "bba1f4b4-40a2-4750-ecfc-ad792f102bdc"
      },
      "execution_count": 122,
      "outputs": [
        {
          "output_type": "stream",
          "name": "stdout",
          "text": [
            "tokens:           234\n",
            "word_weight:      78\n",
            "\n"
          ]
        },
        {
          "output_type": "display_data",
          "data": {
            "text/plain": [
              "<IPython.core.display.HTML object>"
            ],
            "text/html": [
              "<span style=\"background-color:rgba(251,155,59,0.10786286246615889);\">แนวโน้ม</span><span style=\"background-color:rgba(251,155,59,0.0);\">ของ</span><span style=\"background-color:rgba(251,155,59,0.0);\">การ</span><span style=\"background-color:rgba(251,155,59,0.0);\">ใช้</span><span style=\"background-color:rgba(251,155,59,0.8);\">หุ่นยนต์</span><span style=\"background-color:rgba(251,155,59,0.0);\">ทาง</span><span style=\"background-color:rgba(251,155,59,0.0);\">ด้าน</span><span style=\"background-color:rgba(251,155,59,0.30274985133582333);\">การผลิต</span><span style=\"background-color:rgba(251,155,59,0.0);\">และ</span><span style=\"background-color:rgba(251,155,59,0.178759594355812);\">งาน</span><span style=\"background-color:rgba(251,155,59,0.0);\">บริการ</span><span style=\"background-color:rgba(251,155,59,0.0);\">มี</span><span style=\"background-color:rgba(251,155,59,0.18365950527780442);\">จำนวน</span><span style=\"background-color:rgba(251,155,59,0.0);\">สูง</span><span style=\"background-color:rgba(251,155,59,0.0);\">ขึ้น</span><span style=\"background-color:rgba(251,155,59,0.0);\">มากกว่า</span><span style=\"background-color:rgba(251,155,59,0.0);\">30</span><span style=\"background-color:rgba(251,155,59,0.17828173247159684);\">%</span><span style=\"background-color:rgba(251,155,59,0.16745852348766516);\">ทุกปี</span><span style=\"background-color:rgba(251,155,59,0.0);\">แต่</span><span style=\"background-color:rgba(251,155,59,0.161148404877278);\">ประเทศ</span><span style=\"background-color:rgba(251,155,59,0.3957826297692653);\">ไทย</span><span style=\"background-color:rgba(251,155,59,0.0);\">ยัง</span><span style=\"background-color:rgba(251,155,59,0.0);\">ขาด</span><span style=\"background-color:rgba(251,155,59,0.16063718205435892);\">บุคลากร</span><span style=\"background-color:rgba(251,155,59,0.0);\">ด้าน</span><span style=\"background-color:rgba(251,155,59,0.41340964660733875);\">วิทยาการ</span><span style=\"background-color:rgba(251,155,59,0.8);\">หุ่นยนต์</span><span style=\"background-color:rgba(251,155,59,0.0);\">และ</span><span style=\"background-color:rgba(251,155,59,0.3344831927065346);\">ระบบ</span><span style=\"background-color:rgba(251,155,59,0.0);\">อัตโนมัติ</span><span style=\"background-color:rgba(251,155,59,0.0);\">ใน</span><span style=\"background-color:rgba(251,155,59,0.0);\">ทุก</span><span style=\"background-color:rgba(251,155,59,0.45739176367141543);\">ระดับ</span><span style=\"background-color:rgba(251,155,59,0.0);\">โดยเฉพาะ</span><span style=\"background-color:rgba(251,155,59,0.15494373880954282);\">อาชีพ</span><span style=\"background-color:rgba(251,155,59,0.1543099311106285);\">วิศวกร</span><span style=\"background-color:rgba(251,155,59,0.15335923910044671);\">อาจารย์</span><span style=\"background-color:rgba(251,155,59,0.0);\">และ</span><span style=\"background-color:rgba(251,155,59,0.15244704183283175);\">นักวิจัย</span><span style=\"background-color:rgba(251,155,59,0.6702266457048275);\">ฟี</span><span style=\"background-color:rgba(251,155,59,0.6308178325549978);\">โบ้</span><span style=\"background-color:rgba(251,155,59,0.0);\">จึง</span><span style=\"background-color:rgba(251,155,59,0.0);\">ได้รับ</span><span style=\"background-color:rgba(251,155,59,0.0);\">การ</span><span style=\"background-color:rgba(251,155,59,0.0);\">ก่อ</span><span style=\"background-color:rgba(251,155,59,0.0);\">ตั้งขึ้น</span><span style=\"background-color:rgba(251,155,59,0.0);\">ใน</span><span style=\"background-color:rgba(251,155,59,0.15972648818685725);\">ปี</span><span style=\"background-color:rgba(251,155,59,0.0);\">2538</span><span style=\"background-color:rgba(251,155,59,0.0);\">โดย</span><span style=\"background-color:rgba(251,155,59,0.22428464172277499);\">รศ.</span><span style=\"background-color:rgba(251,155,59,0.24930589767563494);\">ดร.</span><span style=\"background-color:rgba(251,155,59,0.15664493345897523);\">ชิต</span><span style=\"background-color:rgba(251,155,59,0.0);\">เหล่า</span><span style=\"background-color:rgba(251,155,59,0.15972648818685725);\">วัฒนา</span><span style=\"background-color:rgba(251,155,59,0.0);\">และ</span><span style=\"background-color:rgba(251,155,59,0.6702266457048275);\">ฟี</span><span style=\"background-color:rgba(251,155,59,0.6308178325549978);\">โบ้</span><span style=\"background-color:rgba(251,155,59,0.0);\">มี</span><span style=\"background-color:rgba(251,155,59,0.1702089064007265);\">คติพจน์</span><span style=\"background-color:rgba(251,155,59,0.0);\">ว่า</span><span style=\"background-color:rgba(251,155,59,0.18011736589765667);\">“</span><span style=\"background-color:rgba(251,155,59,0.0);\">A</span><span style=\"background-color:rgba(251,155,59,0.18578333201206643);\">Cradle</span><span style=\"background-color:rgba(251,155,59,0.19233637772168088);\">of</span><span style=\"background-color:rgba(251,155,59,0.19628814769677214);\">Future</span><span style=\"background-color:rgba(251,155,59,0.1967381509356338);\">Leaders</span><span style=\"background-color:rgba(251,155,59,0.1909486425353955);\">in</span><span style=\"background-color:rgba(251,155,59,0.18342882268885632);\">Robotics</span><span style=\"background-color:rgba(251,155,59,0.17839666427336084);\">”</span><span style=\"background-color:rgba(251,155,59,0.0);\">ที่</span><span style=\"background-color:rgba(251,155,59,0.0);\">มุ่ง</span><span style=\"background-color:rgba(251,155,59,0.0);\">สร้าง</span><span style=\"background-color:rgba(251,155,59,0.16798673305165773);\">ผู้นำ</span><span style=\"background-color:rgba(251,155,59,0.0);\">ด้าน</span><span style=\"background-color:rgba(251,155,59,0.41340964660733875);\">วิทยาการ</span><span style=\"background-color:rgba(251,155,59,0.8);\">หุ่นยนต์</span><span style=\"background-color:rgba(251,155,59,0.0);\">ของ</span><span style=\"background-color:rgba(251,155,59,0.3957826297692653);\">ไทย</span><span style=\"background-color:rgba(251,155,59,0.6702266457048275);\">ฟี</span><span style=\"background-color:rgba(251,155,59,0.6308178325549978);\">โบ้</span><span style=\"background-color:rgba(251,155,59,0.0);\">เป็น</span><span style=\"background-color:rgba(251,155,59,0.3194227250719906);\">สถาบัน</span><span style=\"background-color:rgba(251,155,59,0.45739176367141543);\">ระดับ</span><span style=\"background-color:rgba(251,155,59,0.1407724141109414);\">คณะ</span><span style=\"background-color:rgba(251,155,59,0.0);\">แห่ง</span><span style=\"background-color:rgba(251,155,59,0.0);\">แรก</span><span style=\"background-color:rgba(251,155,59,0.0);\">และ</span><span style=\"background-color:rgba(251,155,59,0.0);\">แห่ง</span><span style=\"background-color:rgba(251,155,59,0.0);\">เดียว</span><span style=\"background-color:rgba(251,155,59,0.0);\">ใน</span><span style=\"background-color:rgba(251,155,59,0.3957826297692653);\">ไทย</span><span style=\"background-color:rgba(251,155,59,0.0);\">ที่</span><span style=\"background-color:rgba(251,155,59,0.0);\">เปิด</span><span style=\"background-color:rgba(251,155,59,0.0);\">สอน</span><span style=\"background-color:rgba(251,155,59,0.0);\">และ</span><span style=\"background-color:rgba(251,155,59,0.0);\">ให้</span><span style=\"background-color:rgba(251,155,59,0.14545056056783032);\">ปริญญา</span><span style=\"background-color:rgba(251,155,59,0.0);\">ครบ</span><span style=\"background-color:rgba(251,155,59,0.0);\">ทั้ง</span><span style=\"background-color:rgba(251,155,59,0.45739176367141543);\">ระดับ</span><span style=\"background-color:rgba(251,155,59,0.15093932697812476);\">ปริญญาตรี</span><span style=\"background-color:rgba(251,155,59,0.15382943835328866);\">ปริญญาโท</span><span style=\"background-color:rgba(251,155,59,0.0);\">และ</span><span style=\"background-color:rgba(251,155,59,0.15771086799365022);\">ปริญญาเอก</span><span style=\"background-color:rgba(251,155,59,0.0);\">ใน</span><span style=\"background-color:rgba(251,155,59,0.1611047765235327);\">สาขา</span><span style=\"background-color:rgba(251,155,59,0.41340964660733875);\">วิทยาการ</span><span style=\"background-color:rgba(251,155,59,0.8);\">หุ่นยนต์</span><span style=\"background-color:rgba(251,155,59,0.0);\">และ</span><span style=\"background-color:rgba(251,155,59,0.3344831927065346);\">ระบบ</span><span style=\"background-color:rgba(251,155,59,0.0);\">อัตโนมัติ</span><span style=\"background-color:rgba(251,155,59,0.0);\">ทุก</span><span style=\"background-color:rgba(251,155,59,0.1621910697555566);\">หลักสูตร</span><span style=\"background-color:rgba(251,155,59,0.0);\">เน้น</span><span style=\"background-color:rgba(251,155,59,0.0);\">หลัก</span><span style=\"background-color:rgba(251,155,59,0.1641080628241285);\">Outcome-based</span><span style=\"background-color:rgba(251,155,59,0.16143633441991892);\">Education</span><span style=\"background-color:rgba(251,155,59,0.0);\">ที่</span><span style=\"background-color:rgba(251,155,59,0.27826393854426906);\">บัณฑิต</span><span style=\"background-color:rgba(251,155,59,0.0);\">สามารถ</span><span style=\"background-color:rgba(251,155,59,0.0);\">ใช้</span><span style=\"background-color:rgba(251,155,59,0.1618637782560443);\">สมรรถนะ</span><span style=\"background-color:rgba(251,155,59,0.0);\">ที่</span><span style=\"background-color:rgba(251,155,59,0.0);\">เรียน</span><span style=\"background-color:rgba(251,155,59,0.0);\">ใน</span><span style=\"background-color:rgba(251,155,59,0.164699949564297);\">การพัฒนา</span><span style=\"background-color:rgba(251,155,59,0.16365631554171023);\">เทคโนโลยี</span><span style=\"background-color:rgba(251,155,59,0.8);\">หุ่นยนต์</span><span style=\"background-color:rgba(251,155,59,0.0);\">ขึ้น</span><span style=\"background-color:rgba(251,155,59,0.0);\">ได้</span><span style=\"background-color:rgba(251,155,59,0.0);\">ทำให้</span><span style=\"background-color:rgba(251,155,59,0.27826393854426906);\">บัณฑิต</span><span style=\"background-color:rgba(251,155,59,0.6702266457048275);\">ฟี</span><span style=\"background-color:rgba(251,155,59,0.6308178325549978);\">โบ้</span><span style=\"background-color:rgba(251,155,59,0.1473909521600697);\">เป็นที่ต้องการ</span><span style=\"background-color:rgba(251,155,59,0.0);\">ของ</span><span style=\"background-color:rgba(251,155,59,0.14612583397025514);\">ภาคเอกชน</span><span style=\"background-color:rgba(251,155,59,0.0);\">และ</span><span style=\"background-color:rgba(251,155,59,0.2644287953756513);\">ภาครัฐ</span><span style=\"background-color:rgba(251,155,59,0.0);\">อย่าง</span><span style=\"background-color:rgba(251,155,59,0.0);\">มาก</span><span style=\"background-color:rgba(251,155,59,0.0);\">นอกจากนี้</span><span style=\"background-color:rgba(251,155,59,0.6702266457048275);\">ฟี</span><span style=\"background-color:rgba(251,155,59,0.6308178325549978);\">โบ้</span><span style=\"background-color:rgba(251,155,59,0.0);\">มี</span><span style=\"background-color:rgba(251,155,59,0.15013090613082683);\">ผลงานวิจัย</span><span style=\"background-color:rgba(251,155,59,0.0);\">/</span><span style=\"background-color:rgba(251,155,59,0.0);\">พัฒนา</span><span style=\"background-color:rgba(251,155,59,0.0);\">และ</span><span style=\"background-color:rgba(251,155,59,0.0);\">ให้บริการ</span><span style=\"background-color:rgba(251,155,59,0.15312169590932553);\">วิชาการ</span><span style=\"background-color:rgba(251,155,59,0.0);\">ด้าน</span><span style=\"background-color:rgba(251,155,59,0.8);\">หุ่นยนต์</span><span style=\"background-color:rgba(251,155,59,0.0);\">เพื่อ</span><span style=\"background-color:rgba(251,155,59,0.30274985133582333);\">การผลิต</span><span style=\"background-color:rgba(251,155,59,0.0);\">และ</span><span style=\"background-color:rgba(251,155,59,0.0);\">เพื่อ</span><span style=\"background-color:rgba(251,155,59,0.0);\">พัฒนา</span><span style=\"background-color:rgba(251,155,59,0.14652240538562802);\">คุณภาพชีวิต</span><span style=\"background-color:rgba(251,155,59,0.0);\">มากกว่า</span><span style=\"background-color:rgba(251,155,59,0.0);\">300</span><span style=\"background-color:rgba(251,155,59,0.3344831927065346);\">ระบบ</span><span style=\"background-color:rgba(251,155,59,0.0);\">โดย</span><span style=\"background-color:rgba(251,155,59,0.0);\">มี</span><span style=\"background-color:rgba(251,155,59,0.16105858523715286);\">ความร่วมมือ</span><span style=\"background-color:rgba(251,155,59,0.0);\">ที่</span><span style=\"background-color:rgba(251,155,59,0.0);\">แข็งแกร่ง</span><span style=\"background-color:rgba(251,155,59,0.0);\">กับ</span><span style=\"background-color:rgba(251,155,59,0.2644287953756513);\">ภาครัฐ</span><span style=\"background-color:rgba(251,155,59,0.0);\">และ</span><span style=\"background-color:rgba(251,155,59,0.0);\">ภาค</span><span style=\"background-color:rgba(251,155,59,0.2997236345032286);\">ธุรกิจ</span><span style=\"background-color:rgba(251,155,59,0.15982955560596224);\">อุตสาหกรรม</span><span style=\"background-color:rgba(251,155,59,0.281694338362266);\">ชั้นนำ</span><span style=\"background-color:rgba(251,155,59,0.0);\">ทั้ง</span><span style=\"background-color:rgba(251,155,59,0.0);\">กลุ่ม</span><span style=\"background-color:rgba(251,155,59,0.1737603653432245);\">ปิโตรเลียม</span><span style=\"background-color:rgba(251,155,59,0.17418956584372924);\">อาหาร</span><span style=\"background-color:rgba(251,155,59,0.1764816313438068);\">ฮาร์ดดิสก์</span><span style=\"background-color:rgba(251,155,59,0.30274985133582333);\">การผลิต</span><span style=\"background-color:rgba(251,155,59,0.18247868387534805);\">ไฟฟ้า</span><span style=\"background-color:rgba(251,155,59,0.17756183368969788);\">การขนส่ง</span><span style=\"background-color:rgba(251,155,59,0.2997236345032286);\">ธุรกิจ</span><span style=\"background-color:rgba(251,155,59,0.0);\">บริการ</span><span style=\"background-color:rgba(251,155,59,0.16785539537496164);\">การศึกษา</span><span style=\"background-color:rgba(251,155,59,0.16531346429048288);\">การแพทย์</span><span style=\"background-color:rgba(251,155,59,0.0);\">และ</span><span style=\"background-color:rgba(251,155,59,0.1594161194186884);\">การฟื้นฟูสมรรถภาพ</span><span style=\"background-color:rgba(251,155,59,0.0);\">ปัจจุบัน</span><span style=\"background-color:rgba(251,155,59,0.6702266457048275);\">ฟี</span><span style=\"background-color:rgba(251,155,59,0.6308178325549978);\">โบ้</span><span style=\"background-color:rgba(251,155,59,0.0);\">โดย</span><span style=\"background-color:rgba(251,155,59,0.16445233291416764);\">การนำ</span><span style=\"background-color:rgba(251,155,59,0.0);\">ของ</span><span style=\"background-color:rgba(251,155,59,0.22428464172277499);\">รศ.</span><span style=\"background-color:rgba(251,155,59,0.24930589767563494);\">ดร.</span><span style=\"background-color:rgba(251,155,59,0.16983499238733343);\">สยาม</span><span style=\"background-color:rgba(251,155,59,0.16982962828717513);\">เจริญ</span><span style=\"background-color:rgba(251,155,59,0.16371440913102264);\">เสียง</span><span style=\"background-color:rgba(251,155,59,0.16308388330846565);\">ผู้อำนวยการ</span><span style=\"background-color:rgba(251,155,59,0.3194227250719906);\">สถาบัน</span><span style=\"background-color:rgba(251,155,59,0.0);\">ฯ</span><span style=\"background-color:rgba(251,155,59,0.15530139550761202);\">มุ่งมั่น</span><span style=\"background-color:rgba(251,155,59,0.0);\">เพื่อ</span><span style=\"background-color:rgba(251,155,59,0.0);\">ยกระดับ</span><span style=\"background-color:rgba(251,155,59,0.6702266457048275);\">ฟี</span><span style=\"background-color:rgba(251,155,59,0.6308178325549978);\">โบ้</span><span style=\"background-color:rgba(251,155,59,0.0);\">เข้าสู่</span><span style=\"background-color:rgba(251,155,59,0.3194227250719906);\">สถาบัน</span><span style=\"background-color:rgba(251,155,59,0.281694338362266);\">ชั้นนำ</span><span style=\"background-color:rgba(251,155,59,0.45739176367141543);\">ระดับ</span><span style=\"background-color:rgba(251,155,59,0.14579943721963629);\">อาเซียน</span><span style=\"background-color:rgba(251,155,59,0.0);\">ทาง</span><span style=\"background-color:rgba(251,155,59,0.0);\">ด้าน</span><span style=\"background-color:rgba(251,155,59,0.41340964660733875);\">วิทยาการ</span><span style=\"background-color:rgba(251,155,59,0.8);\">หุ่นยนต์</span><span style=\"background-color:rgba(251,155,59,0.0);\">รวมทั้ง</span><span style=\"background-color:rgba(251,155,59,0.0);\">สร้าง</span><span style=\"background-color:rgba(251,155,59,0.16829591089972348);\">เครือข่าย</span><span style=\"background-color:rgba(251,155,59,0.0);\">พัฒนา</span><span style=\"background-color:rgba(251,155,59,0.1621910697555566);\">หลักสูตร</span><span style=\"background-color:rgba(251,155,59,0.0);\">ด้าน</span><span style=\"background-color:rgba(251,155,59,0.8);\">หุ่นยนต์</span><span style=\"background-color:rgba(251,155,59,0.1703298710251313);\">ครู</span><span style=\"background-color:rgba(251,155,59,0.0);\">และ</span><span style=\"background-color:rgba(251,155,59,0.1703298710251313);\">นักเรียน</span><span style=\"background-color:rgba(251,155,59,0.0);\">ของ</span><span style=\"background-color:rgba(251,155,59,0.2131531607459951);\">โรงเรียน</span><span style=\"background-color:rgba(251,155,59,0.1552523913230872);\">ทั่วประเทศ</span><span style=\"background-color:rgba(251,155,59,0.0);\">มากกว่า</span><span style=\"background-color:rgba(251,155,59,0.0);\">100</span><span style=\"background-color:rgba(251,155,59,0.2131531607459951);\">โรงเรียน</span>"
            ]
          },
          "metadata": {}
        }
      ]
    },
    {
      "cell_type": "markdown",
      "source": [
        "*Sea*: **TextRank** จะเน้น highlight **keywords**"
      ],
      "metadata": {
        "id": "S_U8XDm0PUlz"
      }
    },
    {
      "cell_type": "markdown",
      "source": [
        "---\n",
        "\n",
        "# **Build the model**"
      ],
      "metadata": {
        "id": "JrZTUAkn4Hlm"
      }
    },
    {
      "cell_type": "markdown",
      "source": [
        "### **Thai sentence segmentation**\n",
        "\n",
        "💡 [thai-segmenter](https://pypi.org/project/thai-segmenter/)"
      ],
      "metadata": {
        "id": "SxxgwcDa8ef_"
      }
    },
    {
      "cell_type": "code",
      "source": [
        "!pip install thai-segmenter\n",
        "# https://pypi.org/project/thai-segmenter/"
      ],
      "metadata": {
        "id": "OAD5tYEE8hp6"
      },
      "execution_count": null,
      "outputs": []
    },
    {
      "cell_type": "code",
      "source": [
        "from thai_segmenter import sentence_segment"
      ],
      "metadata": {
        "id": "WxFL21ya8pw_"
      },
      "execution_count": null,
      "outputs": []
    },
    {
      "cell_type": "code",
      "source": [
        "paragraph = '''แนวโน้มของการใช้หุ่นยนต์ทางด้านการผลิตและงานบริการมีจำนวนสูงขึ้นมากกว่า 30% ทุกปี แต่ประเทศไทยยังขาดบุคลากรด้านวิทยาการหุ่นยนต์และระบบอัตโนมัติในทุกระดับ \n",
        "โดยเฉพาะอาชีพวิศวกร อาจารย์และนักวิจัย ฟีโบ้จึงได้รับการก่อตั้งขึ้น ในปี 2538 โดย รศ. ดร.ชิต เหล่าวัฒนา และฟีโบ้มีคติพจน์ว่า “A Cradle of Future Leaders in Robotics” \n",
        "ที่มุ่งสร้างผู้นำด้านวิทยาการหุ่นยนต์ของไทย\n",
        "ฟีโบ้เป็นสถาบันระดับคณะแห่งแรกและแห่งเดียวในไทยที่เปิดสอนและให้ปริญญาครบทั้งระดับปริญญาตรี ปริญญาโท และปริญญาเอก ในสาขาวิทยาการหุ่นยนต์และระบบอัตโนมัติ ทุกหลักสูตรเน้นหลัก \n",
        "Outcome-based Education ที่บัณฑิตสามารถใช้สมรรถนะที่เรียนในการพัฒนาเทคโนโลยีหุ่นยนต์ขึ้นได้ ทำให้บัณฑิตฟีโบ้เป็นที่ต้องการของภาคเอกชนและภาครัฐอย่างมาก\n",
        "นอกจากนี้ฟีโบ้มีผลงานวิจัย/พัฒนาและให้บริการวิชาการด้านหุ่นยนต์เพื่อการผลิตและเพื่อพัฒนาคุณภาพชีวิตมากกว่า 300 ระบบ โดยมีความร่วมมือที่แข็งแกร่งกับภาครัฐและภาคธุรกิจอุตสาหกรรมชั้นนำ \n",
        "ทั้งกลุ่มปิโตรเลียม อาหาร ฮาร์ดดิสก์ การผลิตไฟฟ้า การขนส่ง ธุรกิจบริการ การศึกษา การแพทย์และการฟื้นฟูสมรรถภาพ\n",
        "ปัจจุบัน ฟีโบ้ โดยการนำของ รศ. ดร.สยาม เจริญเสียง ผู้อำนวยการสถาบันฯ มุ่งมั่นเพื่อยกระดับฟีโบ้เข้าสู่สถาบันชั้นนำระดับอาเซียนทางด้านวิทยาการหุ่นยนต์ \n",
        "รวมทั้งสร้างเครือข่ายพัฒนาหลักสูตรด้านหุ่นยนต์ ครูและนักเรียนของโรงเรียนทั่วประเทศมากกว่า 100 โรงเรียน'''\n",
        "\n",
        "sentences = sentence_segment(paragraph)\n",
        "\n",
        "# convert type`thai_segmenter.sentence.sentence` to `str`\n",
        "sentences = [str(sentence) for sentence in sentences]\n",
        "\n",
        "for sentence in sentences:\n",
        "    print('-', str(sentence))"
      ],
      "metadata": {
        "colab": {
          "base_uri": "https://localhost:8080/"
        },
        "id": "_dqpI2ww8oAg",
        "outputId": "8c638838-7590-4bae-9839-4f3d4fa38e51"
      },
      "execution_count": null,
      "outputs": [
        {
          "output_type": "stream",
          "name": "stdout",
          "text": [
            "- แนวโน้มของการใช้หุ่นยนต์ทางด้านการผลิตและงานบริการมีจำนวนสูงขึ้นมากกว่า 30% ทุกปี แต่ประเทศไทยยังขาดบุคลากรด้านวิทยาการหุ่นยนต์และระบบอัตโนมัติในทุกระดับ \n",
            "โดยเฉพาะอาชีพวิศวกร อาจารย์และนักวิจัย ฟีโบ้จึงได้รับการก่อตั้งขึ้น\n",
            "- ในปี 2538\n",
            "- รศ. ดร.ชิต เหล่าวัฒนา และฟีโบ้มีคติพจน์ว่า “A Cradle of Future Leaders in Robotics” \n",
            "ที่มุ่งสร้างผู้นำด้านวิทยาการหุ่นยนต์ของไทย\n",
            "ฟีโบ้เป็นสถาบันระดับคณะแห่งแรกและแห่งเดียวในไทยที่เปิดสอนและให้ปริญญาครบทั้งระดับปริญญาตรี ปริญญาโท และปริญญาเอก ในสาขาวิทยาการหุ่นยนต์และระบบอัตโนมัติ\n",
            "- ทุกหลักสูตรเน้นหลัก \n",
            "Outcome-based Education ที่บัณฑิตสามารถใช้สมรรถนะที่เรียนในการพัฒนาเทคโนโลยีหุ่นยนต์ขึ้นได้\n",
            "- บัณฑิตฟีโบ้เป็นที่ต้องการของภาคเอกชนและภาครัฐอย่างมาก\n",
            "นอกจากนี้ฟีโบ้มีผลงานวิจัย/พัฒนาและให้บริการวิชาการด้านหุ่นยนต์เพื่อการผลิตและเพื่อพัฒนาคุณภาพชีวิตมากกว่า 300 ระบบ\n",
            "- มีความร่วมมือที่แข็งแกร่งกับภาครัฐและภาคธุรกิจอุตสาหกรรมชั้นนำ \n",
            "ทั้งกลุ่มปิโตรเลียม อาหาร ฮาร์ดดิสก์ การผลิตไฟฟ้า การขนส่ง ธุรกิจบริการ การศึกษา การแพทย์และการฟื้นฟูสมรรถภาพ\n",
            "ปัจจุบัน ฟีโบ้\n",
            "- การนำของ รศ. ดร.สยาม เจริญเสียง ผู้อำนวยการสถาบันฯ มุ่งมั่นเพื่อยกระดับฟีโบ้เข้าสู่สถาบันชั้นนำระดับอาเซียนทางด้านวิทยาการหุ่นยนต์ \n",
            "รวมทั้งสร้างเครือข่ายพัฒนาหลักสูตรด้านหุ่นยนต์ ครูและนักเรียนของโรงเรียนทั่วประเทศมากกว่า 100 โรงเรียน\n"
          ]
        }
      ]
    },
    {
      "cell_type": "markdown",
      "source": [
        "## **TF-IDF** (old version)"
      ],
      "metadata": {
        "id": "g3gsepP6xMnT"
      }
    },
    {
      "cell_type": "code",
      "source": [
        "!pip install spacy_thai thai_segmenter # thai_tokenizer"
      ],
      "metadata": {
        "id": "CT4a3a0Kyw35"
      },
      "execution_count": null,
      "outputs": []
    },
    {
      "cell_type": "code",
      "source": [
        "from sklearn.feature_extraction.text import TfidfVectorizer\n",
        "import numpy as np\n",
        "\n",
        "# Thai sentence segmentation\n",
        "from thai_segmenter import sentence_segment\n",
        "\n",
        "# Thai word tokenization\n",
        "import spacy_thai\n",
        "from thai_tokenizer import Tokenizer"
      ],
      "metadata": {
        "id": "-IgVUK8DqZaw"
      },
      "execution_count": 38,
      "outputs": []
    },
    {
      "cell_type": "code",
      "execution_count": 6,
      "metadata": {
        "id": "wA6MHDA-mTTv"
      },
      "outputs": [],
      "source": [
        "# def sentenceSplitter(paragraph, min_len=60):\n",
        "#     paragraph = paragraph.replace(\"\\n\",\"\")\n",
        "#     sentences = paragraph.split(\" \")\n",
        "\n",
        "#     for i in range(len(sentences)):\n",
        "\n",
        "#         while len(sentences[i]) < min_len and i>0:\n",
        "#             # print(i, sentences[i], len(sentences))\n",
        "#             sentences[i-1] += sentences.pop(i)\n",
        "\n",
        "#             if i>=(len(sentences)): break\n",
        "\n",
        "#         if i>=(len(sentences)): break\n",
        "#     return sentences"
      ]
    },
    {
      "cell_type": "code",
      "source": [
        "tokenizer = spacy_thai.load()\n",
        "# tokenizer = Tokenizer() # thai-tokenizer\n",
        "\n",
        "paragraph = '''แนวโน้มของการใช้หุ่นยนต์ทางด้านการผลิตและงานบริการมีจำนวนสูงขึ้นมากกว่า 30% ทุกปี แต่ประเทศไทยยังขาดบุคลากรด้านวิทยาการหุ่นยนต์และระบบอัตโนมัติในทุกระดับ \n",
        "โดยเฉพาะอาชีพวิศวกร อาจารย์และนักวิจัย ฟีโบ้จึงได้รับการก่อตั้งขึ้น ในปี 2538 โดย รศ. ดร.ชิต เหล่าวัฒนา และฟีโบ้มีคติพจน์ว่า “A Cradle of Future Leaders in Robotics” \n",
        "ที่มุ่งสร้างผู้นำด้านวิทยาการหุ่นยนต์ของไทย\n",
        "ฟีโบ้เป็นสถาบันระดับคณะแห่งแรกและแห่งเดียวในไทยที่เปิดสอนและให้ปริญญาครบทั้งระดับปริญญาตรี ปริญญาโท และปริญญาเอก ในสาขาวิทยาการหุ่นยนต์และระบบอัตโนมัติ ทุกหลักสูตรเน้นหลัก \n",
        "Outcome-based Education ที่บัณฑิตสามารถใช้สมรรถนะที่เรียนในการพัฒนาเทคโนโลยีหุ่นยนต์ขึ้นได้ ทำให้บัณฑิตฟีโบ้เป็นที่ต้องการของภาคเอกชนและภาครัฐอย่างมาก\n",
        "นอกจากนี้ฟีโบ้มีผลงานวิจัย/พัฒนาและให้บริการวิชาการด้านหุ่นยนต์เพื่อการผลิตและเพื่อพัฒนาคุณภาพชีวิตมากกว่า 300 ระบบ โดยมีความร่วมมือที่แข็งแกร่งกับภาครัฐและภาคธุรกิจอุตสาหกรรมชั้นนำ \n",
        "ทั้งกลุ่มปิโตรเลียม อาหาร ฮาร์ดดิสก์ การผลิตไฟฟ้า การขนส่ง ธุรกิจบริการ การศึกษา การแพทย์และการฟื้นฟูสมรรถภาพ\n",
        "ปัจจุบัน ฟีโบ้ โดยการนำของ รศ. ดร.สยาม เจริญเสียง ผู้อำนวยการสถาบันฯ มุ่งมั่นเพื่อยกระดับฟีโบ้เข้าสู่สถาบันชั้นนำระดับอาเซียนทางด้านวิทยาการหุ่นยนต์ \n",
        "รวมทั้งสร้างเครือข่ายพัฒนาหลักสูตรด้านหุ่นยนต์ ครูและนักเรียนของโรงเรียนทั่วประเทศมากกว่า 100 โรงเรียน'''\n",
        "# old\n",
        "# sentences = sentenceSplitter(paragraph, min_len=60)\n",
        "# len(sentences), sentences\n",
        "\n",
        "# new\n",
        "sentences = sentence_segment(paragraph)\n",
        "\n",
        "# convert type`thai_segmenter.sentence.sentence` to `str`\n",
        "sentences = [str(tokenizer(str(sentence))) for sentence in sentences]\n",
        "# sentences = [str(sentence) for sentence in sentences]\n",
        "\n",
        "for sentence in sentences:\n",
        "    print('-', str(sentence))"
      ],
      "metadata": {
        "colab": {
          "base_uri": "https://localhost:8080/"
        },
        "id": "AxH_8Anjmf8u",
        "outputId": "6b323ac3-268c-4f58-dab5-d9fb95a3fe3d"
      },
      "execution_count": 58,
      "outputs": [
        {
          "output_type": "stream",
          "name": "stdout",
          "text": [
            "- แนวโน้มของการใช้หุ่นยนต์ทางด้านการผลิตและงานบริการมีจำนวนสูงขึ้นมากกว่า 30% ทุกปี แต่ประเทศไทยยังขาดบุคลากรด้านวิทยาการหุ่นยนต์และระบบอัตโนมัติในทุกระดับ \n",
            "โดยเฉพาะอาชีพวิศวกร อาจารย์และนักวิจัย ฟีโบ้จึงได้รับการก่อตั้งขึ้น\n",
            "- ในปี 2538\n",
            "- รศ. ดร.ชิต เหล่าวัฒนา และฟีโบ้มีคติพจน์ว่า “A Cradle of Future Leaders in Robotics” \n",
            "ที่มุ่งสร้างผู้นำด้านวิทยาการหุ่นยนต์ของไทย\n",
            "ฟีโบ้เป็นสถาบันระดับคณะแห่งแรกและแห่งเดียวในไทยที่เปิดสอนและให้ปริญญาครบทั้งระดับปริญญาตรี ปริญญาโท และปริญญาเอก ในสาขาวิทยาการหุ่นยนต์และระบบอัตโนมัติ\n",
            "- ทุกหลักสูตรเน้นหลัก \n",
            "Outcome-based Education ที่บัณฑิตสามารถใช้สมรรถนะที่เรียนในการพัฒนาเทคโนโลยีหุ่นยนต์ขึ้นได้\n",
            "- บัณฑิตฟีโบ้เป็นที่ต้องการของภาคเอกชนและภาครัฐอย่างมาก\n",
            "นอกจากนี้ฟีโบ้มีผลงานวิจัย/พัฒนาและให้บริการวิชาการด้านหุ่นยนต์เพื่อการผลิตและเพื่อพัฒนาคุณภาพชีวิตมากกว่า 300 ระบบ\n",
            "- มีความร่วมมือที่แข็งแกร่งกับภาครัฐและภาคธุรกิจอุตสาหกรรมชั้นนำ \n",
            "ทั้งกลุ่มปิโตรเลียม อาหาร ฮาร์ดดิสก์ การผลิตไฟฟ้า การขนส่ง ธุรกิจบริการ การศึกษา การแพทย์และการฟื้นฟูสมรรถภาพ\n",
            "ปัจจุบัน ฟีโบ้\n",
            "- การนำของ รศ. ดร.สยาม เจริญเสียง ผู้อำนวยการสถาบันฯ มุ่งมั่นเพื่อยกระดับฟีโบ้เข้าสู่สถาบันชั้นนำระดับอาเซียนทางด้านวิทยาการหุ่นยนต์ \n",
            "รวมทั้งสร้างเครือข่ายพัฒนาหลักสูตรด้านหุ่นยนต์ ครูและนักเรียนของโรงเรียนทั่วประเทศมากกว่า 100 โรงเรียน\n"
          ]
        }
      ]
    },
    {
      "cell_type": "code",
      "source": [
        "def getRankTFIDF(sentences, tokenizer, ngram_range=(1,1)):\n",
        "\n",
        "    vectorizer = TfidfVectorizer( \n",
        "        tokenizer=tokenizer,\n",
        "        ngram_range=ngram_range\n",
        "    )\n",
        "    mat = vectorizer.fit_transform(sentences)\n",
        "    print(\"tokens:\", len(tokens:=vectorizer.get_feature_names_out()), tokens)\n",
        "    print(\"tokens:\", len(tokens:=list(vectorizer.vocabulary_)), tokens)\n",
        "\n",
        "    # print(mat.shape)\n",
        "\n",
        "    sentence_weight = mat.sum(axis=1).A1\n",
        "    word_weight     = mat.sum(axis=0).A1\n",
        "\n",
        "    sentence_weight_norm = (sentence_weight-np.min(sentence_weight))/(np.max(sentence_weight)-np.min(sentence_weight))\n",
        "    word_weight_norm     = (word_weight-np.min(word_weight))/(np.max(word_weight)-np.min(word_weight))\n",
        "\n",
        "    sentence_rank = np.argsort(sentence_weight, axis=0)[::-1]\n",
        "    word_rank     = np.argsort(word_weight, axis=0)[::-1]\n",
        "\n",
        "    return sentence_rank, sentence_weight_norm, tokens, word_rank, word_weight_norm\n",
        "\n",
        "sentence_rank, sentence_weight, tokens, word_rank, word_weight = getRankTFIDF(sentences, tokenizer)"
      ],
      "metadata": {
        "colab": {
          "base_uri": "https://localhost:8080/"
        },
        "id": "ZYwJWbELqWio",
        "outputId": "8f91e61f-9e34-4799-d96c-5bb5873bad90"
      },
      "execution_count": 55,
      "outputs": [
        {
          "output_type": "stream",
          "name": "stdout",
          "text": [
            "tokens: 230 [แนวโน้ม ใน รศ. ทุก บัณฑิต มี การนำ ปี ความร่วมมือ หลักสูตร ดร. 2538 ของ\n",
            " ฟี ของ ชิต โบ้ รศ. การ เหล่า เน้น เป็นที่ต้องการ ใช้ ที่ ดร. หลัก\n",
            " หุ่นยนต์ วัฒนา แข็งแกร่ง สยาม outcome-based เจริญ และ ทาง ฟี ของ กับ\n",
            " เสียง ด้าน โบ้ ภาคเอกชน ภาครัฐ มี การผลิต คติพจน์ ผู้อำนวยการ education\n",
            " และ และ ภาค และ ว่า ภาครัฐ ธุรกิจ งาน “ สถาบัน บริการ a ที่ อย่าง cradle\n",
            " อุตสาหกรรม บัณฑิต ฯ มี มาก มุ่งมั่น จำนวน of สามารถ นอกจากนี้ future\n",
            " ชั้นนำ สูง ใช้ เพื่อ ขึ้น สมรรถนะ leaders ฟี ทั้ง มากกว่า ยกระดับ โบ้\n",
            " กลุ่ม มี ที่ ผลงานวิจัย in ฟี 30 เรียน ปิโตรเลียม โบ้ % robotics ทุกปี\n",
            " เข้าสู่ ใน การพัฒนา / พัฒนา แต่ ” อาหาร สถาบัน ที่ ประเทศ และ มุ่ง\n",
            " เทคโนโลยี ให้บริการ ฮาร์ดดิสก์ ชั้นนำ ไทย สร้าง ยัง ระดับ ผู้นำ หุ่นยนต์\n",
            " ขาด วิชาการ บุคลากร การผลิต อาเซียน ด้าน ขึ้น วิทยาการ ด้าน ด้าน ไฟฟ้า\n",
            " ทาง ได้ หุ่นยนต์ ด้าน วิทยาการ หุ่นยนต์ การขนส่ง วิทยาการ เพื่อ หุ่นยนต์\n",
            " ของ การผลิต ธุรกิจ หุ่นยนต์ ไทย และ ฟี บริการ และ ระบบ โบ้ รวมทั้ง เพื่อ\n",
            " เป็น อัตโนมัติ การศึกษา สถาบัน พัฒนา สร้าง คุณภาพชีวิต ใน ระดับ เครือข่าย\n",
            " การแพทย์ ทุก ระดับ คณะ แห่ง และ พัฒนา มากกว่า โดยเฉพาะ แรก\n",
            " การฟื้นฟูสมรรถภาพ หลักสูตร และ แห่ง 300 อาชีพ เดียว ระบบ ด้าน วิศวกร\n",
            " หุ่นยนต์ ใน ไทย ปัจจุบัน อาจารย์ ที่ เปิด ครู และ และ สอน ฟี นักวิจัย โบ้\n",
            " นักเรียน และ ให้ ปริญญา ของ ฟี โบ้ โรงเรียน ครบ จึง ทั้ง ได้รับ\n",
            " ทั่วประเทศ ระดับ การ ปริญญาตรี ก่อ ตั้งขึ้น มากกว่า ปริญญาโท 100 โรงเรียน\n",
            " และ ปริญญาเอก ใน สาขา วิทยาการ หุ่นยนต์ และ ระบบ อัตโนมัติ]\n",
            "tokens: 230 [แนวโน้ม, ของ, การ, ใช้, หุ่นยนต์, ทาง, ด้าน, การผลิต, และ, งาน, บริการ, มี, จำนวน, สูง, ขึ้น, มากกว่า, 30, %, ทุกปี, แต่, ประเทศ, ไทย, ยัง, ขาด, บุคลากร, ด้าน, วิทยาการ, หุ่นยนต์, และ, ระบบ, อัตโนมัติ, ใน, ทุก, ระดับ, โดยเฉพาะ, อาชีพ, วิศวกร, อาจารย์, และ, นักวิจัย, ฟี, โบ้, จึง, ได้รับ, การ, ก่อ, ตั้งขึ้น, ใน, ปี, 2538, รศ., ดร., ชิต, เหล่า, วัฒนา, และ, ฟี, โบ้, มี, คติพจน์, ว่า, “, a, cradle, of, future, leaders, in, robotics, ”, ที่, มุ่ง, สร้าง, ผู้นำ, ด้าน, วิทยาการ, หุ่นยนต์, ของ, ไทย, ฟี, โบ้, เป็น, สถาบัน, ระดับ, คณะ, แห่ง, แรก, และ, แห่ง, เดียว, ใน, ไทย, ที่, เปิด, สอน, และ, ให้, ปริญญา, ครบ, ทั้ง, ระดับ, ปริญญาตรี, ปริญญาโท, และ, ปริญญาเอก, ใน, สาขา, วิทยาการ, หุ่นยนต์, และ, ระบบ, อัตโนมัติ, ทุก, หลักสูตร, เน้น, หลัก, outcome-based, education, ที่, บัณฑิต, สามารถ, ใช้, สมรรถนะ, ที่, เรียน, ใน, การพัฒนา, เทคโนโลยี, หุ่นยนต์, ขึ้น, ได้, บัณฑิต, ฟี, โบ้, เป็นที่ต้องการ, ของ, ภาคเอกชน, และ, ภาครัฐ, อย่าง, มาก, นอกจากนี้, ฟี, โบ้, มี, ผลงานวิจัย, /, พัฒนา, และ, ให้บริการ, วิชาการ, ด้าน, หุ่นยนต์, เพื่อ, การผลิต, และ, เพื่อ, พัฒนา, คุณภาพชีวิต, มากกว่า, 300, ระบบ, มี, ความร่วมมือ, ที่, แข็งแกร่ง, กับ, ภาครัฐ, และ, ภาค, ธุรกิจ, อุตสาหกรรม, ชั้นนำ, ทั้ง, กลุ่ม, ปิโตรเลียม, อาหาร, ฮาร์ดดิสก์, การผลิต, ไฟฟ้า, การขนส่ง, ธุรกิจ, บริการ, การศึกษา, การแพทย์, และ, การฟื้นฟูสมรรถภาพ, ปัจจุบัน, ฟี, โบ้, การนำ, ของ, รศ., ดร., สยาม, เจริญ, เสียง, ผู้อำนวยการ, สถาบัน, ฯ, มุ่งมั่น, เพื่อ, ยกระดับ, ฟี, โบ้, เข้าสู่, สถาบัน, ชั้นนำ, ระดับ, อาเซียน, ทาง, ด้าน, วิทยาการ, หุ่นยนต์, รวมทั้ง, สร้าง, เครือข่าย, พัฒนา, หลักสูตร, ด้าน, หุ่นยนต์, ครู, และ, นักเรียน, ของ, โรงเรียน, ทั่วประเทศ, มากกว่า, 100, โรงเรียน]\n"
          ]
        },
        {
          "output_type": "stream",
          "name": "stderr",
          "text": [
            "/usr/local/lib/python3.10/dist-packages/sklearn/feature_extraction/text.py:528: UserWarning: The parameter 'token_pattern' will not be used since 'tokenizer' is not None'\n",
            "  warnings.warn(\n"
          ]
        }
      ]
    },
    {
      "cell_type": "code",
      "source": [
        "print(\"sentence_rank:   \", sentence_rank)\n",
        "print(\"sentence_weight: \", sentence_weight.shape, sentence_weight)\n",
        "print(\"word_weight:     \", word_weight.shape)"
      ],
      "metadata": {
        "colab": {
          "base_uri": "https://localhost:8080/"
        },
        "id": "USu5VPBrt65H",
        "outputId": "e59ae6d5-58d6-4782-cd4a-d76e5cd2ccfe"
      },
      "execution_count": 56,
      "outputs": [
        {
          "output_type": "stream",
          "name": "stdout",
          "text": [
            "sentence_rank:    [2 0 6 4 5 3 1]\n",
            "sentence_weight:  (7,) [0.83419727 0.         1.         0.42768911 0.62450999 0.57953056\n",
            " 0.74772657]\n",
            "word_weight:      (230,)\n"
          ]
        }
      ]
    },
    {
      "cell_type": "code",
      "source": [
        "word_rank, word_weight"
      ],
      "metadata": {
        "id": "EB8Xf0d37PxN"
      },
      "execution_count": null,
      "outputs": []
    },
    {
      "cell_type": "code",
      "source": [
        "# Example: show top-3 sentences\n",
        "print(np.asarray(sentences)[sentence_rank[:3]], '\\n')\n",
        "\n",
        "# Example: show top-10 keywords\n",
        "for rnk in word_rank[:10]:\n",
        "    print(tokens[rnk], '-', word_weight[rnk])"
      ],
      "metadata": {
        "colab": {
          "base_uri": "https://localhost:8080/"
        },
        "id": "tOJ-cTTvvS1t",
        "outputId": "9752812f-a5c9-4fb4-9fbf-79322144ba3a"
      },
      "execution_count": 57,
      "outputs": [
        {
          "output_type": "stream",
          "name": "stdout",
          "text": [
            "['รศ. ดร.ชิต เหล่าวัฒนา และฟีโบ้มีคติพจน์ว่า “A Cradle of Future Leaders in Robotics” ที่มุ่งสร้างผู้นำด้านวิทยาการหุ่นยนต์ของไทย ฟีโบ้เป็นสถาบันระดับคณะแห่งแรกและแห่งเดียวในไทยที่เปิดสอนและให้ปริญญาครบทั้งระดับปริญญาตรี ปริญญาโท และปริญญาเอก ในสาขาวิทยาการหุ่นยนต์และระบบอัตโนมัติ'\n",
            " 'แนวโน้มของการใช้หุ่นยนต์ทางด้านการผลิตและงานบริการมีจำนวนสูงขึ้นมากกว่า 30% ทุกปี แต่ประเทศไทยยังขาดบุคลากรด้านวิทยาการหุ่นยนต์และระบบอัตโนมัติในทุกระดับ โดยเฉพาะอาชีพวิศวกร อาจารย์และนักวิจัย ฟีโบ้จึงได้รับการก่อตั้งขึ้น'\n",
            " 'การนำของ รศ. ดร.สยาม เจริญเสียง ผู้อำนวยการสถาบันฯ มุ่งมั่นเพื่อยกระดับฟีโบ้เข้าสู่สถาบันชั้นนำระดับอาเซียนทางด้านวิทยาการหุ่นยนต์ รวมทั้งสร้างเครือข่ายพัฒนาหลักสูตรด้านหุ่นยนต์ ครูและนักเรียนของโรงเรียนทั่วประเทศมากกว่า 100 โรงเรียน'] \n",
            "\n",
            "ของ - 1.0\n",
            "การผลิต - 1.0\n",
            "มี - 1.0\n",
            "วิทยาการ - 0.2274132886301857\n",
            "อัตโนมัติ - 0.2274132886301857\n",
            "คติพจน์ - 0.2274132886301857\n",
            "ตั้งขึ้น - 0.2274132886301857\n",
            "cradle - 0.2274132886301857\n",
            "ที่ - 0.2274132886301857\n",
            "โบ้ - 0.2274132886301857\n"
          ]
        }
      ]
    },
    {
      "cell_type": "markdown",
      "source": [
        "Old version"
      ],
      "metadata": {
        "id": "oZqfBTsaVGm-"
      }
    },
    {
      "cell_type": "code",
      "source": [
        "# TF-IDF\n",
        "sentence_rank, sentence_weight, tokens, word_rank, word_weight = getRankTFIDF(sentences, tokenizer)\n",
        "\n",
        "print(\"sentence_rank:   \", sentence_rank)\n",
        "print(\"sentence_weight: \", sentence_weight)\n",
        "print(\"tokens:          \", tokens.shape)\n",
        "print(\"word_rank:       \", word_rank.shape)\n",
        "print(\"word_weight:     \", word_weight.shape)\n",
        "\n",
        "print()\n",
        "_ = highlightedText( list(tokens), word_weight)"
      ],
      "metadata": {
        "colab": {
          "base_uri": "https://localhost:8080/",
          "height": 249
        },
        "id": "QGsuceavGALL",
        "outputId": "a8f4d5a1-ff71-458f-f7e9-cfcbc6112d1e"
      },
      "execution_count": 127,
      "outputs": [
        {
          "output_type": "stream",
          "name": "stdout",
          "text": [
            "sentence_rank:    [2 0 6 4 5 3 1]\n",
            "sentence_weight:  [0.83419727 0.         1.         0.42768911 0.62450999 0.57953056\n",
            " 0.74772657]\n",
            "tokens:           (230,)\n",
            "word_rank:        (230,)\n",
            "word_weight:      (230,)\n",
            "\n"
          ]
        },
        {
          "output_type": "display_data",
          "data": {
            "text/plain": [
              "<IPython.core.display.HTML object>"
            ],
            "text/html": [
              "<span style=\"background-color:rgba(251,155,59,0.033511461825663086);\">แนวโน้ม</span><span style=\"background-color:rgba(251,155,59,0.8);\">ใน</span><span style=\"background-color:rgba(251,155,59,0.0);\">รศ.</span><span style=\"background-color:rgba(251,155,59,0.18193063090414857);\">ทุก</span><span style=\"background-color:rgba(251,155,59,0.09344760016432992);\">บัณฑิต</span><span style=\"background-color:rgba(251,155,59,0.11010474508228468);\">มี</span><span style=\"background-color:rgba(251,155,59,0.05527033850943594);\">การนำ</span><span style=\"background-color:rgba(251,155,59,0.8);\">ปี</span><span style=\"background-color:rgba(251,155,59,0.11010474508228468);\">ความร่วมมือ</span><span style=\"background-color:rgba(251,155,59,0.18193063090414857);\">หลักสูตร</span><span style=\"background-color:rgba(251,155,59,0.0);\">ดร.</span><span style=\"background-color:rgba(251,155,59,0.8);\">2538</span><span style=\"background-color:rgba(251,155,59,0.05527033850943594);\">ของ</span><span style=\"background-color:rgba(251,155,59,0.09344760016432992);\">ฟี</span><span style=\"background-color:rgba(251,155,59,0.033511461825663086);\">ของ</span><span style=\"background-color:rgba(251,155,59,0.0);\">ชิต</span><span style=\"background-color:rgba(251,155,59,0.09344760016432992);\">โบ้</span><span style=\"background-color:rgba(251,155,59,0.05527033850943594);\">รศ.</span><span style=\"background-color:rgba(251,155,59,0.033511461825663086);\">การ</span><span style=\"background-color:rgba(251,155,59,0.0);\">เหล่า</span><span style=\"background-color:rgba(251,155,59,0.18193063090414857);\">เน้น</span><span style=\"background-color:rgba(251,155,59,0.09344760016432992);\">เป็นที่ต้องการ</span><span style=\"background-color:rgba(251,155,59,0.033511461825663086);\">ใช้</span><span style=\"background-color:rgba(251,155,59,0.11010474508228468);\">ที่</span><span style=\"background-color:rgba(251,155,59,0.05527033850943594);\">ดร.</span><span style=\"background-color:rgba(251,155,59,0.18193063090414857);\">หลัก</span><span style=\"background-color:rgba(251,155,59,0.033511461825663086);\">หุ่นยนต์</span><span style=\"background-color:rgba(251,155,59,0.0);\">วัฒนา</span><span style=\"background-color:rgba(251,155,59,0.11010474508228468);\">แข็งแกร่ง</span><span style=\"background-color:rgba(251,155,59,0.05527033850943594);\">สยาม</span><span style=\"background-color:rgba(251,155,59,0.18193063090414857);\">outcome-based</span><span style=\"background-color:rgba(251,155,59,0.05527033850943594);\">เจริญ</span><span style=\"background-color:rgba(251,155,59,0.0);\">และ</span><span style=\"background-color:rgba(251,155,59,0.033511461825663086);\">ทาง</span><span style=\"background-color:rgba(251,155,59,0.0);\">ฟี</span><span style=\"background-color:rgba(251,155,59,0.09344760016432992);\">ของ</span><span style=\"background-color:rgba(251,155,59,0.11010474508228468);\">กับ</span><span style=\"background-color:rgba(251,155,59,0.05527033850943594);\">เสียง</span><span style=\"background-color:rgba(251,155,59,0.033511461825663086);\">ด้าน</span><span style=\"background-color:rgba(251,155,59,0.0);\">โบ้</span><span style=\"background-color:rgba(251,155,59,0.09344760016432992);\">ภาคเอกชน</span><span style=\"background-color:rgba(251,155,59,0.11010474508228468);\">ภาครัฐ</span><span style=\"background-color:rgba(251,155,59,0.0);\">มี</span><span style=\"background-color:rgba(251,155,59,0.033511461825663086);\">การผลิต</span><span style=\"background-color:rgba(251,155,59,0.0);\">คติพจน์</span><span style=\"background-color:rgba(251,155,59,0.05527033850943594);\">ผู้อำนวยการ</span><span style=\"background-color:rgba(251,155,59,0.18193063090414857);\">education</span><span style=\"background-color:rgba(251,155,59,0.11010474508228468);\">และ</span><span style=\"background-color:rgba(251,155,59,0.09344760016432992);\">และ</span><span style=\"background-color:rgba(251,155,59,0.11010474508228468);\">ภาค</span><span style=\"background-color:rgba(251,155,59,0.033511461825663086);\">และ</span><span style=\"background-color:rgba(251,155,59,0.0);\">ว่า</span><span style=\"background-color:rgba(251,155,59,0.09344760016432992);\">ภาครัฐ</span><span style=\"background-color:rgba(251,155,59,0.11010474508228468);\">ธุรกิจ</span><span style=\"background-color:rgba(251,155,59,0.033511461825663086);\">งาน</span><span style=\"background-color:rgba(251,155,59,0.0);\">“</span><span style=\"background-color:rgba(251,155,59,0.05527033850943594);\">สถาบัน</span><span style=\"background-color:rgba(251,155,59,0.033511461825663086);\">บริการ</span><span style=\"background-color:rgba(251,155,59,0.0);\">a</span><span style=\"background-color:rgba(251,155,59,0.18193063090414857);\">ที่</span><span style=\"background-color:rgba(251,155,59,0.09344760016432992);\">อย่าง</span><span style=\"background-color:rgba(251,155,59,0.0);\">cradle</span><span style=\"background-color:rgba(251,155,59,0.11010474508228468);\">อุตสาหกรรม</span><span style=\"background-color:rgba(251,155,59,0.18193063090414857);\">บัณฑิต</span><span style=\"background-color:rgba(251,155,59,0.05527033850943594);\">ฯ</span><span style=\"background-color:rgba(251,155,59,0.033511461825663086);\">มี</span><span style=\"background-color:rgba(251,155,59,0.09344760016432992);\">มาก</span><span style=\"background-color:rgba(251,155,59,0.05527033850943594);\">มุ่งมั่น</span><span style=\"background-color:rgba(251,155,59,0.033511461825663086);\">จำนวน</span><span style=\"background-color:rgba(251,155,59,0.0);\">of</span><span style=\"background-color:rgba(251,155,59,0.18193063090414857);\">สามารถ</span><span style=\"background-color:rgba(251,155,59,0.09344760016432992);\">นอกจากนี้</span><span style=\"background-color:rgba(251,155,59,0.0);\">future</span><span style=\"background-color:rgba(251,155,59,0.11010474508228468);\">ชั้นนำ</span><span style=\"background-color:rgba(251,155,59,0.033511461825663086);\">สูง</span><span style=\"background-color:rgba(251,155,59,0.18193063090414857);\">ใช้</span><span style=\"background-color:rgba(251,155,59,0.05527033850943594);\">เพื่อ</span><span style=\"background-color:rgba(251,155,59,0.033511461825663086);\">ขึ้น</span><span style=\"background-color:rgba(251,155,59,0.18193063090414857);\">สมรรถนะ</span><span style=\"background-color:rgba(251,155,59,0.0);\">leaders</span><span style=\"background-color:rgba(251,155,59,0.09344760016432992);\">ฟี</span><span style=\"background-color:rgba(251,155,59,0.11010474508228468);\">ทั้ง</span><span style=\"background-color:rgba(251,155,59,0.033511461825663086);\">มากกว่า</span><span style=\"background-color:rgba(251,155,59,0.05527033850943594);\">ยกระดับ</span><span style=\"background-color:rgba(251,155,59,0.09344760016432992);\">โบ้</span><span style=\"background-color:rgba(251,155,59,0.11010474508228468);\">กลุ่ม</span><span style=\"background-color:rgba(251,155,59,0.09344760016432992);\">มี</span><span style=\"background-color:rgba(251,155,59,0.18193063090414857);\">ที่</span><span style=\"background-color:rgba(251,155,59,0.09344760016432992);\">ผลงานวิจัย</span><span style=\"background-color:rgba(251,155,59,0.0);\">in</span><span style=\"background-color:rgba(251,155,59,0.05527033850943594);\">ฟี</span><span style=\"background-color:rgba(251,155,59,0.033511461825663086);\">30</span><span style=\"background-color:rgba(251,155,59,0.18193063090414857);\">เรียน</span><span style=\"background-color:rgba(251,155,59,0.11010474508228468);\">ปิโตรเลียม</span><span style=\"background-color:rgba(251,155,59,0.05527033850943594);\">โบ้</span><span style=\"background-color:rgba(251,155,59,0.033511461825663086);\">%</span><span style=\"background-color:rgba(251,155,59,0.0);\">robotics</span><span style=\"background-color:rgba(251,155,59,0.033511461825663086);\">ทุกปี</span><span style=\"background-color:rgba(251,155,59,0.05527033850943594);\">เข้าสู่</span><span style=\"background-color:rgba(251,155,59,0.18193063090414857);\">ใน</span><span style=\"background-color:rgba(251,155,59,0.18193063090414857);\">การพัฒนา</span><span style=\"background-color:rgba(251,155,59,0.09344760016432992);\">/</span><span style=\"background-color:rgba(251,155,59,0.09344760016432992);\">พัฒนา</span><span style=\"background-color:rgba(251,155,59,0.033511461825663086);\">แต่</span><span style=\"background-color:rgba(251,155,59,0.0);\">”</span><span style=\"background-color:rgba(251,155,59,0.11010474508228468);\">อาหาร</span><span style=\"background-color:rgba(251,155,59,0.05527033850943594);\">สถาบัน</span><span style=\"background-color:rgba(251,155,59,0.0);\">ที่</span><span style=\"background-color:rgba(251,155,59,0.033511461825663086);\">ประเทศ</span><span style=\"background-color:rgba(251,155,59,0.09344760016432992);\">และ</span><span style=\"background-color:rgba(251,155,59,0.0);\">มุ่ง</span><span style=\"background-color:rgba(251,155,59,0.18193063090414857);\">เทคโนโลยี</span><span style=\"background-color:rgba(251,155,59,0.09344760016432992);\">ให้บริการ</span><span style=\"background-color:rgba(251,155,59,0.11010474508228468);\">ฮาร์ดดิสก์</span><span style=\"background-color:rgba(251,155,59,0.05527033850943594);\">ชั้นนำ</span><span style=\"background-color:rgba(251,155,59,0.033511461825663086);\">ไทย</span><span style=\"background-color:rgba(251,155,59,0.0);\">สร้าง</span><span style=\"background-color:rgba(251,155,59,0.033511461825663086);\">ยัง</span><span style=\"background-color:rgba(251,155,59,0.05527033850943594);\">ระดับ</span><span style=\"background-color:rgba(251,155,59,0.0);\">ผู้นำ</span><span style=\"background-color:rgba(251,155,59,0.18193063090414857);\">หุ่นยนต์</span><span style=\"background-color:rgba(251,155,59,0.033511461825663086);\">ขาด</span><span style=\"background-color:rgba(251,155,59,0.09344760016432992);\">วิชาการ</span><span style=\"background-color:rgba(251,155,59,0.033511461825663086);\">บุคลากร</span><span style=\"background-color:rgba(251,155,59,0.11010474508228468);\">การผลิต</span><span style=\"background-color:rgba(251,155,59,0.05527033850943594);\">อาเซียน</span><span style=\"background-color:rgba(251,155,59,0.0);\">ด้าน</span><span style=\"background-color:rgba(251,155,59,0.18193063090414857);\">ขึ้น</span><span style=\"background-color:rgba(251,155,59,0.0);\">วิทยาการ</span><span style=\"background-color:rgba(251,155,59,0.09344760016432992);\">ด้าน</span><span style=\"background-color:rgba(251,155,59,0.033511461825663086);\">ด้าน</span><span style=\"background-color:rgba(251,155,59,0.11010474508228468);\">ไฟฟ้า</span><span style=\"background-color:rgba(251,155,59,0.05527033850943594);\">ทาง</span><span style=\"background-color:rgba(251,155,59,0.18193063090414857);\">ได้</span><span style=\"background-color:rgba(251,155,59,0.09344760016432992);\">หุ่นยนต์</span><span style=\"background-color:rgba(251,155,59,0.05527033850943594);\">ด้าน</span><span style=\"background-color:rgba(251,155,59,0.033511461825663086);\">วิทยาการ</span><span style=\"background-color:rgba(251,155,59,0.0);\">หุ่นยนต์</span><span style=\"background-color:rgba(251,155,59,0.11010474508228468);\">การขนส่ง</span><span style=\"background-color:rgba(251,155,59,0.05527033850943594);\">วิทยาการ</span><span style=\"background-color:rgba(251,155,59,0.09344760016432992);\">เพื่อ</span><span style=\"background-color:rgba(251,155,59,0.033511461825663086);\">หุ่นยนต์</span><span style=\"background-color:rgba(251,155,59,0.0);\">ของ</span><span style=\"background-color:rgba(251,155,59,0.09344760016432992);\">การผลิต</span><span style=\"background-color:rgba(251,155,59,0.11010474508228468);\">ธุรกิจ</span><span style=\"background-color:rgba(251,155,59,0.05527033850943594);\">หุ่นยนต์</span><span style=\"background-color:rgba(251,155,59,0.0);\">ไทย</span><span style=\"background-color:rgba(251,155,59,0.033511461825663086);\">และ</span><span style=\"background-color:rgba(251,155,59,0.0);\">ฟี</span><span style=\"background-color:rgba(251,155,59,0.11010474508228468);\">บริการ</span><span style=\"background-color:rgba(251,155,59,0.09344760016432992);\">และ</span><span style=\"background-color:rgba(251,155,59,0.033511461825663086);\">ระบบ</span><span style=\"background-color:rgba(251,155,59,0.0);\">โบ้</span><span style=\"background-color:rgba(251,155,59,0.05527033850943594);\">รวมทั้ง</span><span style=\"background-color:rgba(251,155,59,0.09344760016432992);\">เพื่อ</span><span style=\"background-color:rgba(251,155,59,0.0);\">เป็น</span><span style=\"background-color:rgba(251,155,59,0.033511461825663086);\">อัตโนมัติ</span><span style=\"background-color:rgba(251,155,59,0.11010474508228468);\">การศึกษา</span><span style=\"background-color:rgba(251,155,59,0.0);\">สถาบัน</span><span style=\"background-color:rgba(251,155,59,0.09344760016432992);\">พัฒนา</span><span style=\"background-color:rgba(251,155,59,0.05527033850943594);\">สร้าง</span><span style=\"background-color:rgba(251,155,59,0.09344760016432992);\">คุณภาพชีวิต</span><span style=\"background-color:rgba(251,155,59,0.033511461825663086);\">ใน</span><span style=\"background-color:rgba(251,155,59,0.0);\">ระดับ</span><span style=\"background-color:rgba(251,155,59,0.05527033850943594);\">เครือข่าย</span><span style=\"background-color:rgba(251,155,59,0.11010474508228468);\">การแพทย์</span><span style=\"background-color:rgba(251,155,59,0.033511461825663086);\">ทุก</span><span style=\"background-color:rgba(251,155,59,0.033511461825663086);\">ระดับ</span><span style=\"background-color:rgba(251,155,59,0.0);\">คณะ</span><span style=\"background-color:rgba(251,155,59,0.0);\">แห่ง</span><span style=\"background-color:rgba(251,155,59,0.11010474508228468);\">และ</span><span style=\"background-color:rgba(251,155,59,0.05527033850943594);\">พัฒนา</span><span style=\"background-color:rgba(251,155,59,0.09344760016432992);\">มากกว่า</span><span style=\"background-color:rgba(251,155,59,0.033511461825663086);\">โดยเฉพาะ</span><span style=\"background-color:rgba(251,155,59,0.0);\">แรก</span><span style=\"background-color:rgba(251,155,59,0.11010474508228468);\">การฟื้นฟูสมรรถภาพ</span><span style=\"background-color:rgba(251,155,59,0.05527033850943594);\">หลักสูตร</span><span style=\"background-color:rgba(251,155,59,0.0);\">และ</span><span style=\"background-color:rgba(251,155,59,0.0);\">แห่ง</span><span style=\"background-color:rgba(251,155,59,0.09344760016432992);\">300</span><span style=\"background-color:rgba(251,155,59,0.033511461825663086);\">อาชีพ</span><span style=\"background-color:rgba(251,155,59,0.0);\">เดียว</span><span style=\"background-color:rgba(251,155,59,0.09344760016432992);\">ระบบ</span><span style=\"background-color:rgba(251,155,59,0.05527033850943594);\">ด้าน</span><span style=\"background-color:rgba(251,155,59,0.033511461825663086);\">วิศวกร</span><span style=\"background-color:rgba(251,155,59,0.05527033850943594);\">หุ่นยนต์</span><span style=\"background-color:rgba(251,155,59,0.0);\">ใน</span><span style=\"background-color:rgba(251,155,59,0.0);\">ไทย</span><span style=\"background-color:rgba(251,155,59,0.11010474508228468);\">ปัจจุบัน</span><span style=\"background-color:rgba(251,155,59,0.033511461825663086);\">อาจารย์</span><span style=\"background-color:rgba(251,155,59,0.0);\">ที่</span><span style=\"background-color:rgba(251,155,59,0.0);\">เปิด</span><span style=\"background-color:rgba(251,155,59,0.05527033850943594);\">ครู</span><span style=\"background-color:rgba(251,155,59,0.033511461825663086);\">และ</span><span style=\"background-color:rgba(251,155,59,0.05527033850943594);\">และ</span><span style=\"background-color:rgba(251,155,59,0.0);\">สอน</span><span style=\"background-color:rgba(251,155,59,0.11010474508228468);\">ฟี</span><span style=\"background-color:rgba(251,155,59,0.033511461825663086);\">นักวิจัย</span><span style=\"background-color:rgba(251,155,59,0.11010474508228468);\">โบ้</span><span style=\"background-color:rgba(251,155,59,0.05527033850943594);\">นักเรียน</span><span style=\"background-color:rgba(251,155,59,0.0);\">และ</span><span style=\"background-color:rgba(251,155,59,0.0);\">ให้</span><span style=\"background-color:rgba(251,155,59,0.0);\">ปริญญา</span><span style=\"background-color:rgba(251,155,59,0.05527033850943594);\">ของ</span><span style=\"background-color:rgba(251,155,59,0.033511461825663086);\">ฟี</span><span style=\"background-color:rgba(251,155,59,0.033511461825663086);\">โบ้</span><span style=\"background-color:rgba(251,155,59,0.05527033850943594);\">โรงเรียน</span><span style=\"background-color:rgba(251,155,59,0.0);\">ครบ</span><span style=\"background-color:rgba(251,155,59,0.033511461825663086);\">จึง</span><span style=\"background-color:rgba(251,155,59,0.0);\">ทั้ง</span><span style=\"background-color:rgba(251,155,59,0.033511461825663086);\">ได้รับ</span><span style=\"background-color:rgba(251,155,59,0.05527033850943594);\">ทั่วประเทศ</span><span style=\"background-color:rgba(251,155,59,0.0);\">ระดับ</span><span style=\"background-color:rgba(251,155,59,0.033511461825663086);\">การ</span><span style=\"background-color:rgba(251,155,59,0.0);\">ปริญญาตรี</span><span style=\"background-color:rgba(251,155,59,0.033511461825663086);\">ก่อ</span><span style=\"background-color:rgba(251,155,59,0.033511461825663086);\">ตั้งขึ้น</span><span style=\"background-color:rgba(251,155,59,0.05527033850943594);\">มากกว่า</span><span style=\"background-color:rgba(251,155,59,0.0);\">ปริญญาโท</span><span style=\"background-color:rgba(251,155,59,0.05527033850943594);\">100</span><span style=\"background-color:rgba(251,155,59,0.05527033850943594);\">โรงเรียน</span><span style=\"background-color:rgba(251,155,59,0.0);\">และ</span><span style=\"background-color:rgba(251,155,59,0.0);\">ปริญญาเอก</span><span style=\"background-color:rgba(251,155,59,0.0);\">ใน</span><span style=\"background-color:rgba(251,155,59,0.0);\">สาขา</span><span style=\"background-color:rgba(251,155,59,0.0);\">วิทยาการ</span><span style=\"background-color:rgba(251,155,59,0.0);\">หุ่นยนต์</span><span style=\"background-color:rgba(251,155,59,0.0);\">และ</span><span style=\"background-color:rgba(251,155,59,0.0);\">ระบบ</span><span style=\"background-color:rgba(251,155,59,0.0);\">อัตโนมัติ</span>"
            ]
          },
          "metadata": {}
        }
      ]
    },
    {
      "cell_type": "code",
      "source": [
        "# # Increse N-grams \n",
        "# sentence_rank, sentence_weight, tokens, word_rank, word_weight = getRankTFIDF(sentences, tokenizer, ngram_range=(1,3))\n",
        "\n",
        "# # Example: show top-3 sentences\n",
        "# print(np.asarray(sentences)[sentence_rank[:3]], '\\n')\n",
        "\n",
        "# # Example: show top-10 keywords\n",
        "# for rnk in word_rank[:10]:\n",
        "#     print(tokens[rnk], '-', word_weight[rnk])"
      ],
      "metadata": {
        "id": "F-U7_ef86UZm"
      },
      "execution_count": 60,
      "outputs": []
    },
    {
      "cell_type": "markdown",
      "source": [
        "## **TestRank**\n",
        "\n",
        "💡 [@BrambleXu](https://gist.github.com/BrambleXu/3d47bbdbd1ee4e6fc695b0ddb88cbf99#file-textrank4keyword-py) |\n",
        "[Medium](https://towardsdatascience.com/textrank-for-keyword-extraction-by-python-c0bae21bcec0)"
      ],
      "metadata": {
        "id": "QSV6Iu62xRcx"
      }
    },
    {
      "cell_type": "code",
      "source": [
        "# !pip install pytextrank"
      ],
      "metadata": {
        "id": "ZQ1c2NnGxTCk"
      },
      "execution_count": null,
      "outputs": []
    },
    {
      "cell_type": "code",
      "source": [
        "import spacy\n",
        "# import pytextrank\n",
        "\n",
        "# Thai sentence segmentation\n",
        "from thai_segmenter import sentence_segment\n",
        "\n",
        "# Thai word tokenization\n",
        "import spacy_thai\n",
        "tokenizer = spacy_thai.load()"
      ],
      "metadata": {
        "id": "TGKW1jljxhq5"
      },
      "execution_count": 94,
      "outputs": []
    },
    {
      "cell_type": "code",
      "source": [
        "from collections import OrderedDict\n",
        "import numpy as np\n",
        "import spacy\n",
        "from spacy.lang.en.stop_words import STOP_WORDS\n",
        "\n",
        "# nlp = spacy.load('en_core_web_sm')\n",
        "\n",
        "class TextRank4Keyword():\n",
        "    \"\"\"Extract keywords from text\n",
        "    \n",
        "    https://gist.github.com/BrambleXu/3d47bbdbd1ee4e6fc695b0ddb88cbf99#file-textrank4keyword-py\"\"\"\n",
        "    \n",
        "    def __init__(self, tokenizer):\n",
        "        self.d = 0.85 # damping coefficient, usually is .85\n",
        "        self.min_diff = 1e-5 # convergence threshold\n",
        "        self.steps = 10 # iteration steps\n",
        "        self.node_weight = None # save keywords and its weight\n",
        "        self.tokenizer = tokenizer\n",
        "        self.tokens = []\n",
        "    \n",
        "    def set_stopwords(self, stopwords):  \n",
        "        \"\"\"Set stop words\"\"\"\n",
        "        # for word in STOP_WORDS.union(set(stopwords)):\n",
        "        #     lexeme = nlp.vocab[word]\n",
        "        #     lexeme.is_stop = True\n",
        "        pass\n",
        "    \n",
        "    def sentence_segment(self, doc, candidate_pos, lower):\n",
        "        \"\"\"Store those words only in cadidate_pos\"\"\"\n",
        "        sentences = []\n",
        "        for sent in doc.sents:\n",
        "            selected_words = []\n",
        "            for token in sent:\n",
        "                # Store words only with cadidate POS tag\n",
        "                if token.pos_ in candidate_pos and token.is_stop is False:\n",
        "                    if lower is True:\n",
        "                        selected_words.append(token.text.lower())\n",
        "                    else:\n",
        "                        selected_words.append(token.text)\n",
        "            sentences.append(selected_words)\n",
        "        return sentences\n",
        "        \n",
        "    def get_vocab(self, sentences):\n",
        "        \"\"\"Get all tokens\"\"\"\n",
        "        vocab = OrderedDict()\n",
        "        i = 0\n",
        "        for sentence in sentences:\n",
        "            for word in sentence:\n",
        "                if word not in vocab:\n",
        "                    vocab[word] = i\n",
        "                    i += 1\n",
        "        return vocab\n",
        "    \n",
        "    def get_token_pairs(self, window_size, sentences):\n",
        "        \"\"\"Build token_pairs from windows in sentences\"\"\"\n",
        "        token_pairs = list()\n",
        "        for sentence in sentences:\n",
        "            for i, word in enumerate(sentence):\n",
        "                for j in range(i+1, i+window_size):\n",
        "                    if j >= len(sentence):\n",
        "                        break\n",
        "                    pair = (word, sentence[j])\n",
        "                    if pair not in token_pairs:\n",
        "                        token_pairs.append(pair)\n",
        "        return token_pairs\n",
        "        \n",
        "    def symmetrize(self, a):\n",
        "        return a + a.T - np.diag(a.diagonal())\n",
        "    \n",
        "    def get_matrix(self, vocab, token_pairs):\n",
        "        \"\"\"Get normalized matrix\"\"\"\n",
        "        # Build matrix\n",
        "        vocab_size = len(vocab)\n",
        "        g = np.zeros((vocab_size, vocab_size), dtype='float')\n",
        "        for word1, word2 in token_pairs:\n",
        "            i, j = vocab[word1], vocab[word2]\n",
        "            g[i][j] = 1\n",
        "            \n",
        "        # Get Symmeric matrix\n",
        "        g = self.symmetrize(g)\n",
        "        \n",
        "        # Normalize matrix by column\n",
        "        norm = np.sum(g, axis=0)\n",
        "        g_norm = np.divide(g, norm, where=norm!=0) # this is ignore the 0 element in norm\n",
        "        \n",
        "        return g_norm\n",
        "\n",
        "    \n",
        "    def get_keywords(self, number=10):\n",
        "        \"\"\"Print top number keywords\"\"\"\n",
        "        node_weight = OrderedDict(sorted(self.node_weight.items(), key=lambda t: t[1], reverse=True))\n",
        "        for i, (key, value) in enumerate(node_weight.items()):\n",
        "            print(key + ' - ' + str(value))\n",
        "            if i > number:\n",
        "                break\n",
        "        \n",
        "        \n",
        "    def analyze(self, text, \n",
        "                candidate_pos=['NOUN', 'PROPN'], \n",
        "                window_size=4, lower=False, stopwords=list()):\n",
        "        \"\"\"Main function to analyze text\"\"\"\n",
        "        \n",
        "        # Set stop words\n",
        "        self.set_stopwords(stopwords)\n",
        "        \n",
        "        # Pare text by spaCy\n",
        "        doc = self.tokenizer(text)\n",
        "        self.tokens = doc\n",
        "        \n",
        "        # Filter sentences\n",
        "        sentences = self.sentence_segment(doc, candidate_pos, lower) # list of list of words\n",
        "        \n",
        "        # Build vocabulary\n",
        "        vocab = self.get_vocab(sentences)\n",
        "        \n",
        "        # Get token_pairs from windows\n",
        "        token_pairs = self.get_token_pairs(window_size, sentences)\n",
        "        \n",
        "        # Get normalized matrix\n",
        "        g = self.get_matrix(vocab, token_pairs)\n",
        "        \n",
        "        # Initionlization for weight(pagerank value)\n",
        "        pr = np.array([1] * len(vocab))\n",
        "        \n",
        "        # Iteration\n",
        "        previous_pr = 0\n",
        "        for epoch in range(self.steps):\n",
        "            pr = (1-self.d) + self.d * np.dot(g, pr)\n",
        "            if abs(previous_pr - sum(pr))  < self.min_diff:\n",
        "                break\n",
        "            else:\n",
        "                previous_pr = sum(pr)\n",
        "\n",
        "        # Get weight for each node\n",
        "        node_weight = dict()\n",
        "        for word, index in vocab.items():\n",
        "            node_weight[word] = pr[index]\n",
        "        \n",
        "        self.node_weight = node_weight"
      ],
      "metadata": {
        "id": "CN8Ft8Bj2hpT"
      },
      "execution_count": 106,
      "outputs": []
    },
    {
      "cell_type": "code",
      "source": [
        "# example text\n",
        "paragraph = '''แนวโน้มของการใช้หุ่นยนต์ทางด้านการผลิตและงานบริการมีจำนวนสูงขึ้นมากกว่า 30% ทุกปี แต่ประเทศไทยยังขาดบุคลากรด้านวิทยาการหุ่นยนต์และระบบอัตโนมัติในทุกระดับ \n",
        "โดยเฉพาะอาชีพวิศวกร อาจารย์และนักวิจัย ฟีโบ้จึงได้รับการก่อตั้งขึ้น ในปี 2538 โดย รศ. ดร.ชิต เหล่าวัฒนา และฟีโบ้มีคติพจน์ว่า “A Cradle of Future Leaders in Robotics” \n",
        "ที่มุ่งสร้างผู้นำด้านวิทยาการหุ่นยนต์ของไทย\n",
        "ฟีโบ้เป็นสถาบันระดับคณะแห่งแรกและแห่งเดียวในไทยที่เปิดสอนและให้ปริญญาครบทั้งระดับปริญญาตรี ปริญญาโท และปริญญาเอก ในสาขาวิทยาการหุ่นยนต์และระบบอัตโนมัติ ทุกหลักสูตรเน้นหลัก \n",
        "Outcome-based Education ที่บัณฑิตสามารถใช้สมรรถนะที่เรียนในการพัฒนาเทคโนโลยีหุ่นยนต์ขึ้นได้ ทำให้บัณฑิตฟีโบ้เป็นที่ต้องการของภาคเอกชนและภาครัฐอย่างมาก\n",
        "นอกจากนี้ฟีโบ้มีผลงานวิจัย/พัฒนาและให้บริการวิชาการด้านหุ่นยนต์เพื่อการผลิตและเพื่อพัฒนาคุณภาพชีวิตมากกว่า 300 ระบบ โดยมีความร่วมมือที่แข็งแกร่งกับภาครัฐและภาคธุรกิจอุตสาหกรรมชั้นนำ \n",
        "ทั้งกลุ่มปิโตรเลียม อาหาร ฮาร์ดดิสก์ การผลิตไฟฟ้า การขนส่ง ธุรกิจบริการ การศึกษา การแพทย์และการฟื้นฟูสมรรถภาพ\n",
        "ปัจจุบัน ฟีโบ้ โดยการนำของ รศ. ดร.สยาม เจริญเสียง ผู้อำนวยการสถาบันฯ มุ่งมั่นเพื่อยกระดับฟีโบ้เข้าสู่สถาบันชั้นนำระดับอาเซียนทางด้านวิทยาการหุ่นยนต์ \n",
        "รวมทั้งสร้างเครือข่ายพัฒนาหลักสูตรด้านหุ่นยนต์ ครูและนักเรียนของโรงเรียนทั่วประเทศมากกว่า 100 โรงเรียน'''\n",
        "\n",
        "tr4w = TextRank4Keyword( tokenizer=tokenizer )\n",
        "tr4w.analyze(paragraph, window_size=4, lower=False)\n",
        "tr4w.get_keywords(10)"
      ],
      "metadata": {
        "colab": {
          "base_uri": "https://localhost:8080/"
        },
        "id": "HkTgHZnjxerZ",
        "outputId": "66eafd37-b7a3-4d3d-8445-46975d8006bc"
      },
      "execution_count": 107,
      "outputs": [
        {
          "output_type": "stream",
          "name": "stdout",
          "text": [
            "หุ่นยนต์ - 3.8208226410979584\n",
            "ฟี - 3.2010214282201805\n",
            "โบ้ - 3.0128038212930957\n",
            "ระดับ - 2.1845160081093384\n",
            "วิทยาการ - 1.9744561722570322\n",
            "ไทย - 1.8902690409696246\n",
            "ระบบ - 1.5975011946998237\n",
            "สถาบัน - 1.5255719750453376\n",
            "การผลิต - 1.4459418582161931\n",
            "ธุรกิจ - 1.4314885609776313\n",
            "ชั้นนำ - 1.3453801323545687\n",
            "บัณฑิต - 1.3289964457387926\n"
          ]
        }
      ]
    },
    {
      "cell_type": "code",
      "source": [
        "len(tr4w.tokens), tr4w.tokens[0]"
      ],
      "metadata": {
        "colab": {
          "base_uri": "https://localhost:8080/"
        },
        "id": "JXDNxro-NjRV",
        "outputId": "eefe3593-d46c-406d-a36e-6837921b3d93"
      },
      "execution_count": 113,
      "outputs": [
        {
          "output_type": "execute_result",
          "data": {
            "text/plain": [
              "(234, แนวโน้ม)"
            ]
          },
          "metadata": {},
          "execution_count": 113
        }
      ]
    },
    {
      "cell_type": "code",
      "source": [
        "len(tr4w.node_weight), tr4w.node_weight"
      ],
      "metadata": {
        "colab": {
          "base_uri": "https://localhost:8080/"
        },
        "id": "7j_fYhdtL27h",
        "outputId": "818e260e-62db-45b6-a962-d506cb2beab7"
      },
      "execution_count": 114,
      "outputs": [
        {
          "output_type": "execute_result",
          "data": {
            "text/plain": [
              "(78,\n",
              " {'แนวโน้ม': 0.5151560838054188,\n",
              "  'หุ่นยนต์': 3.8208226410979584,\n",
              "  'การผลิต': 1.4459418582161931,\n",
              "  'งาน': 0.8537608817852167,\n",
              "  'จำนวน': 0.8771629950228563,\n",
              "  '%': 0.8514785999020578,\n",
              "  'ทุกปี': 0.7997866474831316,\n",
              "  'ประเทศ': 0.7696493424149055,\n",
              "  'ไทย': 1.8902690409696246,\n",
              "  'บุคลากร': 0.7672077277443364,\n",
              "  'วิทยาการ': 1.9744561722570322,\n",
              "  'ระบบ': 1.5975011946998237,\n",
              "  'ระดับ': 2.1845160081093384,\n",
              "  'อาชีพ': 0.7400156816748369,\n",
              "  'วิศวกร': 0.7369885981671944,\n",
              "  'อาจารย์': 0.7324480662206776,\n",
              "  'นักวิจัย': 0.7280913862541138,\n",
              "  'ฟี': 3.2010214282201805,\n",
              "  'โบ้': 3.0128038212930957,\n",
              "  'ปี': 0.7628582280592622,\n",
              "  'รศ.': 1.071189796431153,\n",
              "  'ดร.': 1.190692022997896,\n",
              "  'ชิต': 0.7481406354666695,\n",
              "  'วัฒนา': 0.7628582280592622,\n",
              "  'คติพจน์': 0.8129225541155237,\n",
              "  '“': 0.8602456370958648,\n",
              "  'Cradle': 0.8873064516129031,\n",
              "  'of': 0.9186039833822092,\n",
              "  'Future': 0.9374777486237588,\n",
              "  'Leaders': 0.9396269768282713,\n",
              "  'in': 0.9119761208576997,\n",
              "  'Robotics': 0.8760612484494064,\n",
              "  '”': 0.8520275174400104,\n",
              "  'ผู้นำ': 0.8023093913098157,\n",
              "  'สถาบัน': 1.5255719750453376,\n",
              "  'คณะ': 0.6723330338463782,\n",
              "  'ปริญญา': 0.694675993722445,\n",
              "  'ปริญญาตรี': 0.7208904974376337,\n",
              "  'ปริญญาโท': 0.7346937511595348,\n",
              "  'ปริญญาเอก': 0.7532315689716876,\n",
              "  'สาขา': 0.7694409721626756,\n",
              "  'หลักสูตร': 0.7746291393824112,\n",
              "  'Outcome-based': 0.7837847525314454,\n",
              "  'Education': 0.7710245020593598,\n",
              "  'บัณฑิต': 1.3289964457387926,\n",
              "  'สมรรถนะ': 0.7730659859179418,\n",
              "  'การพัฒนา': 0.7866116203536972,\n",
              "  'เทคโนโลยี': 0.7816271947255476,\n",
              "  'เป็นที่ต้องการ': 0.7039433588827254,\n",
              "  'ภาคเอกชน': 0.69790111860359,\n",
              "  'ภาครัฐ': 1.2629194104119343,\n",
              "  'ผลงานวิจัย': 0.7170294565915193,\n",
              "  'วิชาการ': 0.7313135532170845,\n",
              "  'คุณภาพชีวิต': 0.6997951549069262,\n",
              "  'ความร่วมมือ': 0.7692203612716487,\n",
              "  'ธุรกิจ': 1.4314885609776313,\n",
              "  'อุตสาหกรรม': 0.763350480969857,\n",
              "  'ชั้นนำ': 1.3453801323545687,\n",
              "  'ปิโตรเลียม': 0.8298844225360565,\n",
              "  'อาหาร': 0.8319342962734303,\n",
              "  'ฮาร์ดดิสก์': 0.8428812659704,\n",
              "  'ไฟฟ้า': 0.8715233585858585,\n",
              "  'การขนส่ง': 0.8480403429455848,\n",
              "  'การศึกษา': 0.8016821188488787,\n",
              "  'การแพทย์': 0.7895417840492697,\n",
              "  'การฟื้นฟูสมรรถภาพ': 0.7613758980386257,\n",
              "  'การนำ': 0.7854289962247883,\n",
              "  'สยาม': 0.8111367302052787,\n",
              "  'เจริญ': 0.8111111111111112,\n",
              "  'เสียง': 0.781904651352232,\n",
              "  'ผู้อำนวยการ': 0.7788932421789537,\n",
              "  'มุ่งมั่น': 0.741723860186991,\n",
              "  'อาเซียน': 0.6963422384851584,\n",
              "  'เครือข่าย': 0.8037860334623351,\n",
              "  'ครู': 0.8135002845851459,\n",
              "  'นักเรียน': 0.8135002845851459,\n",
              "  'โรงเรียน': 1.0180255282498634,\n",
              "  'ทั่วประเทศ': 0.7414898148148148})"
            ]
          },
          "metadata": {},
          "execution_count": 114
        }
      ]
    }
  ]
}