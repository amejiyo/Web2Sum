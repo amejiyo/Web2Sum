{
 "cells": [
  {
   "cell_type": "code",
   "execution_count": 1,
   "metadata": {},
   "outputs": [],
   "source": [
    "from pyserver.model.TFIDF_TextRank.textRank import TextRank\n",
    "from pyserver.webScrap import webScrap\n",
    "from IPython.core.display import display, HTML\n",
    "import warnings\n",
    "warnings.simplefilter(\"ignore\", UserWarning)"
   ]
  },
  {
   "cell_type": "code",
   "execution_count": 2,
   "metadata": {},
   "outputs": [],
   "source": [
    "paragraph = '''แนวโน้มของการใช้หุ่นยนต์ทางด้านการผลิตและงานบริการมีจำนวนสูงขึ้นมากกว่า 30% ทุกปี แต่ประเทศไทยยังขาดบุคลากรด้านวิทยาการหุ่นยนต์และระบบอัตโนมัติในทุกระดับ \n",
    "โดยเฉพาะอาชีพวิศวกร อาจารย์และนักวิจัย ฟีโบ้จึงได้รับการก่อตั้งขึ้น ในปี 2538 โดย รศ. ดร.ชิต เหล่าวัฒนา และฟีโบ้มีคติพจน์ว่า “A Cradle of Future Leaders in Robotics” \n",
    "ที่มุ่งสร้างผู้นำด้านวิทยาการหุ่นยนต์ของไทย\n",
    "\n",
    "ฟีโบ้เป็นสถาบันระดับคณะแห่งแรกและแห่งเดียวในไทยที่เปิดสอนและให้ปริญญาครบทั้งระดับปริญญาตรี ปริญญาโท และปริญญาเอก ในสาขาวิทยาการหุ่นยนต์และระบบอัตโนมัติ ทุกหลักสูตรเน้นหลัก \n",
    "Outcome-based Education ที่บัณฑิตสามารถใช้สมรรถนะที่เรียนในการพัฒนาเทคโนโลยีหุ่นยนต์ขึ้นได้ ทำให้บัณฑิตฟีโบ้เป็นที่ต้องการของภาคเอกชนและภาครัฐอย่างมาก\n",
    "\n",
    "นอกจากนี้ฟีโบ้มีผลงานวิจัย/พัฒนาและให้บริการวิชาการด้านหุ่นยนต์เพื่อการผลิตและเพื่อพัฒนาคุณภาพชีวิตมากกว่า 300 ระบบ โดยมีความร่วมมือที่แข็งแกร่งกับภาครัฐและภาคธุรกิจอุตสาหกรรมชั้นนำ \n",
    "ทั้งกลุ่มปิโตรเลียม อาหาร ฮาร์ดดิสก์ การผลิตไฟฟ้า การขนส่ง ธุรกิจบริการ การศึกษา การแพทย์และการฟื้นฟูสมรรถภาพ\n",
    "\n",
    "ปัจจุบัน ฟีโบ้ โดยการนำของ รศ. ดร.สยาม เจริญเสียง ผู้อำนวยการสถาบันฯ มุ่งมั่นเพื่อยกระดับฟีโบ้เข้าสู่สถาบันชั้นนำระดับอาเซียนทางด้านวิทยาการหุ่นยนต์ \n",
    "รวมทั้งสร้างเครือข่ายพัฒนาหลักสูตรด้านหุ่นยนต์ ครูและนักเรียนของโรงเรียนทั่วประเทศมากกว่า 100 โรงเรียน'''"
   ]
  },
  {
   "cell_type": "code",
   "execution_count": 3,
   "metadata": {},
   "outputs": [],
   "source": [
    "# paragraph = webScrap(\"https://www.thairath.co.th/news/local/northeast/2695085\")\n",
    "# display(HTML(paragraph))"
   ]
  },
  {
   "cell_type": "code",
   "execution_count": 4,
   "metadata": {},
   "outputs": [],
   "source": [
    "textrank = TextRank()"
   ]
  },
  {
   "cell_type": "code",
   "execution_count": 6,
   "metadata": {},
   "outputs": [
    {
     "data": {
      "text/html": [
       "<span style=\"background-color:rgba(251,155,59,0.10786286246615887);\">แนวโน้ม</span><span style=\"background-color:rgba(251,155,59,0.0);\">ของ</span><span style=\"background-color:rgba(251,155,59,0.0);\">การ</span><span style=\"background-color:rgba(251,155,59,0.0);\">ใช้</span><span style=\"background-color:rgba(251,155,59,0.8);\">หุ่นยนต์</span><span style=\"background-color:rgba(251,155,59,0.0);\">ทาง</span><span style=\"background-color:rgba(251,155,59,0.0);\">ด้าน</span><span style=\"background-color:rgba(251,155,59,0.3027498513358232);\">การผลิต</span><span style=\"background-color:rgba(251,155,59,0.0);\">และ</span><span style=\"background-color:rgba(251,155,59,0.17875959435581198);\">งาน</span><span style=\"background-color:rgba(251,155,59,0.0);\">บริการ</span><span style=\"background-color:rgba(251,155,59,0.0);\">มี</span><span style=\"background-color:rgba(251,155,59,0.1836595052778044);\">จำนวน</span><span style=\"background-color:rgba(251,155,59,0.0);\">สูง</span><span style=\"background-color:rgba(251,155,59,0.0);\">ขึ้น</span><span style=\"background-color:rgba(251,155,59,0.0);\">มากกว่า</span><span style=\"background-color:rgba(251,155,59,0.0);\">30</span><span style=\"background-color:rgba(251,155,59,0.1782817324715968);\">%</span><span style=\"background-color:rgba(251,155,59,0.1674585234876651);\">ทุกปี</span><span style=\"background-color:rgba(251,155,59,0.0);\">แต่</span><span style=\"background-color:rgba(251,155,59,0.16114840487727794);\">ประเทศ</span><span style=\"background-color:rgba(251,155,59,0.3957826297692652);\">ไทย</span><span style=\"background-color:rgba(251,155,59,0.0);\">ยัง</span><span style=\"background-color:rgba(251,155,59,0.0);\">ขาด</span><span style=\"background-color:rgba(251,155,59,0.16063718205435887);\">บุคลากร</span><span style=\"background-color:rgba(251,155,59,0.0);\">ด้าน</span><span style=\"background-color:rgba(251,155,59,0.4134096466073386);\">วิทยาการ</span><span style=\"background-color:rgba(251,155,59,0.8);\">หุ่นยนต์</span><span style=\"background-color:rgba(251,155,59,0.0);\">และ</span><span style=\"background-color:rgba(251,155,59,0.33448319270653454);\">ระบบ</span><span style=\"background-color:rgba(251,155,59,0.0);\">อัตโนมัติ</span><span style=\"background-color:rgba(251,155,59,0.0);\">ใน</span><span style=\"background-color:rgba(251,155,59,0.0);\">ทุก</span><span style=\"background-color:rgba(251,155,59,0.4573917636714153);\">ระดับ</span><span style=\"background-color:rgba(251,155,59,0.0);\">โดยเฉพาะ</span><span style=\"background-color:rgba(251,155,59,0.15494373880954276);\">อาชีพ</span><span style=\"background-color:rgba(251,155,59,0.15430993111062846);\">วิศวกร</span><span style=\"background-color:rgba(251,155,59,0.1533592391004467);\">อาจารย์</span><span style=\"background-color:rgba(251,155,59,0.0);\">และ</span><span style=\"background-color:rgba(251,155,59,0.1524470418328317);\">นักวิจัย</span><span style=\"background-color:rgba(251,155,59,0.6702266457048274);\">ฟี</span><span style=\"background-color:rgba(251,155,59,0.6308178325549978);\">โบ้</span><span style=\"background-color:rgba(251,155,59,0.0);\">จึง</span><span style=\"background-color:rgba(251,155,59,0.0);\">ได้รับ</span><span style=\"background-color:rgba(251,155,59,0.0);\">การ</span><span style=\"background-color:rgba(251,155,59,0.0);\">ก่อ</span><span style=\"background-color:rgba(251,155,59,0.0);\">ตั้งขึ้น</span><span style=\"background-color:rgba(251,155,59,0.0);\">ใน</span><span style=\"background-color:rgba(251,155,59,0.1597264881868572);\">ปี</span><span style=\"background-color:rgba(251,155,59,0.0);\">2538</span><span style=\"background-color:rgba(251,155,59,0.0);\">โดย</span><span style=\"background-color:rgba(251,155,59,0.2242846417227749);\">รศ.</span><span style=\"background-color:rgba(251,155,59,0.24930589767563482);\">ดร.</span><span style=\"background-color:rgba(251,155,59,0.15664493345897518);\">ชิต</span><span style=\"background-color:rgba(251,155,59,0.0);\">เหล่า</span><span style=\"background-color:rgba(251,155,59,0.1597264881868572);\">วัฒนา</span><span style=\"background-color:rgba(251,155,59,0.0);\">และ</span><span style=\"background-color:rgba(251,155,59,0.6702266457048274);\">ฟี</span><span style=\"background-color:rgba(251,155,59,0.6308178325549978);\">โบ้</span><span style=\"background-color:rgba(251,155,59,0.0);\">มี</span><span style=\"background-color:rgba(251,155,59,0.17020890640072647);\">คติพจน์</span><span style=\"background-color:rgba(251,155,59,0.0);\">ว่า</span><span style=\"background-color:rgba(251,155,59,0.18011736589765662);\">“</span><span style=\"background-color:rgba(251,155,59,0.0);\">A</span><span style=\"background-color:rgba(251,155,59,0.1857833320120664);\">Cradle</span><span style=\"background-color:rgba(251,155,59,0.19233637772168086);\">of</span><span style=\"background-color:rgba(251,155,59,0.19628814769677208);\">Future</span><span style=\"background-color:rgba(251,155,59,0.19673815093563374);\">Leaders</span><span style=\"background-color:rgba(251,155,59,0.19094864253539545);\">in</span><span style=\"background-color:rgba(251,155,59,0.18342882268885627);\">Robotics</span><span style=\"background-color:rgba(251,155,59,0.1783966642733608);\">”</span><span style=\"background-color:rgba(251,155,59,0.0);\">ที่</span><span style=\"background-color:rgba(251,155,59,0.0);\">มุ่ง</span><span style=\"background-color:rgba(251,155,59,0.0);\">สร้าง</span><span style=\"background-color:rgba(251,155,59,0.16798673305165768);\">ผู้นำ</span><span style=\"background-color:rgba(251,155,59,0.0);\">ด้าน</span><span style=\"background-color:rgba(251,155,59,0.4134096466073386);\">วิทยาการ</span><span style=\"background-color:rgba(251,155,59,0.8);\">หุ่นยนต์</span><span style=\"background-color:rgba(251,155,59,0.0);\">ของ</span><span style=\"background-color:rgba(251,155,59,0.3957826297692652);\">ไทย</span><span style=\"background-color:rgba(251,155,59,0.6702266457048274);\">ฟี</span><span style=\"background-color:rgba(251,155,59,0.6308178325549978);\">โบ้</span><span style=\"background-color:rgba(251,155,59,0.0);\">เป็น</span><span style=\"background-color:rgba(251,155,59,0.31942272507199054);\">สถาบัน</span><span style=\"background-color:rgba(251,155,59,0.4573917636714153);\">ระดับ</span><span style=\"background-color:rgba(251,155,59,0.14077241411094135);\">คณะ</span><span style=\"background-color:rgba(251,155,59,0.0);\">แห่ง</span><span style=\"background-color:rgba(251,155,59,0.0);\">แรก</span><span style=\"background-color:rgba(251,155,59,0.0);\">และ</span><span style=\"background-color:rgba(251,155,59,0.0);\">แห่ง</span><span style=\"background-color:rgba(251,155,59,0.0);\">เดียว</span><span style=\"background-color:rgba(251,155,59,0.0);\">ใน</span><span style=\"background-color:rgba(251,155,59,0.3957826297692652);\">ไทย</span><span style=\"background-color:rgba(251,155,59,0.0);\">ที่</span><span style=\"background-color:rgba(251,155,59,0.0);\">เปิด</span><span style=\"background-color:rgba(251,155,59,0.0);\">สอน</span><span style=\"background-color:rgba(251,155,59,0.0);\">และ</span><span style=\"background-color:rgba(251,155,59,0.0);\">ให้</span><span style=\"background-color:rgba(251,155,59,0.1454505605678303);\">ปริญญา</span><span style=\"background-color:rgba(251,155,59,0.0);\">ครบ</span><span style=\"background-color:rgba(251,155,59,0.0);\">ทั้ง</span><span style=\"background-color:rgba(251,155,59,0.4573917636714153);\">ระดับ</span><span style=\"background-color:rgba(251,155,59,0.15093932697812473);\">ปริญญาตรี</span><span style=\"background-color:rgba(251,155,59,0.1538294383532886);\">ปริญญาโท</span><span style=\"background-color:rgba(251,155,59,0.0);\">และ</span><span style=\"background-color:rgba(251,155,59,0.1577108679936502);\">ปริญญาเอก</span><span style=\"background-color:rgba(251,155,59,0.0);\">ใน</span><span style=\"background-color:rgba(251,155,59,0.16110477652353264);\">สาขา</span><span style=\"background-color:rgba(251,155,59,0.4134096466073386);\">วิทยาการ</span><span style=\"background-color:rgba(251,155,59,0.8);\">หุ่นยนต์</span><span style=\"background-color:rgba(251,155,59,0.0);\">และ</span><span style=\"background-color:rgba(251,155,59,0.33448319270653454);\">ระบบ</span><span style=\"background-color:rgba(251,155,59,0.0);\">อัตโนมัติ</span><span style=\"background-color:rgba(251,155,59,0.0);\">ทุก</span><span style=\"background-color:rgba(251,155,59,0.16219106975555656);\">หลักสูตร</span><span style=\"background-color:rgba(251,155,59,0.0);\">เน้น</span><span style=\"background-color:rgba(251,155,59,0.0);\">หลัก</span><span style=\"background-color:rgba(251,155,59,0.16410806282412843);\">Outcome-based</span><span style=\"background-color:rgba(251,155,59,0.1614363344199189);\">Education</span><span style=\"background-color:rgba(251,155,59,0.0);\">ที่</span><span style=\"background-color:rgba(251,155,59,0.278263938544269);\">บัณฑิต</span><span style=\"background-color:rgba(251,155,59,0.0);\">สามารถ</span><span style=\"background-color:rgba(251,155,59,0.0);\">ใช้</span><span style=\"background-color:rgba(251,155,59,0.16186377825604426);\">สมรรถนะ</span><span style=\"background-color:rgba(251,155,59,0.0);\">ที่</span><span style=\"background-color:rgba(251,155,59,0.0);\">เรียน</span><span style=\"background-color:rgba(251,155,59,0.0);\">ใน</span><span style=\"background-color:rgba(251,155,59,0.16469994956429698);\">การพัฒนา</span><span style=\"background-color:rgba(251,155,59,0.1636563155417102);\">เทคโนโลยี</span><span style=\"background-color:rgba(251,155,59,0.8);\">หุ่นยนต์</span><span style=\"background-color:rgba(251,155,59,0.0);\">ขึ้น</span><span style=\"background-color:rgba(251,155,59,0.0);\">ได้</span><span style=\"background-color:rgba(251,155,59,0.0);\">ทำให้</span><span style=\"background-color:rgba(251,155,59,0.278263938544269);\">บัณฑิต</span><span style=\"background-color:rgba(251,155,59,0.6702266457048274);\">ฟี</span><span style=\"background-color:rgba(251,155,59,0.6308178325549978);\">โบ้</span><span style=\"background-color:rgba(251,155,59,0.14739095216006967);\">เป็นที่ต้องการ</span><span style=\"background-color:rgba(251,155,59,0.0);\">ของ</span><span style=\"background-color:rgba(251,155,59,0.1461258339702551);\">ภาคเอกชน</span><span style=\"background-color:rgba(251,155,59,0.0);\">และ</span><span style=\"background-color:rgba(251,155,59,0.26442879537565117);\">ภาครัฐ</span><span style=\"background-color:rgba(251,155,59,0.0);\">อย่าง</span><span style=\"background-color:rgba(251,155,59,0.0);\">มาก</span><span style=\"background-color:rgba(251,155,59,0.0);\">นอกจากนี้</span><span style=\"background-color:rgba(251,155,59,0.6702266457048274);\">ฟี</span><span style=\"background-color:rgba(251,155,59,0.6308178325549978);\">โบ้</span><span style=\"background-color:rgba(251,155,59,0.0);\">มี</span><span style=\"background-color:rgba(251,155,59,0.1501309061308268);\">ผลงานวิจัย</span><span style=\"background-color:rgba(251,155,59,0.0);\">/</span><span style=\"background-color:rgba(251,155,59,0.0);\">พัฒนา</span><span style=\"background-color:rgba(251,155,59,0.0);\">และ</span><span style=\"background-color:rgba(251,155,59,0.0);\">ให้บริการ</span><span style=\"background-color:rgba(251,155,59,0.15312169590932548);\">วิชาการ</span><span style=\"background-color:rgba(251,155,59,0.0);\">ด้าน</span><span style=\"background-color:rgba(251,155,59,0.8);\">หุ่นยนต์</span><span style=\"background-color:rgba(251,155,59,0.0);\">เพื่อ</span><span style=\"background-color:rgba(251,155,59,0.3027498513358232);\">การผลิต</span><span style=\"background-color:rgba(251,155,59,0.0);\">และ</span><span style=\"background-color:rgba(251,155,59,0.0);\">เพื่อ</span><span style=\"background-color:rgba(251,155,59,0.0);\">พัฒนา</span><span style=\"background-color:rgba(251,155,59,0.146522405385628);\">คุณภาพชีวิต</span><span style=\"background-color:rgba(251,155,59,0.0);\">มากกว่า</span><span style=\"background-color:rgba(251,155,59,0.0);\">300</span><span style=\"background-color:rgba(251,155,59,0.33448319270653454);\">ระบบ</span><span style=\"background-color:rgba(251,155,59,0.0);\">โดย</span><span style=\"background-color:rgba(251,155,59,0.0);\">มี</span><span style=\"background-color:rgba(251,155,59,0.1610585852371528);\">ความร่วมมือ</span><span style=\"background-color:rgba(251,155,59,0.0);\">ที่</span><span style=\"background-color:rgba(251,155,59,0.0);\">แข็งแกร่ง</span><span style=\"background-color:rgba(251,155,59,0.0);\">กับ</span><span style=\"background-color:rgba(251,155,59,0.26442879537565117);\">ภาครัฐ</span><span style=\"background-color:rgba(251,155,59,0.0);\">และ</span><span style=\"background-color:rgba(251,155,59,0.0);\">ภาค</span><span style=\"background-color:rgba(251,155,59,0.29972363450322853);\">ธุรกิจ</span><span style=\"background-color:rgba(251,155,59,0.1598295556059622);\">อุตสาหกรรม</span><span style=\"background-color:rgba(251,155,59,0.281694338362266);\">ชั้นนำ</span><span style=\"background-color:rgba(251,155,59,0.0);\">ทั้ง</span><span style=\"background-color:rgba(251,155,59,0.0);\">กลุ่ม</span><span style=\"background-color:rgba(251,155,59,0.17376036534322448);\">ปิโตรเลียม</span><span style=\"background-color:rgba(251,155,59,0.1741895658437292);\">อาหาร</span><span style=\"background-color:rgba(251,155,59,0.17648163134380673);\">ฮาร์ดดิสก์</span><span style=\"background-color:rgba(251,155,59,0.3027498513358232);\">การผลิต</span><span style=\"background-color:rgba(251,155,59,0.18247868387534802);\">ไฟฟ้า</span><span style=\"background-color:rgba(251,155,59,0.1775618336896978);\">การขนส่ง</span><span style=\"background-color:rgba(251,155,59,0.29972363450322853);\">ธุรกิจ</span><span style=\"background-color:rgba(251,155,59,0.0);\">บริการ</span><span style=\"background-color:rgba(251,155,59,0.16785539537496164);\">การศึกษา</span><span style=\"background-color:rgba(251,155,59,0.16531346429048283);\">การแพทย์</span><span style=\"background-color:rgba(251,155,59,0.0);\">และ</span><span style=\"background-color:rgba(251,155,59,0.15941611941868838);\">การฟื้นฟูสมรรถภาพ</span><span style=\"background-color:rgba(251,155,59,0.0);\">ปัจจุบัน</span><span style=\"background-color:rgba(251,155,59,0.6702266457048274);\">ฟี</span><span style=\"background-color:rgba(251,155,59,0.6308178325549978);\">โบ้</span><span style=\"background-color:rgba(251,155,59,0.0);\">โดย</span><span style=\"background-color:rgba(251,155,59,0.1644523329141676);\">การนำ</span><span style=\"background-color:rgba(251,155,59,0.0);\">ของ</span><span style=\"background-color:rgba(251,155,59,0.2242846417227749);\">รศ.</span><span style=\"background-color:rgba(251,155,59,0.24930589767563482);\">ดร.</span><span style=\"background-color:rgba(251,155,59,0.16983499238733335);\">สยาม</span><span style=\"background-color:rgba(251,155,59,0.16982962828717504);\">เจริญ</span><span style=\"background-color:rgba(251,155,59,0.1637144091310226);\">เสียง</span><span style=\"background-color:rgba(251,155,59,0.16308388330846563);\">ผู้อำนวยการ</span><span style=\"background-color:rgba(251,155,59,0.31942272507199054);\">สถาบัน</span><span style=\"background-color:rgba(251,155,59,0.0);\">ฯ</span><span style=\"background-color:rgba(251,155,59,0.15530139550761202);\">มุ่งมั่น</span><span style=\"background-color:rgba(251,155,59,0.0);\">เพื่อ</span><span style=\"background-color:rgba(251,155,59,0.0);\">ยกระดับ</span><span style=\"background-color:rgba(251,155,59,0.6702266457048274);\">ฟี</span><span style=\"background-color:rgba(251,155,59,0.6308178325549978);\">โบ้</span><span style=\"background-color:rgba(251,155,59,0.0);\">เข้าสู่</span><span style=\"background-color:rgba(251,155,59,0.31942272507199054);\">สถาบัน</span><span style=\"background-color:rgba(251,155,59,0.281694338362266);\">ชั้นนำ</span><span style=\"background-color:rgba(251,155,59,0.4573917636714153);\">ระดับ</span><span style=\"background-color:rgba(251,155,59,0.14579943721963629);\">อาเซียน</span><span style=\"background-color:rgba(251,155,59,0.0);\">ทาง</span><span style=\"background-color:rgba(251,155,59,0.0);\">ด้าน</span><span style=\"background-color:rgba(251,155,59,0.4134096466073386);\">วิทยาการ</span><span style=\"background-color:rgba(251,155,59,0.8);\">หุ่นยนต์</span><span style=\"background-color:rgba(251,155,59,0.0);\">รวมทั้ง</span><span style=\"background-color:rgba(251,155,59,0.0);\">สร้าง</span><span style=\"background-color:rgba(251,155,59,0.16829591089972343);\">เครือข่าย</span><span style=\"background-color:rgba(251,155,59,0.0);\">พัฒนา</span><span style=\"background-color:rgba(251,155,59,0.16219106975555656);\">หลักสูตร</span><span style=\"background-color:rgba(251,155,59,0.0);\">ด้าน</span><span style=\"background-color:rgba(251,155,59,0.8);\">หุ่นยนต์</span><span style=\"background-color:rgba(251,155,59,0.17032987102513125);\">ครู</span><span style=\"background-color:rgba(251,155,59,0.0);\">และ</span><span style=\"background-color:rgba(251,155,59,0.17032987102513125);\">นักเรียน</span><span style=\"background-color:rgba(251,155,59,0.0);\">ของ</span><span style=\"background-color:rgba(251,155,59,0.21315316074599508);\">โรงเรียน</span><span style=\"background-color:rgba(251,155,59,0.15525239132308719);\">ทั่วประเทศ</span><span style=\"background-color:rgba(251,155,59,0.0);\">มากกว่า</span><span style=\"background-color:rgba(251,155,59,0.0);\">100</span><span style=\"background-color:rgba(251,155,59,0.21315316074599508);\">โรงเรียน</span>"
      ],
      "text/plain": [
       "<IPython.core.display.HTML object>"
      ]
     },
     "metadata": {},
     "output_type": "display_data"
    }
   ],
   "source": [
    "textrank.tokenize(paragraph)\n",
    "status, output_text, highlighted_text, len = textrank.summarize( window_size=4 )"
   ]
  },
  {
   "cell_type": "code",
   "execution_count": null,
   "metadata": {},
   "outputs": [
    {
     "data": {
      "text/html": [
       "เล็งขยายพันธุ์เพิ่มให้ชาวบ้านเลี้ยงเมื่อวันที่ 18 พ.ค. 2566 รศ.ดร.บังอร กองอิ้ม ภาควิชาชีววิทยา คณะวิทยาศาสตร์ มหาวิทยาลัยมหาสารคาม ทุนอุดหนุนการวิจัยจากมหาวิทยาลัยมหาสารคาม กล่าวว่า หอยกาบน้ำจืดขนาดใหญ่ชนิดใหม่ของโลกนี้มีความยาวของเปลือกถึง 21 เซนติเมตร เป็นหอยกาบน้ำจืดสกุลที่มีขนาดใหญ่ที่สุดในบรรดาหอยกาบน้ำจืดด้วยกัน"
      ],
      "text/plain": [
       "<IPython.core.display.HTML object>"
      ]
     },
     "metadata": {},
     "output_type": "display_data"
    }
   ],
   "source": [
    "display(HTML(output_text))"
   ]
  },
  {
   "cell_type": "code",
   "execution_count": null,
   "metadata": {},
   "outputs": [
    {
     "name": "stdout",
     "output_type": "stream",
     "text": [
      "status:           200\n",
      "tokens:           364\n",
      "word_weight:      97\n"
     ]
    }
   ],
   "source": [
    "print(\"status:          \", status)\n",
    "print(\"tokens:          \", len(textrank.tokens))\n",
    "print(\"word_weight:     \", len(textrank.node_weight))"
   ]
  }
 ],
 "metadata": {
  "kernelspec": {
   "display_name": "Python 3",
   "language": "python",
   "name": "python3"
  },
  "language_info": {
   "codemirror_mode": {
    "name": "ipython",
    "version": 3
   },
   "file_extension": ".py",
   "mimetype": "text/x-python",
   "name": "python",
   "nbconvert_exporter": "python",
   "pygments_lexer": "ipython3",
   "version": "3.10.10"
  },
  "orig_nbformat": 4
 },
 "nbformat": 4,
 "nbformat_minor": 2
}
