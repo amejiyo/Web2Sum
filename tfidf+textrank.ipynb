{
  "nbformat": 4,
  "nbformat_minor": 0,
  "metadata": {
    "colab": {
      "provenance": [],
      "authorship_tag": "ABX9TyO7Y2uOwiT0ItsV95kfKsOV",
      "include_colab_link": true
    },
    "kernelspec": {
      "name": "python3",
      "display_name": "Python 3"
    },
    "language_info": {
      "name": "python"
    }
  },
  "cells": [
    {
      "cell_type": "markdown",
      "metadata": {
        "id": "view-in-github",
        "colab_type": "text"
      },
      "source": [
        "<a href=\"https://colab.research.google.com/github/amejiyo/WebSum/blob/main/tfidf%2Btextrank.ipynb\" target=\"_parent\"><img src=\"https://colab.research.google.com/assets/colab-badge.svg\" alt=\"Open In Colab\"/></a>"
      ]
    },
    {
      "cell_type": "markdown",
      "source": [
        "### **Thai sentence segmentation**\n",
        "\n",
        "💡 [thai-segmenter](https://pypi.org/project/thai-segmenter/)"
      ],
      "metadata": {
        "id": "SxxgwcDa8ef_"
      }
    },
    {
      "cell_type": "code",
      "source": [
        "!pip install thai-segmenter\n",
        "# https://pypi.org/project/thai-segmenter/"
      ],
      "metadata": {
        "id": "OAD5tYEE8hp6"
      },
      "execution_count": null,
      "outputs": []
    },
    {
      "cell_type": "code",
      "source": [
        "from thai_segmenter import sentence_segment"
      ],
      "metadata": {
        "id": "WxFL21ya8pw_"
      },
      "execution_count": 162,
      "outputs": []
    },
    {
      "cell_type": "code",
      "source": [
        "paragraph = '''แนวโน้มของการใช้หุ่นยนต์ทางด้านการผลิตและงานบริการมีจำนวนสูงขึ้นมากกว่า 30% ทุกปี แต่ประเทศไทยยังขาดบุคลากรด้านวิทยาการหุ่นยนต์และระบบอัตโนมัติในทุกระดับ \n",
        "โดยเฉพาะอาชีพวิศวกร อาจารย์และนักวิจัย ฟีโบ้จึงได้รับการก่อตั้งขึ้น ในปี 2538 โดย รศ. ดร.ชิต เหล่าวัฒนา และฟีโบ้มีคติพจน์ว่า “A Cradle of Future Leaders in Robotics” \n",
        "ที่มุ่งสร้างผู้นำด้านวิทยาการหุ่นยนต์ของไทย\n",
        "ฟีโบ้เป็นสถาบันระดับคณะแห่งแรกและแห่งเดียวในไทยที่เปิดสอนและให้ปริญญาครบทั้งระดับปริญญาตรี ปริญญาโท และปริญญาเอก ในสาขาวิทยาการหุ่นยนต์และระบบอัตโนมัติ ทุกหลักสูตรเน้นหลัก \n",
        "Outcome-based Education ที่บัณฑิตสามารถใช้สมรรถนะที่เรียนในการพัฒนาเทคโนโลยีหุ่นยนต์ขึ้นได้ ทำให้บัณฑิตฟีโบ้เป็นที่ต้องการของภาคเอกชนและภาครัฐอย่างมาก\n",
        "นอกจากนี้ฟีโบ้มีผลงานวิจัย/พัฒนาและให้บริการวิชาการด้านหุ่นยนต์เพื่อการผลิตและเพื่อพัฒนาคุณภาพชีวิตมากกว่า 300 ระบบ โดยมีความร่วมมือที่แข็งแกร่งกับภาครัฐและภาคธุรกิจอุตสาหกรรมชั้นนำ \n",
        "ทั้งกลุ่มปิโตรเลียม อาหาร ฮาร์ดดิสก์ การผลิตไฟฟ้า การขนส่ง ธุรกิจบริการ การศึกษา การแพทย์และการฟื้นฟูสมรรถภาพ\n",
        "ปัจจุบัน ฟีโบ้ โดยการนำของ รศ. ดร.สยาม เจริญเสียง ผู้อำนวยการสถาบันฯ มุ่งมั่นเพื่อยกระดับฟีโบ้เข้าสู่สถาบันชั้นนำระดับอาเซียนทางด้านวิทยาการหุ่นยนต์ \n",
        "รวมทั้งสร้างเครือข่ายพัฒนาหลักสูตรด้านหุ่นยนต์ ครูและนักเรียนของโรงเรียนทั่วประเทศมากกว่า 100 โรงเรียน'''\n",
        "\n",
        "sentences = sentence_segment(paragraph)\n",
        "\n",
        "# convert type`thai_segmenter.sentence.sentence` to `str`\n",
        "sentences = [str(sentence) for sentence in sentences]\n",
        "\n",
        "for sentence in sentences:\n",
        "    print('-', str(sentence))"
      ],
      "metadata": {
        "colab": {
          "base_uri": "https://localhost:8080/"
        },
        "id": "_dqpI2ww8oAg",
        "outputId": "8c638838-7590-4bae-9839-4f3d4fa38e51"
      },
      "execution_count": 164,
      "outputs": [
        {
          "output_type": "stream",
          "name": "stdout",
          "text": [
            "- แนวโน้มของการใช้หุ่นยนต์ทางด้านการผลิตและงานบริการมีจำนวนสูงขึ้นมากกว่า 30% ทุกปี แต่ประเทศไทยยังขาดบุคลากรด้านวิทยาการหุ่นยนต์และระบบอัตโนมัติในทุกระดับ \n",
            "โดยเฉพาะอาชีพวิศวกร อาจารย์และนักวิจัย ฟีโบ้จึงได้รับการก่อตั้งขึ้น\n",
            "- ในปี 2538\n",
            "- รศ. ดร.ชิต เหล่าวัฒนา และฟีโบ้มีคติพจน์ว่า “A Cradle of Future Leaders in Robotics” \n",
            "ที่มุ่งสร้างผู้นำด้านวิทยาการหุ่นยนต์ของไทย\n",
            "ฟีโบ้เป็นสถาบันระดับคณะแห่งแรกและแห่งเดียวในไทยที่เปิดสอนและให้ปริญญาครบทั้งระดับปริญญาตรี ปริญญาโท และปริญญาเอก ในสาขาวิทยาการหุ่นยนต์และระบบอัตโนมัติ\n",
            "- ทุกหลักสูตรเน้นหลัก \n",
            "Outcome-based Education ที่บัณฑิตสามารถใช้สมรรถนะที่เรียนในการพัฒนาเทคโนโลยีหุ่นยนต์ขึ้นได้\n",
            "- บัณฑิตฟีโบ้เป็นที่ต้องการของภาคเอกชนและภาครัฐอย่างมาก\n",
            "นอกจากนี้ฟีโบ้มีผลงานวิจัย/พัฒนาและให้บริการวิชาการด้านหุ่นยนต์เพื่อการผลิตและเพื่อพัฒนาคุณภาพชีวิตมากกว่า 300 ระบบ\n",
            "- มีความร่วมมือที่แข็งแกร่งกับภาครัฐและภาคธุรกิจอุตสาหกรรมชั้นนำ \n",
            "ทั้งกลุ่มปิโตรเลียม อาหาร ฮาร์ดดิสก์ การผลิตไฟฟ้า การขนส่ง ธุรกิจบริการ การศึกษา การแพทย์และการฟื้นฟูสมรรถภาพ\n",
            "ปัจจุบัน ฟีโบ้\n",
            "- การนำของ รศ. ดร.สยาม เจริญเสียง ผู้อำนวยการสถาบันฯ มุ่งมั่นเพื่อยกระดับฟีโบ้เข้าสู่สถาบันชั้นนำระดับอาเซียนทางด้านวิทยาการหุ่นยนต์ \n",
            "รวมทั้งสร้างเครือข่ายพัฒนาหลักสูตรด้านหุ่นยนต์ ครูและนักเรียนของโรงเรียนทั่วประเทศมากกว่า 100 โรงเรียน\n"
          ]
        }
      ]
    },
    {
      "cell_type": "markdown",
      "source": [
        "## **TF-IDF**"
      ],
      "metadata": {
        "id": "g3gsepP6xMnT"
      }
    },
    {
      "cell_type": "code",
      "source": [
        "!pip install spacy_thai"
      ],
      "metadata": {
        "id": "CT4a3a0Kyw35"
      },
      "execution_count": null,
      "outputs": []
    },
    {
      "cell_type": "code",
      "source": [
        "from sklearn.feature_extraction.text import TfidfVectorizer\n",
        "import numpy as np\n",
        "\n",
        "# Thai sentence segmentation\n",
        "from thai_segmenter import sentence_segment\n",
        "\n",
        "# Thai word tokenization\n",
        "import spacy_thai"
      ],
      "metadata": {
        "id": "-IgVUK8DqZaw"
      },
      "execution_count": 165,
      "outputs": []
    },
    {
      "cell_type": "code",
      "execution_count": 82,
      "metadata": {
        "id": "wA6MHDA-mTTv"
      },
      "outputs": [],
      "source": [
        "def sentenceSplitter(paragraph, min_len=60):\n",
        "    paragraph = paragraph.replace(\"\\n\",\"\")\n",
        "    sentences = paragraph.split(\" \")\n",
        "\n",
        "\n",
        "    for i in range(len(sentences)):\n",
        "\n",
        "        while len(sentences[i]) < min_len and i>0:\n",
        "            # print(i, sentences[i], len(sentences))\n",
        "            sentences[i-1] += sentences.pop(i)\n",
        "\n",
        "            if i>=(len(sentences)): break\n",
        "\n",
        "        if i>=(len(sentences)): break\n",
        "    return sentences"
      ]
    },
    {
      "cell_type": "code",
      "source": [
        "tokenizer = spacy_thai.load()\n",
        "\n",
        "paragraph = '''แนวโน้มของการใช้หุ่นยนต์ทางด้านการผลิตและงานบริการมีจำนวนสูงขึ้นมากกว่า 30% ทุกปี แต่ประเทศไทยยังขาดบุคลากรด้านวิทยาการหุ่นยนต์และระบบอัตโนมัติในทุกระดับ \n",
        "โดยเฉพาะอาชีพวิศวกร อาจารย์และนักวิจัย ฟีโบ้จึงได้รับการก่อตั้งขึ้น ในปี 2538 โดย รศ. ดร.ชิต เหล่าวัฒนา และฟีโบ้มีคติพจน์ว่า “A Cradle of Future Leaders in Robotics” \n",
        "ที่มุ่งสร้างผู้นำด้านวิทยาการหุ่นยนต์ของไทย\n",
        "ฟีโบ้เป็นสถาบันระดับคณะแห่งแรกและแห่งเดียวในไทยที่เปิดสอนและให้ปริญญาครบทั้งระดับปริญญาตรี ปริญญาโท และปริญญาเอก ในสาขาวิทยาการหุ่นยนต์และระบบอัตโนมัติ ทุกหลักสูตรเน้นหลัก \n",
        "Outcome-based Education ที่บัณฑิตสามารถใช้สมรรถนะที่เรียนในการพัฒนาเทคโนโลยีหุ่นยนต์ขึ้นได้ ทำให้บัณฑิตฟีโบ้เป็นที่ต้องการของภาคเอกชนและภาครัฐอย่างมาก\n",
        "นอกจากนี้ฟีโบ้มีผลงานวิจัย/พัฒนาและให้บริการวิชาการด้านหุ่นยนต์เพื่อการผลิตและเพื่อพัฒนาคุณภาพชีวิตมากกว่า 300 ระบบ โดยมีความร่วมมือที่แข็งแกร่งกับภาครัฐและภาคธุรกิจอุตสาหกรรมชั้นนำ \n",
        "ทั้งกลุ่มปิโตรเลียม อาหาร ฮาร์ดดิสก์ การผลิตไฟฟ้า การขนส่ง ธุรกิจบริการ การศึกษา การแพทย์และการฟื้นฟูสมรรถภาพ\n",
        "ปัจจุบัน ฟีโบ้ โดยการนำของ รศ. ดร.สยาม เจริญเสียง ผู้อำนวยการสถาบันฯ มุ่งมั่นเพื่อยกระดับฟีโบ้เข้าสู่สถาบันชั้นนำระดับอาเซียนทางด้านวิทยาการหุ่นยนต์ \n",
        "รวมทั้งสร้างเครือข่ายพัฒนาหลักสูตรด้านหุ่นยนต์ ครูและนักเรียนของโรงเรียนทั่วประเทศมากกว่า 100 โรงเรียน'''\n",
        "# old\n",
        "# sentences = sentenceSplitter(paragraph, min_len=60)\n",
        "# len(sentences), sentences\n",
        "\n",
        "# new\n",
        "sentences = sentence_segment(paragraph)\n",
        "# convert type`thai_segmenter.sentence.sentence` to `str`\n",
        "sentences = [str(sentence) for sentence in sentences]\n",
        "for sentence in sentences:\n",
        "    print('-', str(sentence))"
      ],
      "metadata": {
        "colab": {
          "base_uri": "https://localhost:8080/"
        },
        "id": "AxH_8Anjmf8u",
        "outputId": "edb8e7c9-23cf-4aac-fd4b-1bd3799e652f"
      },
      "execution_count": 171,
      "outputs": [
        {
          "output_type": "stream",
          "name": "stdout",
          "text": [
            "- แนวโน้มของการใช้หุ่นยนต์ทางด้านการผลิตและงานบริการมีจำนวนสูงขึ้นมากกว่า 30% ทุกปี แต่ประเทศไทยยังขาดบุคลากรด้านวิทยาการหุ่นยนต์และระบบอัตโนมัติในทุกระดับ \n",
            "โดยเฉพาะอาชีพวิศวกร อาจารย์และนักวิจัย ฟีโบ้จึงได้รับการก่อตั้งขึ้น\n",
            "- ในปี 2538\n",
            "- รศ. ดร.ชิต เหล่าวัฒนา และฟีโบ้มีคติพจน์ว่า “A Cradle of Future Leaders in Robotics” \n",
            "ที่มุ่งสร้างผู้นำด้านวิทยาการหุ่นยนต์ของไทย\n",
            "ฟีโบ้เป็นสถาบันระดับคณะแห่งแรกและแห่งเดียวในไทยที่เปิดสอนและให้ปริญญาครบทั้งระดับปริญญาตรี ปริญญาโท และปริญญาเอก ในสาขาวิทยาการหุ่นยนต์และระบบอัตโนมัติ\n",
            "- ทุกหลักสูตรเน้นหลัก \n",
            "Outcome-based Education ที่บัณฑิตสามารถใช้สมรรถนะที่เรียนในการพัฒนาเทคโนโลยีหุ่นยนต์ขึ้นได้\n",
            "- บัณฑิตฟีโบ้เป็นที่ต้องการของภาคเอกชนและภาครัฐอย่างมาก\n",
            "นอกจากนี้ฟีโบ้มีผลงานวิจัย/พัฒนาและให้บริการวิชาการด้านหุ่นยนต์เพื่อการผลิตและเพื่อพัฒนาคุณภาพชีวิตมากกว่า 300 ระบบ\n",
            "- มีความร่วมมือที่แข็งแกร่งกับภาครัฐและภาคธุรกิจอุตสาหกรรมชั้นนำ \n",
            "ทั้งกลุ่มปิโตรเลียม อาหาร ฮาร์ดดิสก์ การผลิตไฟฟ้า การขนส่ง ธุรกิจบริการ การศึกษา การแพทย์และการฟื้นฟูสมรรถภาพ\n",
            "ปัจจุบัน ฟีโบ้\n",
            "- การนำของ รศ. ดร.สยาม เจริญเสียง ผู้อำนวยการสถาบันฯ มุ่งมั่นเพื่อยกระดับฟีโบ้เข้าสู่สถาบันชั้นนำระดับอาเซียนทางด้านวิทยาการหุ่นยนต์ \n",
            "รวมทั้งสร้างเครือข่ายพัฒนาหลักสูตรด้านหุ่นยนต์ ครูและนักเรียนของโรงเรียนทั่วประเทศมากกว่า 100 โรงเรียน\n"
          ]
        }
      ]
    },
    {
      "cell_type": "code",
      "source": [
        "def getRankTFIDF(sentences, tokenizer):\n",
        "\n",
        "    vectorizer = TfidfVectorizer( tokenizer=tokenizer )\n",
        "    mat = vectorizer.fit_transform(sentences)\n",
        "    print(\"tokens:\", len(tokens:=vectorizer.get_feature_names_out()), tokens)\n",
        "    # print(\"tokens:\", len(tokens:=list(vectorizer.vocabulary_.keys())), tokens)\n",
        "\n",
        "    # print(mat.shape)\n",
        "\n",
        "    sentence_weight = mat.sum(axis=1).A1\n",
        "    word_weight     = mat.sum(axis=0).A1\n",
        "\n",
        "    sentence_weight_norm = (sentence_weight-np.min(sentence_weight))/(np.max(sentence_weight)-np.min(sentence_weight))\n",
        "    word_weight_norm     = (word_weight-np.min(word_weight))/(np.max(word_weight)-np.min(word_weight))\n",
        "\n",
        "    sentence_rank = np.argsort(sentence_weight, axis=0)\n",
        "    word_rank     = np.argsort(word_weight, axis=0)\n",
        "\n",
        "    return sentence_rank, sentence_weight_norm, tokens, word_rank, word_weight_norm\n",
        "\n",
        "sentence_rank, sentence_weight, tokens, word_rank, word_weight = getRankTFIDF(sentences, tokenizer)"
      ],
      "metadata": {
        "colab": {
          "base_uri": "https://localhost:8080/"
        },
        "id": "ZYwJWbELqWio",
        "outputId": "dfbc594b-b84e-4bd9-947b-15dd1e0bb39e"
      },
      "execution_count": 172,
      "outputs": [
        {
          "output_type": "stream",
          "name": "stdout",
          "text": [
            "tokens: 230 [แนวโน้ม ใน รศ. ทุก บัณฑิต มี การนำ ปี ความร่วมมือ หลักสูตร ดร. 2538 ของ\n",
            " ฟี ของ ชิต โบ้ รศ. การ เหล่า เน้น เป็นที่ต้องการ ใช้ ที่ ดร. หลัก\n",
            " หุ่นยนต์ วัฒนา แข็งแกร่ง สยาม outcome-based เจริญ และ ทาง ฟี ของ กับ\n",
            " เสียง ด้าน โบ้ ภาคเอกชน ภาครัฐ มี การผลิต คติพจน์ ผู้อำนวยการ education\n",
            " และ และ ภาค และ ว่า ภาครัฐ ธุรกิจ งาน “ สถาบัน บริการ a ที่ อย่าง cradle\n",
            " อุตสาหกรรม บัณฑิต ฯ มี มาก มุ่งมั่น จำนวน of สามารถ นอกจากนี้ future\n",
            " ชั้นนำ สูง ใช้ เพื่อ ขึ้น สมรรถนะ leaders ฟี ทั้ง มากกว่า ยกระดับ โบ้\n",
            " กลุ่ม มี ที่ ผลงานวิจัย in ฟี 30 เรียน ปิโตรเลียม โบ้ % robotics ทุกปี\n",
            " เข้าสู่ ใน การพัฒนา / พัฒนา แต่ ” อาหาร สถาบัน ที่ ประเทศ และ มุ่ง\n",
            " เทคโนโลยี ให้บริการ ฮาร์ดดิสก์ ชั้นนำ ไทย สร้าง ยัง ระดับ ผู้นำ หุ่นยนต์\n",
            " ขาด วิชาการ บุคลากร การผลิต อาเซียน ด้าน ขึ้น วิทยาการ ด้าน ด้าน ไฟฟ้า\n",
            " ทาง ได้ หุ่นยนต์ ด้าน วิทยาการ หุ่นยนต์ การขนส่ง วิทยาการ เพื่อ หุ่นยนต์\n",
            " ของ การผลิต ธุรกิจ หุ่นยนต์ ไทย และ ฟี บริการ และ ระบบ โบ้ รวมทั้ง เพื่อ\n",
            " เป็น อัตโนมัติ การศึกษา สถาบัน พัฒนา สร้าง คุณภาพชีวิต ใน ระดับ เครือข่าย\n",
            " การแพทย์ ทุก ระดับ คณะ แห่ง และ พัฒนา มากกว่า โดยเฉพาะ แรก\n",
            " การฟื้นฟูสมรรถภาพ หลักสูตร และ แห่ง 300 อาชีพ เดียว ระบบ ด้าน วิศวกร\n",
            " หุ่นยนต์ ใน ไทย ปัจจุบัน อาจารย์ ที่ เปิด ครู และ และ สอน ฟี นักวิจัย โบ้\n",
            " นักเรียน และ ให้ ปริญญา ของ ฟี โบ้ โรงเรียน ครบ จึง ทั้ง ได้รับ\n",
            " ทั่วประเทศ ระดับ การ ปริญญาตรี ก่อ ตั้งขึ้น มากกว่า ปริญญาโท 100 โรงเรียน\n",
            " และ ปริญญาเอก ใน สาขา วิทยาการ หุ่นยนต์ และ ระบบ อัตโนมัติ]\n"
          ]
        },
        {
          "output_type": "stream",
          "name": "stderr",
          "text": [
            "/usr/local/lib/python3.10/dist-packages/sklearn/feature_extraction/text.py:528: UserWarning: The parameter 'token_pattern' will not be used since 'tokenizer' is not None'\n",
            "  warnings.warn(\n"
          ]
        }
      ]
    },
    {
      "cell_type": "code",
      "source": [
        "print(\"sentence_rank:   \", sentence_rank)\n",
        "print(\"sentence_weight: \", sentence_weight.shape, sentence_weight)\n",
        "print(\"word_weight:     \", word_weight.shape)"
      ],
      "metadata": {
        "colab": {
          "base_uri": "https://localhost:8080/"
        },
        "id": "USu5VPBrt65H",
        "outputId": "9844222e-8639-4bce-a845-b3b42ac4b82e"
      },
      "execution_count": 173,
      "outputs": [
        {
          "output_type": "stream",
          "name": "stdout",
          "text": [
            "sentence_rank:    [1 3 5 4 6 0 2]\n",
            "sentence_weight:  (7,) [0.83419727 0.         1.         0.42768911 0.62450999 0.57953056\n",
            " 0.74772657]\n",
            "word_weight:      (230,)\n"
          ]
        }
      ]
    },
    {
      "cell_type": "code",
      "source": [
        "# Example: show top-3 sentences\n",
        "print(np.asarray(sentences)[sentence_rank[:3]], '\\n')\n",
        "\n",
        "# Example: show top-10 keywords\n",
        "print(np.asarray(tokens)[word_rank[:10]])"
      ],
      "metadata": {
        "colab": {
          "base_uri": "https://localhost:8080/"
        },
        "id": "tOJ-cTTvvS1t",
        "outputId": "5ebef27f-4271-4acf-8fd5-5c89d0608b74"
      },
      "execution_count": 174,
      "outputs": [
        {
          "output_type": "stream",
          "name": "stdout",
          "text": [
            "['ในปี 2538'\n",
            " 'ทุกหลักสูตรเน้นหลัก \\nOutcome-based Education ที่บัณฑิตสามารถใช้สมรรถนะที่เรียนในการพัฒนาเทคโนโลยีหุ่นยนต์ขึ้นได้'\n",
            " 'มีความร่วมมือที่แข็งแกร่งกับภาครัฐและภาคธุรกิจอุตสาหกรรมชั้นนำ \\nทั้งกลุ่มปิโตรเลียม อาหาร ฮาร์ดดิสก์ การผลิตไฟฟ้า การขนส่ง ธุรกิจบริการ การศึกษา การแพทย์และการฟื้นฟูสมรรถภาพ\\nปัจจุบัน ฟีโบ้'] \n",
            "\n",
            "[อัตโนมัติ a สถาบัน “ ระดับ ว่า คณะ เป็น แห่ง robotics]\n"
          ]
        }
      ]
    },
    {
      "cell_type": "markdown",
      "source": [
        "## **TestRank**\n",
        "\n",
        "💡 [@BrambleXu](https://gist.github.com/BrambleXu/3d47bbdbd1ee4e6fc695b0ddb88cbf99#file-textrank4keyword-py) |\n",
        "[Medium](https://towardsdatascience.com/textrank-for-keyword-extraction-by-python-c0bae21bcec0)"
      ],
      "metadata": {
        "id": "QSV6Iu62xRcx"
      }
    },
    {
      "cell_type": "code",
      "source": [
        "# !pip install pytextrank"
      ],
      "metadata": {
        "id": "ZQ1c2NnGxTCk"
      },
      "execution_count": null,
      "outputs": []
    },
    {
      "cell_type": "code",
      "source": [
        "import spacy\n",
        "import pytextrank\n",
        "\n",
        "# Thai sentence segmentation\n",
        "from thai_segmenter import sentence_segment\n",
        "\n",
        "# Thai word tokenization\n",
        "import spacy_thai\n",
        "tokenizer = spacy_thai.load()"
      ],
      "metadata": {
        "id": "TGKW1jljxhq5"
      },
      "execution_count": 109,
      "outputs": []
    },
    {
      "cell_type": "code",
      "source": [
        "from collections import OrderedDict\n",
        "import numpy as np\n",
        "import spacy\n",
        "from spacy.lang.en.stop_words import STOP_WORDS\n",
        "\n",
        "# nlp = spacy.load('en_core_web_sm')\n",
        "\n",
        "class TextRank4Keyword():\n",
        "    \"\"\"Extract keywords from text\"\"\"\n",
        "    \n",
        "    def __init__(self, tokenizer):\n",
        "        self.d = 0.85 # damping coefficient, usually is .85\n",
        "        self.min_diff = 1e-5 # convergence threshold\n",
        "        self.steps = 10 # iteration steps\n",
        "        self.node_weight = None # save keywords and its weight\n",
        "        self.tokenizer = tokenizer\n",
        "    \n",
        "    def set_stopwords(self, stopwords):  \n",
        "        \"\"\"Set stop words\"\"\"\n",
        "        # for word in STOP_WORDS.union(set(stopwords)):\n",
        "        #     lexeme = nlp.vocab[word]\n",
        "        #     lexeme.is_stop = True\n",
        "        pass\n",
        "    \n",
        "    def sentence_segment(self, doc, candidate_pos, lower):\n",
        "        \"\"\"Store those words only in cadidate_pos\"\"\"\n",
        "        sentences = []\n",
        "        for sent in doc.sents:\n",
        "            selected_words = []\n",
        "            for token in sent:\n",
        "                # Store words only with cadidate POS tag\n",
        "                if token.pos_ in candidate_pos and token.is_stop is False:\n",
        "                    if lower is True:\n",
        "                        selected_words.append(token.text.lower())\n",
        "                    else:\n",
        "                        selected_words.append(token.text)\n",
        "            sentences.append(selected_words)\n",
        "        return sentences\n",
        "        \n",
        "    def get_vocab(self, sentences):\n",
        "        \"\"\"Get all tokens\"\"\"\n",
        "        vocab = OrderedDict()\n",
        "        i = 0\n",
        "        for sentence in sentences:\n",
        "            for word in sentence:\n",
        "                if word not in vocab:\n",
        "                    vocab[word] = i\n",
        "                    i += 1\n",
        "        return vocab\n",
        "    \n",
        "    def get_token_pairs(self, window_size, sentences):\n",
        "        \"\"\"Build token_pairs from windows in sentences\"\"\"\n",
        "        token_pairs = list()\n",
        "        for sentence in sentences:\n",
        "            for i, word in enumerate(sentence):\n",
        "                for j in range(i+1, i+window_size):\n",
        "                    if j >= len(sentence):\n",
        "                        break\n",
        "                    pair = (word, sentence[j])\n",
        "                    if pair not in token_pairs:\n",
        "                        token_pairs.append(pair)\n",
        "        return token_pairs\n",
        "        \n",
        "    def symmetrize(self, a):\n",
        "        return a + a.T - np.diag(a.diagonal())\n",
        "    \n",
        "    def get_matrix(self, vocab, token_pairs):\n",
        "        \"\"\"Get normalized matrix\"\"\"\n",
        "        # Build matrix\n",
        "        vocab_size = len(vocab)\n",
        "        g = np.zeros((vocab_size, vocab_size), dtype='float')\n",
        "        for word1, word2 in token_pairs:\n",
        "            i, j = vocab[word1], vocab[word2]\n",
        "            g[i][j] = 1\n",
        "            \n",
        "        # Get Symmeric matrix\n",
        "        g = self.symmetrize(g)\n",
        "        \n",
        "        # Normalize matrix by column\n",
        "        norm = np.sum(g, axis=0)\n",
        "        g_norm = np.divide(g, norm, where=norm!=0) # this is ignore the 0 element in norm\n",
        "        \n",
        "        return g_norm\n",
        "\n",
        "    \n",
        "    def get_keywords(self, number=10):\n",
        "        \"\"\"Print top number keywords\"\"\"\n",
        "        node_weight = OrderedDict(sorted(self.node_weight.items(), key=lambda t: t[1], reverse=True))\n",
        "        for i, (key, value) in enumerate(node_weight.items()):\n",
        "            print(key + ' - ' + str(value))\n",
        "            if i > number:\n",
        "                break\n",
        "        \n",
        "        \n",
        "    def analyze(self, text, \n",
        "                candidate_pos=['NOUN', 'PROPN'], \n",
        "                window_size=4, lower=False, stopwords=list()):\n",
        "        \"\"\"Main function to analyze text\"\"\"\n",
        "        \n",
        "        # Set stop words\n",
        "        self.set_stopwords(stopwords)\n",
        "        \n",
        "        # Pare text by spaCy\n",
        "        doc = self.tokenizer(text)\n",
        "        \n",
        "        # Filter sentences\n",
        "        sentences = self.sentence_segment(doc, candidate_pos, lower) # list of list of words\n",
        "        \n",
        "        # Build vocabulary\n",
        "        vocab = self.get_vocab(sentences)\n",
        "        \n",
        "        # Get token_pairs from windows\n",
        "        token_pairs = self.get_token_pairs(window_size, sentences)\n",
        "        \n",
        "        # Get normalized matrix\n",
        "        g = self.get_matrix(vocab, token_pairs)\n",
        "        \n",
        "        # Initionlization for weight(pagerank value)\n",
        "        pr = np.array([1] * len(vocab))\n",
        "        \n",
        "        # Iteration\n",
        "        previous_pr = 0\n",
        "        for epoch in range(self.steps):\n",
        "            pr = (1-self.d) + self.d * np.dot(g, pr)\n",
        "            if abs(previous_pr - sum(pr))  < self.min_diff:\n",
        "                break\n",
        "            else:\n",
        "                previous_pr = sum(pr)\n",
        "\n",
        "        # Get weight for each node\n",
        "        node_weight = dict()\n",
        "        for word, index in vocab.items():\n",
        "            node_weight[word] = pr[index]\n",
        "        \n",
        "        self.node_weight = node_weight"
      ],
      "metadata": {
        "id": "CN8Ft8Bj2hpT"
      },
      "execution_count": 141,
      "outputs": []
    },
    {
      "cell_type": "code",
      "source": [
        "# example text\n",
        "paragraph = '''แนวโน้มของการใช้หุ่นยนต์ทางด้านการผลิตและงานบริการมีจำนวนสูงขึ้นมากกว่า 30% ทุกปี แต่ประเทศไทยยังขาดบุคลากรด้านวิทยาการหุ่นยนต์และระบบอัตโนมัติในทุกระดับ \n",
        "โดยเฉพาะอาชีพวิศวกร อาจารย์และนักวิจัย ฟีโบ้จึงได้รับการก่อตั้งขึ้น ในปี 2538 โดย รศ. ดร.ชิต เหล่าวัฒนา และฟีโบ้มีคติพจน์ว่า “A Cradle of Future Leaders in Robotics” \n",
        "ที่มุ่งสร้างผู้นำด้านวิทยาการหุ่นยนต์ของไทย\n",
        "ฟีโบ้เป็นสถาบันระดับคณะแห่งแรกและแห่งเดียวในไทยที่เปิดสอนและให้ปริญญาครบทั้งระดับปริญญาตรี ปริญญาโท และปริญญาเอก ในสาขาวิทยาการหุ่นยนต์และระบบอัตโนมัติ ทุกหลักสูตรเน้นหลัก \n",
        "Outcome-based Education ที่บัณฑิตสามารถใช้สมรรถนะที่เรียนในการพัฒนาเทคโนโลยีหุ่นยนต์ขึ้นได้ ทำให้บัณฑิตฟีโบ้เป็นที่ต้องการของภาคเอกชนและภาครัฐอย่างมาก\n",
        "นอกจากนี้ฟีโบ้มีผลงานวิจัย/พัฒนาและให้บริการวิชาการด้านหุ่นยนต์เพื่อการผลิตและเพื่อพัฒนาคุณภาพชีวิตมากกว่า 300 ระบบ โดยมีความร่วมมือที่แข็งแกร่งกับภาครัฐและภาคธุรกิจอุตสาหกรรมชั้นนำ \n",
        "ทั้งกลุ่มปิโตรเลียม อาหาร ฮาร์ดดิสก์ การผลิตไฟฟ้า การขนส่ง ธุรกิจบริการ การศึกษา การแพทย์และการฟื้นฟูสมรรถภาพ\n",
        "ปัจจุบัน ฟีโบ้ โดยการนำของ รศ. ดร.สยาม เจริญเสียง ผู้อำนวยการสถาบันฯ มุ่งมั่นเพื่อยกระดับฟีโบ้เข้าสู่สถาบันชั้นนำระดับอาเซียนทางด้านวิทยาการหุ่นยนต์ \n",
        "รวมทั้งสร้างเครือข่ายพัฒนาหลักสูตรด้านหุ่นยนต์ ครูและนักเรียนของโรงเรียนทั่วประเทศมากกว่า 100 โรงเรียน'''\n",
        "\n",
        "tr4w = TextRank4Keyword( tokenizer=tokenizer )\n",
        "tr4w.analyze(paragraph, window_size=4, lower=False)\n",
        "tr4w.get_keywords(10)"
      ],
      "metadata": {
        "colab": {
          "base_uri": "https://localhost:8080/"
        },
        "id": "HkTgHZnjxerZ",
        "outputId": "82ff2a94-943f-4b7c-88ba-f4e669e2bc6e"
      },
      "execution_count": 142,
      "outputs": [
        {
          "output_type": "stream",
          "name": "stdout",
          "text": [
            "หุ่นยนต์ - 3.8208226410979584\n",
            "ฟี - 3.2010214282201805\n",
            "โบ้ - 3.0128038212930957\n",
            "ระดับ - 2.1845160081093384\n",
            "วิทยาการ - 1.9744561722570322\n",
            "ไทย - 1.8902690409696246\n",
            "ระบบ - 1.5975011946998237\n",
            "สถาบัน - 1.5255719750453376\n",
            "การผลิต - 1.4459418582161931\n",
            "ธุรกิจ - 1.4314885609776313\n",
            "ชั้นนำ - 1.3453801323545687\n",
            "บัณฑิต - 1.3289964457387926\n"
          ]
        }
      ]
    }
  ]
}