{
  "nbformat": 4,
  "nbformat_minor": 0,
  "metadata": {
    "colab": {
      "provenance": [],
      "include_colab_link": true
    },
    "kernelspec": {
      "name": "python3",
      "display_name": "Python 3"
    },
    "language_info": {
      "name": "python"
    },
    "widgets": {
      "application/vnd.jupyter.widget-state+json": {
        "7d7d0bdebd75430f81900df9af1626f9": {
          "model_module": "@jupyter-widgets/controls",
          "model_name": "HBoxModel",
          "model_module_version": "1.5.0",
          "state": {
            "_dom_classes": [],
            "_model_module": "@jupyter-widgets/controls",
            "_model_module_version": "1.5.0",
            "_model_name": "HBoxModel",
            "_view_count": null,
            "_view_module": "@jupyter-widgets/controls",
            "_view_module_version": "1.5.0",
            "_view_name": "HBoxView",
            "box_style": "",
            "children": [
              "IPY_MODEL_96f33fc8ac9f441184d2747643e98e0f",
              "IPY_MODEL_41d97469af3942dfae3ffd43c215fd1b",
              "IPY_MODEL_e1e72a38d818488fb55268b9b0bd4cc7"
            ],
            "layout": "IPY_MODEL_f2eb5ab3ad7d4f87ae2134314cde8f1f"
          }
        },
        "96f33fc8ac9f441184d2747643e98e0f": {
          "model_module": "@jupyter-widgets/controls",
          "model_name": "HTMLModel",
          "model_module_version": "1.5.0",
          "state": {
            "_dom_classes": [],
            "_model_module": "@jupyter-widgets/controls",
            "_model_module_version": "1.5.0",
            "_model_name": "HTMLModel",
            "_view_count": null,
            "_view_module": "@jupyter-widgets/controls",
            "_view_module_version": "1.5.0",
            "_view_name": "HTMLView",
            "description": "",
            "description_tooltip": null,
            "layout": "IPY_MODEL_61cec6859ce14d1198ce95f1cf713cfa",
            "placeholder": "​",
            "style": "IPY_MODEL_7a9f6cf5a684434a810f251a9002ca43",
            "value": "Generating outputs: 100%"
          }
        },
        "41d97469af3942dfae3ffd43c215fd1b": {
          "model_module": "@jupyter-widgets/controls",
          "model_name": "FloatProgressModel",
          "model_module_version": "1.5.0",
          "state": {
            "_dom_classes": [],
            "_model_module": "@jupyter-widgets/controls",
            "_model_module_version": "1.5.0",
            "_model_name": "FloatProgressModel",
            "_view_count": null,
            "_view_module": "@jupyter-widgets/controls",
            "_view_module_version": "1.5.0",
            "_view_name": "ProgressView",
            "bar_style": "success",
            "description": "",
            "description_tooltip": null,
            "layout": "IPY_MODEL_7ad551caf7ce4d0a9fc11674f93afdc4",
            "max": 1,
            "min": 0,
            "orientation": "horizontal",
            "style": "IPY_MODEL_65f353192e7446718f737aa4efee8cf7",
            "value": 1
          }
        },
        "e1e72a38d818488fb55268b9b0bd4cc7": {
          "model_module": "@jupyter-widgets/controls",
          "model_name": "HTMLModel",
          "model_module_version": "1.5.0",
          "state": {
            "_dom_classes": [],
            "_model_module": "@jupyter-widgets/controls",
            "_model_module_version": "1.5.0",
            "_model_name": "HTMLModel",
            "_view_count": null,
            "_view_module": "@jupyter-widgets/controls",
            "_view_module_version": "1.5.0",
            "_view_name": "HTMLView",
            "description": "",
            "description_tooltip": null,
            "layout": "IPY_MODEL_8a9f214447eb4fc0b17c5d0c56fcb957",
            "placeholder": "​",
            "style": "IPY_MODEL_8ecd62d6e7564fcb9c6fabf71dd51fb2",
            "value": " 1/1 [00:00&lt;00:00,  1.01it/s]"
          }
        },
        "f2eb5ab3ad7d4f87ae2134314cde8f1f": {
          "model_module": "@jupyter-widgets/base",
          "model_name": "LayoutModel",
          "model_module_version": "1.2.0",
          "state": {
            "_model_module": "@jupyter-widgets/base",
            "_model_module_version": "1.2.0",
            "_model_name": "LayoutModel",
            "_view_count": null,
            "_view_module": "@jupyter-widgets/base",
            "_view_module_version": "1.2.0",
            "_view_name": "LayoutView",
            "align_content": null,
            "align_items": null,
            "align_self": null,
            "border": null,
            "bottom": null,
            "display": null,
            "flex": null,
            "flex_flow": null,
            "grid_area": null,
            "grid_auto_columns": null,
            "grid_auto_flow": null,
            "grid_auto_rows": null,
            "grid_column": null,
            "grid_gap": null,
            "grid_row": null,
            "grid_template_areas": null,
            "grid_template_columns": null,
            "grid_template_rows": null,
            "height": null,
            "justify_content": null,
            "justify_items": null,
            "left": null,
            "margin": null,
            "max_height": null,
            "max_width": null,
            "min_height": null,
            "min_width": null,
            "object_fit": null,
            "object_position": null,
            "order": null,
            "overflow": null,
            "overflow_x": null,
            "overflow_y": null,
            "padding": null,
            "right": null,
            "top": null,
            "visibility": null,
            "width": null
          }
        },
        "61cec6859ce14d1198ce95f1cf713cfa": {
          "model_module": "@jupyter-widgets/base",
          "model_name": "LayoutModel",
          "model_module_version": "1.2.0",
          "state": {
            "_model_module": "@jupyter-widgets/base",
            "_model_module_version": "1.2.0",
            "_model_name": "LayoutModel",
            "_view_count": null,
            "_view_module": "@jupyter-widgets/base",
            "_view_module_version": "1.2.0",
            "_view_name": "LayoutView",
            "align_content": null,
            "align_items": null,
            "align_self": null,
            "border": null,
            "bottom": null,
            "display": null,
            "flex": null,
            "flex_flow": null,
            "grid_area": null,
            "grid_auto_columns": null,
            "grid_auto_flow": null,
            "grid_auto_rows": null,
            "grid_column": null,
            "grid_gap": null,
            "grid_row": null,
            "grid_template_areas": null,
            "grid_template_columns": null,
            "grid_template_rows": null,
            "height": null,
            "justify_content": null,
            "justify_items": null,
            "left": null,
            "margin": null,
            "max_height": null,
            "max_width": null,
            "min_height": null,
            "min_width": null,
            "object_fit": null,
            "object_position": null,
            "order": null,
            "overflow": null,
            "overflow_x": null,
            "overflow_y": null,
            "padding": null,
            "right": null,
            "top": null,
            "visibility": null,
            "width": null
          }
        },
        "7a9f6cf5a684434a810f251a9002ca43": {
          "model_module": "@jupyter-widgets/controls",
          "model_name": "DescriptionStyleModel",
          "model_module_version": "1.5.0",
          "state": {
            "_model_module": "@jupyter-widgets/controls",
            "_model_module_version": "1.5.0",
            "_model_name": "DescriptionStyleModel",
            "_view_count": null,
            "_view_module": "@jupyter-widgets/base",
            "_view_module_version": "1.2.0",
            "_view_name": "StyleView",
            "description_width": ""
          }
        },
        "7ad551caf7ce4d0a9fc11674f93afdc4": {
          "model_module": "@jupyter-widgets/base",
          "model_name": "LayoutModel",
          "model_module_version": "1.2.0",
          "state": {
            "_model_module": "@jupyter-widgets/base",
            "_model_module_version": "1.2.0",
            "_model_name": "LayoutModel",
            "_view_count": null,
            "_view_module": "@jupyter-widgets/base",
            "_view_module_version": "1.2.0",
            "_view_name": "LayoutView",
            "align_content": null,
            "align_items": null,
            "align_self": null,
            "border": null,
            "bottom": null,
            "display": null,
            "flex": null,
            "flex_flow": null,
            "grid_area": null,
            "grid_auto_columns": null,
            "grid_auto_flow": null,
            "grid_auto_rows": null,
            "grid_column": null,
            "grid_gap": null,
            "grid_row": null,
            "grid_template_areas": null,
            "grid_template_columns": null,
            "grid_template_rows": null,
            "height": null,
            "justify_content": null,
            "justify_items": null,
            "left": null,
            "margin": null,
            "max_height": null,
            "max_width": null,
            "min_height": null,
            "min_width": null,
            "object_fit": null,
            "object_position": null,
            "order": null,
            "overflow": null,
            "overflow_x": null,
            "overflow_y": null,
            "padding": null,
            "right": null,
            "top": null,
            "visibility": null,
            "width": null
          }
        },
        "65f353192e7446718f737aa4efee8cf7": {
          "model_module": "@jupyter-widgets/controls",
          "model_name": "ProgressStyleModel",
          "model_module_version": "1.5.0",
          "state": {
            "_model_module": "@jupyter-widgets/controls",
            "_model_module_version": "1.5.0",
            "_model_name": "ProgressStyleModel",
            "_view_count": null,
            "_view_module": "@jupyter-widgets/base",
            "_view_module_version": "1.2.0",
            "_view_name": "StyleView",
            "bar_color": null,
            "description_width": ""
          }
        },
        "8a9f214447eb4fc0b17c5d0c56fcb957": {
          "model_module": "@jupyter-widgets/base",
          "model_name": "LayoutModel",
          "model_module_version": "1.2.0",
          "state": {
            "_model_module": "@jupyter-widgets/base",
            "_model_module_version": "1.2.0",
            "_model_name": "LayoutModel",
            "_view_count": null,
            "_view_module": "@jupyter-widgets/base",
            "_view_module_version": "1.2.0",
            "_view_name": "LayoutView",
            "align_content": null,
            "align_items": null,
            "align_self": null,
            "border": null,
            "bottom": null,
            "display": null,
            "flex": null,
            "flex_flow": null,
            "grid_area": null,
            "grid_auto_columns": null,
            "grid_auto_flow": null,
            "grid_auto_rows": null,
            "grid_column": null,
            "grid_gap": null,
            "grid_row": null,
            "grid_template_areas": null,
            "grid_template_columns": null,
            "grid_template_rows": null,
            "height": null,
            "justify_content": null,
            "justify_items": null,
            "left": null,
            "margin": null,
            "max_height": null,
            "max_width": null,
            "min_height": null,
            "min_width": null,
            "object_fit": null,
            "object_position": null,
            "order": null,
            "overflow": null,
            "overflow_x": null,
            "overflow_y": null,
            "padding": null,
            "right": null,
            "top": null,
            "visibility": null,
            "width": null
          }
        },
        "8ecd62d6e7564fcb9c6fabf71dd51fb2": {
          "model_module": "@jupyter-widgets/controls",
          "model_name": "DescriptionStyleModel",
          "model_module_version": "1.5.0",
          "state": {
            "_model_module": "@jupyter-widgets/controls",
            "_model_module_version": "1.5.0",
            "_model_name": "DescriptionStyleModel",
            "_view_count": null,
            "_view_module": "@jupyter-widgets/base",
            "_view_module_version": "1.2.0",
            "_view_name": "StyleView",
            "description_width": ""
          }
        },
        "90d9c1180e52428bbd267cf2625a05d4": {
          "model_module": "@jupyter-widgets/controls",
          "model_name": "HBoxModel",
          "model_module_version": "1.5.0",
          "state": {
            "_dom_classes": [],
            "_model_module": "@jupyter-widgets/controls",
            "_model_module_version": "1.5.0",
            "_model_name": "HBoxModel",
            "_view_count": null,
            "_view_module": "@jupyter-widgets/controls",
            "_view_module_version": "1.5.0",
            "_view_name": "HBoxView",
            "box_style": "",
            "children": [
              "IPY_MODEL_e790d77ee75a43eca785d1bb2947e383",
              "IPY_MODEL_512027f26763455ebab8964e53692bb7",
              "IPY_MODEL_ed9e724bcc604b608b1ddfdfba4eb460"
            ],
            "layout": "IPY_MODEL_7a578023931d46b084b544e4288562e2"
          }
        },
        "e790d77ee75a43eca785d1bb2947e383": {
          "model_module": "@jupyter-widgets/controls",
          "model_name": "HTMLModel",
          "model_module_version": "1.5.0",
          "state": {
            "_dom_classes": [],
            "_model_module": "@jupyter-widgets/controls",
            "_model_module_version": "1.5.0",
            "_model_name": "HTMLModel",
            "_view_count": null,
            "_view_module": "@jupyter-widgets/controls",
            "_view_module_version": "1.5.0",
            "_view_name": "HTMLView",
            "description": "",
            "description_tooltip": null,
            "layout": "IPY_MODEL_342ab4f514ce4c1d994a7fffbec5ea6b",
            "placeholder": "​",
            "style": "IPY_MODEL_eea48c02809a4959a7bf4b8d7544dd4b",
            "value": "Decoding outputs: 100%"
          }
        },
        "512027f26763455ebab8964e53692bb7": {
          "model_module": "@jupyter-widgets/controls",
          "model_name": "FloatProgressModel",
          "model_module_version": "1.5.0",
          "state": {
            "_dom_classes": [],
            "_model_module": "@jupyter-widgets/controls",
            "_model_module_version": "1.5.0",
            "_model_name": "FloatProgressModel",
            "_view_count": null,
            "_view_module": "@jupyter-widgets/controls",
            "_view_module_version": "1.5.0",
            "_view_name": "ProgressView",
            "bar_style": "success",
            "description": "",
            "description_tooltip": null,
            "layout": "IPY_MODEL_e415fee02bdc46fbb7e5ea204679d431",
            "max": 3,
            "min": 0,
            "orientation": "horizontal",
            "style": "IPY_MODEL_8cfc0a07f73a48849d835f3400aea30a",
            "value": 3
          }
        },
        "ed9e724bcc604b608b1ddfdfba4eb460": {
          "model_module": "@jupyter-widgets/controls",
          "model_name": "HTMLModel",
          "model_module_version": "1.5.0",
          "state": {
            "_dom_classes": [],
            "_model_module": "@jupyter-widgets/controls",
            "_model_module_version": "1.5.0",
            "_model_name": "HTMLModel",
            "_view_count": null,
            "_view_module": "@jupyter-widgets/controls",
            "_view_module_version": "1.5.0",
            "_view_name": "HTMLView",
            "description": "",
            "description_tooltip": null,
            "layout": "IPY_MODEL_5d46195195db4a41830ab718461d8848",
            "placeholder": "​",
            "style": "IPY_MODEL_6ee01c16d9ac40cab60184f2149d0ce5",
            "value": " 3/3 [00:02&lt;00:00,  2.91s/it]"
          }
        },
        "7a578023931d46b084b544e4288562e2": {
          "model_module": "@jupyter-widgets/base",
          "model_name": "LayoutModel",
          "model_module_version": "1.2.0",
          "state": {
            "_model_module": "@jupyter-widgets/base",
            "_model_module_version": "1.2.0",
            "_model_name": "LayoutModel",
            "_view_count": null,
            "_view_module": "@jupyter-widgets/base",
            "_view_module_version": "1.2.0",
            "_view_name": "LayoutView",
            "align_content": null,
            "align_items": null,
            "align_self": null,
            "border": null,
            "bottom": null,
            "display": null,
            "flex": null,
            "flex_flow": null,
            "grid_area": null,
            "grid_auto_columns": null,
            "grid_auto_flow": null,
            "grid_auto_rows": null,
            "grid_column": null,
            "grid_gap": null,
            "grid_row": null,
            "grid_template_areas": null,
            "grid_template_columns": null,
            "grid_template_rows": null,
            "height": null,
            "justify_content": null,
            "justify_items": null,
            "left": null,
            "margin": null,
            "max_height": null,
            "max_width": null,
            "min_height": null,
            "min_width": null,
            "object_fit": null,
            "object_position": null,
            "order": null,
            "overflow": null,
            "overflow_x": null,
            "overflow_y": null,
            "padding": null,
            "right": null,
            "top": null,
            "visibility": null,
            "width": null
          }
        },
        "342ab4f514ce4c1d994a7fffbec5ea6b": {
          "model_module": "@jupyter-widgets/base",
          "model_name": "LayoutModel",
          "model_module_version": "1.2.0",
          "state": {
            "_model_module": "@jupyter-widgets/base",
            "_model_module_version": "1.2.0",
            "_model_name": "LayoutModel",
            "_view_count": null,
            "_view_module": "@jupyter-widgets/base",
            "_view_module_version": "1.2.0",
            "_view_name": "LayoutView",
            "align_content": null,
            "align_items": null,
            "align_self": null,
            "border": null,
            "bottom": null,
            "display": null,
            "flex": null,
            "flex_flow": null,
            "grid_area": null,
            "grid_auto_columns": null,
            "grid_auto_flow": null,
            "grid_auto_rows": null,
            "grid_column": null,
            "grid_gap": null,
            "grid_row": null,
            "grid_template_areas": null,
            "grid_template_columns": null,
            "grid_template_rows": null,
            "height": null,
            "justify_content": null,
            "justify_items": null,
            "left": null,
            "margin": null,
            "max_height": null,
            "max_width": null,
            "min_height": null,
            "min_width": null,
            "object_fit": null,
            "object_position": null,
            "order": null,
            "overflow": null,
            "overflow_x": null,
            "overflow_y": null,
            "padding": null,
            "right": null,
            "top": null,
            "visibility": null,
            "width": null
          }
        },
        "eea48c02809a4959a7bf4b8d7544dd4b": {
          "model_module": "@jupyter-widgets/controls",
          "model_name": "DescriptionStyleModel",
          "model_module_version": "1.5.0",
          "state": {
            "_model_module": "@jupyter-widgets/controls",
            "_model_module_version": "1.5.0",
            "_model_name": "DescriptionStyleModel",
            "_view_count": null,
            "_view_module": "@jupyter-widgets/base",
            "_view_module_version": "1.2.0",
            "_view_name": "StyleView",
            "description_width": ""
          }
        },
        "e415fee02bdc46fbb7e5ea204679d431": {
          "model_module": "@jupyter-widgets/base",
          "model_name": "LayoutModel",
          "model_module_version": "1.2.0",
          "state": {
            "_model_module": "@jupyter-widgets/base",
            "_model_module_version": "1.2.0",
            "_model_name": "LayoutModel",
            "_view_count": null,
            "_view_module": "@jupyter-widgets/base",
            "_view_module_version": "1.2.0",
            "_view_name": "LayoutView",
            "align_content": null,
            "align_items": null,
            "align_self": null,
            "border": null,
            "bottom": null,
            "display": null,
            "flex": null,
            "flex_flow": null,
            "grid_area": null,
            "grid_auto_columns": null,
            "grid_auto_flow": null,
            "grid_auto_rows": null,
            "grid_column": null,
            "grid_gap": null,
            "grid_row": null,
            "grid_template_areas": null,
            "grid_template_columns": null,
            "grid_template_rows": null,
            "height": null,
            "justify_content": null,
            "justify_items": null,
            "left": null,
            "margin": null,
            "max_height": null,
            "max_width": null,
            "min_height": null,
            "min_width": null,
            "object_fit": null,
            "object_position": null,
            "order": null,
            "overflow": null,
            "overflow_x": null,
            "overflow_y": null,
            "padding": null,
            "right": null,
            "top": null,
            "visibility": null,
            "width": null
          }
        },
        "8cfc0a07f73a48849d835f3400aea30a": {
          "model_module": "@jupyter-widgets/controls",
          "model_name": "ProgressStyleModel",
          "model_module_version": "1.5.0",
          "state": {
            "_model_module": "@jupyter-widgets/controls",
            "_model_module_version": "1.5.0",
            "_model_name": "ProgressStyleModel",
            "_view_count": null,
            "_view_module": "@jupyter-widgets/base",
            "_view_module_version": "1.2.0",
            "_view_name": "StyleView",
            "bar_color": null,
            "description_width": ""
          }
        },
        "5d46195195db4a41830ab718461d8848": {
          "model_module": "@jupyter-widgets/base",
          "model_name": "LayoutModel",
          "model_module_version": "1.2.0",
          "state": {
            "_model_module": "@jupyter-widgets/base",
            "_model_module_version": "1.2.0",
            "_model_name": "LayoutModel",
            "_view_count": null,
            "_view_module": "@jupyter-widgets/base",
            "_view_module_version": "1.2.0",
            "_view_name": "LayoutView",
            "align_content": null,
            "align_items": null,
            "align_self": null,
            "border": null,
            "bottom": null,
            "display": null,
            "flex": null,
            "flex_flow": null,
            "grid_area": null,
            "grid_auto_columns": null,
            "grid_auto_flow": null,
            "grid_auto_rows": null,
            "grid_column": null,
            "grid_gap": null,
            "grid_row": null,
            "grid_template_areas": null,
            "grid_template_columns": null,
            "grid_template_rows": null,
            "height": null,
            "justify_content": null,
            "justify_items": null,
            "left": null,
            "margin": null,
            "max_height": null,
            "max_width": null,
            "min_height": null,
            "min_width": null,
            "object_fit": null,
            "object_position": null,
            "order": null,
            "overflow": null,
            "overflow_x": null,
            "overflow_y": null,
            "padding": null,
            "right": null,
            "top": null,
            "visibility": null,
            "width": null
          }
        },
        "6ee01c16d9ac40cab60184f2149d0ce5": {
          "model_module": "@jupyter-widgets/controls",
          "model_name": "DescriptionStyleModel",
          "model_module_version": "1.5.0",
          "state": {
            "_model_module": "@jupyter-widgets/controls",
            "_model_module_version": "1.5.0",
            "_model_name": "DescriptionStyleModel",
            "_view_count": null,
            "_view_module": "@jupyter-widgets/base",
            "_view_module_version": "1.2.0",
            "_view_name": "StyleView",
            "description_width": ""
          }
        }
      }
    },
    "accelerator": "GPU",
    "gpuClass": "standard"
  },
  "cells": [
    {
      "cell_type": "markdown",
      "metadata": {
        "id": "view-in-github",
        "colab_type": "text"
      },
      "source": [
        "<a href=\"https://colab.research.google.com/github/amejiyo/WebSum/blob/sea-add/mT5thai/mt5_thai.ipynb\" target=\"_parent\"><img src=\"https://colab.research.google.com/assets/colab-badge.svg\" alt=\"Open In Colab\"/></a>"
      ]
    },
    {
      "cell_type": "markdown",
      "source": [
        "#### Disclaimer : \n",
        "This notebook contains the finetuned mT5-base model for Thai sentence summarization. The architecture of the model is based on mT5 model and fine-tuned on text-summarization pairs in Thai. \n",
        "\n",
        "From [`huggingface/thanathorn/mt5-cpe-kmutt-thai-sentence-sum`](https://huggingface.co/thanathorn/mt5-cpe-kmutt-thai-sentence-sum)"
      ],
      "metadata": {
        "id": "9e_eBy5mDxwQ"
      }
    },
    {
      "cell_type": "markdown",
      "source": [
        "# Method 1: SimpleTransformer"
      ],
      "metadata": {
        "id": "SwVYnBBqo6S1"
      }
    },
    {
      "cell_type": "code",
      "source": [
        "!pip install simpletransformers==0.63.4"
      ],
      "metadata": {
        "id": "qt0bjPw7eyQz"
      },
      "execution_count": null,
      "outputs": []
    },
    {
      "cell_type": "code",
      "execution_count": 2,
      "metadata": {
        "id": "DLdGKxejeoPW"
      },
      "outputs": [],
      "source": [
        "from simpletransformers.t5 import T5Model, T5Args\n",
        "from torch import cuda"
      ]
    },
    {
      "cell_type": "markdown",
      "source": [
        "**Simple Tranformers / [T5 Model](https://simpletransformers.ai/docs/t5-model/)**"
      ],
      "metadata": {
        "id": "PzjgrqYM6q-R"
      }
    },
    {
      "cell_type": "code",
      "source": [
        "# Configuring a T5Model\n",
        "model_args = T5Args()\n",
        "\n",
        "model_args.max_length = 100\n",
        "# The max length of the sequence to be generated. Between 0 and infinity. Default to 20.\n",
        "\n",
        "model_args.length_penalty = 2.0\n",
        "# Exponential penalty to the length that is used with beam-based generation. (Default to 2.0)\n",
        "# It is applied as an exponent to the sequence length, which in turn is used to divide \n",
        "# the score of the sequence. Since the score is the log likelihood of the sequence (i.e. negative), \n",
        "# length_penalty > 0.0 promotes longer sequences, while length_penalty < 0.0 encourages shorter sequences.\n",
        "\n",
        "# Load T5Model\n",
        "model = T5Model(\"t5\", \"thanathorn/mt5-cpe-kmutt-thai-sentence-sum\", use_cuda=cuda.is_available(),\n",
        "                args=model_args)"
      ],
      "metadata": {
        "id": "SZ3OCMAke2_b",
        "colab": {
          "base_uri": "https://localhost:8080/"
        },
        "outputId": "18ec0ca4-6878-4a10-b680-aa2c8e06fdc3"
      },
      "execution_count": 25,
      "outputs": [
        {
          "output_type": "stream",
          "name": "stderr",
          "text": [
            "You are using a model of type mt5 to instantiate a model of type t5. This is not supported for all configurations of models and can yield errors.\n"
          ]
        }
      ]
    },
    {
      "cell_type": "code",
      "source": [
        "sentences = [\n",
        "    \"ถ้าพูดถึงขนมหวานในตำนานที่ชื่นใจที่สุดแล้วละก็ต้องไม่พ้น น้ำแข็งใส แน่เพราะว่าเป็นอะไรที่ชื่นใจสุด\",\n",
        "\n",
        "    \"สถาบันวิทยาการหุ่นยนต์ภาคสนาม มหาวิทยาลัยเทคโนโลยีพระจอมเกล้าธนบุรี หรือเรียกว่าฟีโบ้ (FIBO) เป็นหน่วยงานระดับคณะ \\\n",
        "ในสังกัดมหาวิทยาลัยเทคโนโลยีพระจอมเกล้าธนบุรี เริ่มเปิดทำการเรียนการสอนเมื่อ พ.ศ. 2538 ในชื่อ ศูนย์ปฏิบัติการพัฒนาหุ่นยนต์ภาคสนาม \\\n",
        "ตามแผนพัฒนาการศึกษาฉบับที่ 7 เพื่อวิจัยพัฒนาการศึกษาระดับสูงทางด้านวิชาการหุ่นยนต์ และงานวิจัยทางด้านระบบอัตโนมัติในภาคอุตสาหกรรม \\\n",
        "รวมถึงการให้บริการรับปรึกษาด้านอุตสาหกรรมต่างๆภายในประเทศ\",\n",
        "\n",
        "    \"หุ่นยนต์ประชาสัมพันธ์นะโม เป็นหุ่นยนต์กึ่งหุ่นยนต์ฮิวแมนนอยด์ ท่อนบนมีลักษณะเป็นหุ่นยนต์ที่มีลักษณะคล้ายมนุษย์ \\\n",
        "ส่วนท่อนล่างเป็นล้อเพื่อเพิ่มความคล่องตัวและเสถียรภาพในการเคลื่อนที่ ประดิษฐ์โดยนักวิจัยของสถาบันวิทยาการหุ่นยนต์ภาคสนาม \\\n",
        "นายบุญเลิศ มณีฉาย, ดร.ถวิดามณีวรรณ์ และ ศูนย์การศึกษาในเมือง(CODE) สนับสนุนทุนโดยมหาวิทยาลัยเทคโนโลยีพระจอมเกล้าธนบุรี \\\n",
        "เผยแพร่ผลงานเมื่อ 29 มีนาคม พ.ศ. 2553\",\n",
        "]\n",
        "prediction = model.predict(sentences)\n",
        "\n",
        "# for p in prediction: print(p)\n",
        "\n",
        "print(\"\\n<input length> => <output length> | prediction result\\n\")\n",
        "for i in range(len(prediction)): \n",
        "    print(f\"<{len(sentences[i])}> => <{len(prediction[i])}> | {prediction[i]}\")"
      ],
      "metadata": {
        "colab": {
          "base_uri": "https://localhost:8080/",
          "height": 209,
          "referenced_widgets": [
            "7d7d0bdebd75430f81900df9af1626f9",
            "96f33fc8ac9f441184d2747643e98e0f",
            "41d97469af3942dfae3ffd43c215fd1b",
            "e1e72a38d818488fb55268b9b0bd4cc7",
            "f2eb5ab3ad7d4f87ae2134314cde8f1f",
            "61cec6859ce14d1198ce95f1cf713cfa",
            "7a9f6cf5a684434a810f251a9002ca43",
            "7ad551caf7ce4d0a9fc11674f93afdc4",
            "65f353192e7446718f737aa4efee8cf7",
            "8a9f214447eb4fc0b17c5d0c56fcb957",
            "8ecd62d6e7564fcb9c6fabf71dd51fb2",
            "90d9c1180e52428bbd267cf2625a05d4",
            "e790d77ee75a43eca785d1bb2947e383",
            "512027f26763455ebab8964e53692bb7",
            "ed9e724bcc604b608b1ddfdfba4eb460",
            "7a578023931d46b084b544e4288562e2",
            "342ab4f514ce4c1d994a7fffbec5ea6b",
            "eea48c02809a4959a7bf4b8d7544dd4b",
            "e415fee02bdc46fbb7e5ea204679d431",
            "8cfc0a07f73a48849d835f3400aea30a",
            "5d46195195db4a41830ab718461d8848",
            "6ee01c16d9ac40cab60184f2149d0ce5"
          ]
        },
        "id": "PI_w3hz7fZhA",
        "outputId": "9ade87b5-a2e1-4eb6-e3c8-99e4d3a4b686"
      },
      "execution_count": 31,
      "outputs": [
        {
          "output_type": "display_data",
          "data": {
            "text/plain": [
              "Generating outputs:   0%|          | 0/1 [00:00<?, ?it/s]"
            ],
            "application/vnd.jupyter.widget-view+json": {
              "version_major": 2,
              "version_minor": 0,
              "model_id": "7d7d0bdebd75430f81900df9af1626f9"
            }
          },
          "metadata": {}
        },
        {
          "output_type": "display_data",
          "data": {
            "text/plain": [
              "Decoding outputs:   0%|          | 0/3 [00:00<?, ?it/s]"
            ],
            "application/vnd.jupyter.widget-view+json": {
              "version_major": 2,
              "version_minor": 0,
              "model_id": "90d9c1180e52428bbd267cf2625a05d4"
            }
          },
          "metadata": {}
        },
        {
          "output_type": "stream",
          "name": "stdout",
          "text": [
            "\n",
            "<input length> => <output length> | prediction result\n",
            "\n",
            "<98> => <33> | น้ําแข็งใสเป็นอะไรที่ชื่นใจที่สุด\n",
            "<431> => <152> | สถาบันวิทยาการหุ่นยนต์ภาคสนาม มหาวิทยาลัยเทคโนโลยีพระจอมเกล้าธนบุรี เริ่มเปิดทําการเรียนการสอนเมื่อ พ.ศ. 2536 ในชื่อ ศูนย์ปฏิบัติการพัฒนาหุ่นยนต์ภาคสนาม\n",
            "<388> => <110> | หุ่นยนต์ประชาสัมพันธ์นะโม เป็นหุ่นยนต์กึ่งหุ่นยนต์ฮิวแมนนอยด์ ท่อนบนมีลักษณะเป็นหุ่นยนต์ที่มีลักษณะคล้ายมนุษย์\n"
          ]
        }
      ]
    },
    {
      "cell_type": "markdown",
      "source": [
        "(Note from author) Here is a short example:\n",
        "\n",
        "``` python\n",
        "model_inputs = tokenizer(src_texts, ...)\n",
        "with tokenizer.as_target_tokenizer():\n",
        "    labels = tokenizer(tgt_texts, ...)\n",
        "model_inputs[\"labels\"] = labels[\"input_ids\"]\n",
        "```\n",
        "\n",
        "See the documentation of your specific tokenizer for more details on the specific arguments to the tokenizer of choice.\n",
        "For a more complete example, see the implementation of `prepare_seq2seq_batch`."
      ],
      "metadata": {
        "id": "ioQ6UILo3Z9X"
      }
    },
    {
      "cell_type": "markdown",
      "source": [
        "# Method 2: In progress"
      ],
      "metadata": {
        "id": "MjfutWu9pCfU"
      }
    },
    {
      "cell_type": "code",
      "source": [
        "from transformers import AutoTokenizer, AutoModelForSeq2SeqLM, MT5Model"
      ],
      "metadata": {
        "id": "JWWW0d2kHT9J"
      },
      "execution_count": 35,
      "outputs": []
    },
    {
      "cell_type": "markdown",
      "source": [
        "**Hugging face Tranformers / [mT5](https://huggingface.co/docs/transformers/main/en/model_doc/mt5#transformers.MT5ForConditionalGeneration)**"
      ],
      "metadata": {
        "id": "zmSOQzsPGvEg"
      }
    },
    {
      "cell_type": "code",
      "source": [
        "tokenizer = AutoTokenizer.from_pretrained(\"thanathorn/mt5-cpe-kmutt-thai-sentence-sum\")\n",
        "\n",
        "model = AutoModelForSeq2SeqLM.from_pretrained(\"thanathorn/mt5-cpe-kmutt-thai-sentence-sum\")\n",
        "\n",
        "# model = MT5Model.from_pretrained(\"thanathorn/mt5-cpe-kmutt-thai-sentence-sum\")\n",
        "# ??"
      ],
      "metadata": {
        "id": "PssViwJKplV4",
        "colab": {
          "base_uri": "https://localhost:8080/"
        },
        "outputId": "b479cb0d-9c05-4072-ffe1-15d01e943a4e"
      },
      "execution_count": 36,
      "outputs": [
        {
          "output_type": "stream",
          "name": "stderr",
          "text": [
            "/usr/local/lib/python3.10/dist-packages/transformers/convert_slow_tokenizer.py:454: UserWarning: The sentencepiece tokenizer that you are converting to a fast tokenizer uses the byte fallback option which is not implemented in the fast tokenizers. In practice this means that the fast version of the tokenizer can produce unknown tokens whereas the sentencepiece version would have converted these unknown tokens into a sequence of byte tokens matching the original piece of text.\n",
            "  warnings.warn(\n",
            "Some weights of the model checkpoint at thanathorn/mt5-cpe-kmutt-thai-sentence-sum were not used when initializing MT5Model: ['lm_head.weight']\n",
            "- This IS expected if you are initializing MT5Model from the checkpoint of a model trained on another task or with another architecture (e.g. initializing a BertForSequenceClassification model from a BertForPreTraining model).\n",
            "- This IS NOT expected if you are initializing MT5Model from the checkpoint of a model that you expect to be exactly identical (initializing a BertForSequenceClassification model from a BertForSequenceClassification model).\n"
          ]
        }
      ]
    }
  ]
}